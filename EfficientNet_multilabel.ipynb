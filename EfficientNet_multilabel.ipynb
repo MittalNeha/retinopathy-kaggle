{
  "nbformat": 4,
  "nbformat_minor": 0,
  "metadata": {
    "colab": {
      "name": "EfficientNet multilabel.ipynb",
      "version": "0.3.2",
      "provenance": [],
      "toc_visible": true,
      "machine_shape": "hm",
      "include_colab_link": true
    },
    "kernelspec": {
      "name": "python3",
      "display_name": "Python 3"
    },
    "accelerator": "GPU"
  },
  "cells": [
    {
      "cell_type": "markdown",
      "metadata": {
        "id": "view-in-github",
        "colab_type": "text"
      },
      "source": [
        "<a href=\"https://colab.research.google.com/github/MittalNeha/retinopathy-kaggle/blob/master/EfficientNet_multilabel.ipynb\" target=\"_parent\"><img src=\"https://colab.research.google.com/assets/colab-badge.svg\" alt=\"Open In Colab\"/></a>"
      ]
    },
    {
      "cell_type": "code",
      "metadata": {
        "id": "GMNM_ZaOgwPy",
        "colab_type": "code",
        "colab": {}
      },
      "source": [
        "# It is defined by the kaggle/python docker image: https://github.com/kaggle/docker-python\n",
        "# For example, here's several helpful packages to load in \n",
        "\n",
        "import os\n",
        "import glob\n",
        "import h5py\n",
        "import shutil\n",
        "import imgaug as aug\n",
        "import numpy as np # linear algebra\n",
        "import pandas as pd # data processing, CSV file I/O (e.g. pd.read_csv)\n",
        "import seaborn as sns\n",
        "import matplotlib.pyplot as plt\n",
        "import matplotlib.image as mimg\n",
        "import imgaug.augmenters as iaa\n",
        "from os import listdir, makedirs, getcwd, remove\n",
        "from os.path import isfile, join, abspath, exists, isdir, expanduser\n",
        "from PIL import Image\n",
        "from pathlib import Path\n",
        "from skimage.io import imread\n",
        "from skimage.transform import resize\n",
        "\n",
        "from keras.models import Sequential, Model\n",
        "from keras.applications.vgg16 import VGG16, preprocess_input\n",
        "from keras.preprocessing.image import ImageDataGenerator,load_img, img_to_array\n",
        "from keras.models import Sequential, load_model\n",
        "from keras.layers import (Activation, Conv2D, MaxPooling2D, Dense, Dropout, Input, Flatten, SeparableConv2D,\n",
        "                          Dense, BatchNormalization, GlobalAveragePooling2D)\n",
        "from keras.layers import GlobalMaxPooling2D\n",
        "from keras.layers.normalization import BatchNormalization\n",
        "from keras.layers.merge import Concatenate\n",
        "from keras.models import Model\n",
        "from keras.optimizers import Adam, SGD, RMSprop\n",
        "from keras.callbacks import ModelCheckpoint, Callback, EarlyStopping\n",
        "from keras.utils import Sequence\n",
        "from keras.utils import to_categorical\n",
        "from keras.losses import binary_crossentropy, categorical_crossentropy\n",
        "\n",
        "from keras.applications.resnet50 import ResNet50\n",
        "# from keras.applications.res\n",
        "\n",
        "from sklearn.model_selection import train_test_split\n",
        "from sklearn.preprocessing import StandardScaler\n",
        "from mlxtend.plotting import plot_confusion_matrix\n",
        "from keras import metrics\n",
        "from sklearn.metrics import confusion_matrix, cohen_kappa_score\n",
        "from sklearn.utils import class_weight, shuffle\n",
        "import cv2\n",
        "from keras import backend as K\n",
        "import tensorflow as tf\n",
        "\n",
        "from sklearn.preprocessing import MultiLabelBinarizer\n",
        "\n",
        "from tqdm import tqdm\n",
        "\n",
        "color = sns.color_palette()\n",
        "%matplotlib inline\n",
        "\n",
        "# Input data files are available in the \"../input/\" directory.\n",
        "# For example, running this (by clicking run or pressing Shift+Enter) will list the files in the input directory\n"
      ],
      "execution_count": 0,
      "outputs": []
    },
    {
      "cell_type": "code",
      "metadata": {
        "id": "-jzw7yIaiaLR",
        "colab_type": "code",
        "colab": {}
      },
      "source": [
        "# from google.colab import drive\n",
        "# drive.mount('/content/gdrive', force_remount=True)"
      ],
      "execution_count": 0,
      "outputs": []
    },
    {
      "cell_type": "code",
      "metadata": {
        "id": "Ao3wR7Axiaq1",
        "colab_type": "code",
        "colab": {}
      },
      "source": [
        "def get_kaggle_data():\n",
        "  os.environ['KAGGLE_USERNAME'] = \"mittalneha\"\n",
        "  os.environ['KAGGLE_KEY'] = \"59ec3f992f5fb4b510bebd8dea889381\"\n",
        "  \n",
        "#   !kaggle competitions download -c aptos2019-blindness-detection\n",
        "  \n",
        "#   !mkdir kaggle-data\n",
        "#   !mv sample_submission.csv kaggle-data/\n",
        "#   !mv test.csv kaggle-data/\n",
        "\n",
        "#   !unzip test_images.zip -d kaggle-data/test_images\n",
        "\n",
        "  !cp /content/gdrive/My\\ Drive/Retinopathy/data/aug_train_images.zip .\n",
        "  !cp /content/gdrive/My\\ Drive/Retinopathy/data/aug_train.csv .\n",
        "  \n",
        "  !unzip aug_train_images.zip\n",
        "  !mv aug_train_images kaggle-data/\n",
        "  !mv aug_train.csv kaggle-data/\n",
        "  \n",
        "  !kaggle datasets download -d ratthachat/efficientnet-keras-weights-b0b5\n",
        "  !cp /content/gdrive/My\\ Drive/Retinopathy/data/efficientnet-master.zip .\n",
        "  !unzip efficientnet-keras-weights-b0b5 -d kaggle-data/efficientnets-weights/\n",
        "  !unzip efficientnet-master.zip\n",
        "  "
      ],
      "execution_count": 0,
      "outputs": []
    },
    {
      "cell_type": "code",
      "metadata": {
        "id": "migL32nXiel8",
        "colab_type": "code",
        "colab": {}
      },
      "source": [
        "data_dir = \"kaggle-data\"\n",
        "# get_kaggle_data()"
      ],
      "execution_count": 0,
      "outputs": []
    },
    {
      "cell_type": "code",
      "metadata": {
        "id": "gB2uiTp1rAx6",
        "colab_type": "code",
        "colab": {}
      },
      "source": [
        "# sys.path.remove('/content/efficientnet-master')"
      ],
      "execution_count": 0,
      "outputs": []
    },
    {
      "cell_type": "code",
      "metadata": {
        "id": "ga2ZErsXuN9w",
        "colab_type": "code",
        "colab": {}
      },
      "source": [
        "# !pip install efficientnet-master/"
      ],
      "execution_count": 0,
      "outputs": []
    },
    {
      "cell_type": "code",
      "metadata": {
        "id": "0MuM82iWgV0v",
        "colab_type": "code",
        "colab": {}
      },
      "source": [
        "import sys\n",
        "sys.path.append(os.path.abspath('efficientnet-master/'))\n",
        "import efficientnet.keras as efn "
      ],
      "execution_count": 0,
      "outputs": []
    },
    {
      "cell_type": "code",
      "metadata": {
        "id": "VJlLRV1aiiv1",
        "colab_type": "code",
        "colab": {}
      },
      "source": [
        "WORKERS = 2\n",
        "CHANNEL = 3\n",
        "\n",
        "import warnings\n",
        "warnings.filterwarnings(\"ignore\")\n",
        "SIZE = 224\n",
        "NUM_CLASSES = 5"
      ],
      "execution_count": 0,
      "outputs": []
    },
    {
      "cell_type": "code",
      "metadata": {
        "id": "Lm4lMspKiqkU",
        "colab_type": "code",
        "outputId": "73c12109-4957-426c-80a3-abee10ce2d1d",
        "colab": {
          "base_uri": "https://localhost:8080/",
          "height": 286
        }
      },
      "source": [
        "df_train = pd.read_csv('kaggle-data/aug_train.csv')\n",
        "df_test = pd.read_csv('kaggle-data/test.csv')\n",
        "\n",
        "df_train.columns = ['id_code', 'diagnosis']\n",
        "\n",
        "x = df_train['id_code']\n",
        "y = df_train['diagnosis']\n",
        "\n",
        "# x, y = shuffle(x, y, random_state=8)\n",
        "y.hist()\n"
      ],
      "execution_count": 33,
      "outputs": [
        {
          "output_type": "execute_result",
          "data": {
            "text/plain": [
              "<matplotlib.axes._subplots.AxesSubplot at 0x7f7e09ff4e48>"
            ]
          },
          "metadata": {
            "tags": []
          },
          "execution_count": 33
        },
        {
          "output_type": "display_data",
          "data": {
            "image/png": "[encoded data removed]",
            "text/plain": [
              "<Figure size 432x288 with 1 Axes>"
            ]
          },
          "metadata": {
            "tags": []
          }
        }
      ]
    },
    {
      "cell_type": "code",
      "metadata": {
        "id": "5s56_kEjvd2D",
        "colab_type": "code",
        "outputId": "cc4c287e-76b6-49eb-e8cf-2ffa36adef78",
        "colab": {
          "base_uri": "https://localhost:8080/",
          "height": 204
        }
      },
      "source": [
        "def get_label(diagnosis):\n",
        "  return [i for i in range(diagnosis + 1)]\n",
        "#     return ','.join([str(i+1) for i in range(diagnosis + 1)])\n",
        "df_train['label'] = df_train.diagnosis.apply(get_label)\n",
        "df_train.head()"
      ],
      "execution_count": 34,
      "outputs": [
        {
          "output_type": "execute_result",
          "data": {
            "text/html": [
              "<div>\n",
              "<style scoped>\n",
              "    .dataframe tbody tr th:only-of-type {\n",
              "        vertical-align: middle;\n",
              "    }\n",
              "\n",
              "    .dataframe tbody tr th {\n",
              "        vertical-align: top;\n",
              "    }\n",
              "\n",
              "    .dataframe thead th {\n",
              "        text-align: right;\n",
              "    }\n",
              "</style>\n",
              "<table border=\"1\" class=\"dataframe\">\n",
              "  <thead>\n",
              "    <tr style=\"text-align: right;\">\n",
              "      <th></th>\n",
              "      <th>id_code</th>\n",
              "      <th>diagnosis</th>\n",
              "      <th>label</th>\n",
              "    </tr>\n",
              "  </thead>\n",
              "  <tbody>\n",
              "    <tr>\n",
              "      <th>0</th>\n",
              "      <td>000c1434d8d7_0</td>\n",
              "      <td>2</td>\n",
              "      <td>[0, 1, 2]</td>\n",
              "    </tr>\n",
              "    <tr>\n",
              "      <th>1</th>\n",
              "      <td>001639a390f0</td>\n",
              "      <td>4</td>\n",
              "      <td>[0, 1, 2, 3, 4]</td>\n",
              "    </tr>\n",
              "    <tr>\n",
              "      <th>2</th>\n",
              "      <td>001639a390f0_0</td>\n",
              "      <td>4</td>\n",
              "      <td>[0, 1, 2, 3, 4]</td>\n",
              "    </tr>\n",
              "    <tr>\n",
              "      <th>3</th>\n",
              "      <td>001639a390f0_1</td>\n",
              "      <td>4</td>\n",
              "      <td>[0, 1, 2, 3, 4]</td>\n",
              "    </tr>\n",
              "    <tr>\n",
              "      <th>4</th>\n",
              "      <td>001639a390f0_2</td>\n",
              "      <td>4</td>\n",
              "      <td>[0, 1, 2, 3, 4]</td>\n",
              "    </tr>\n",
              "  </tbody>\n",
              "</table>\n",
              "</div>"
            ],
            "text/plain": [
              "          id_code  diagnosis            label\n",
              "0  000c1434d8d7_0          2        [0, 1, 2]\n",
              "1    001639a390f0          4  [0, 1, 2, 3, 4]\n",
              "2  001639a390f0_0          4  [0, 1, 2, 3, 4]\n",
              "3  001639a390f0_1          4  [0, 1, 2, 3, 4]\n",
              "4  001639a390f0_2          4  [0, 1, 2, 3, 4]"
            ]
          },
          "metadata": {
            "tags": []
          },
          "execution_count": 34
        }
      ]
    },
    {
      "cell_type": "code",
      "metadata": {
        "id": "BoY00NWKxo-3",
        "colab_type": "code",
        "colab": {}
      },
      "source": [
        "mlb = MultiLabelBinarizer(classes=[0,1,2,3,4])\n",
        "# labels = [(1,2), (1,), (1,2)]\n",
        "\n",
        "# y = mlb.fit_transform(y)\n",
        "# mlb.fit_transform(labels)\n",
        "# mlb.fit_transform(list(y[i]) for i in range(0,len(y)))\n",
        "# yy = mlb.fit_transform(df_train['diagnosis'])\n",
        "# mlb.classes_"
      ],
      "execution_count": 0,
      "outputs": []
    },
    {
      "cell_type": "code",
      "metadata": {
        "id": "5K22T2Aiiv4l",
        "colab_type": "code",
        "outputId": "6437c5db-1d98-40ac-ac69-890746843879",
        "colab": {
          "base_uri": "https://localhost:8080/",
          "height": 85
        }
      },
      "source": [
        "y = df_train['label']\n",
        "y = mlb.fit_transform(y)\n",
        "# y = to_categorical(y, num_classes=NUM_CLASSES)\n",
        "train_x, valid_x, train_y, valid_y = train_test_split(x, y, test_size=0.15,\n",
        "                                                      stratify=y, random_state=8)\n",
        "print(train_x.shape)\n",
        "print(train_y.shape)\n",
        "print(valid_x.shape)\n",
        "print(valid_y.shape)"
      ],
      "execution_count": 36,
      "outputs": [
        {
          "output_type": "stream",
          "text": [
            "(7785,)\n",
            "(7785, 5)\n",
            "(1374,)\n",
            "(1374, 5)\n"
          ],
          "name": "stdout"
        }
      ]
    },
    {
      "cell_type": "code",
      "metadata": {
        "id": "uUR2sajlOr1r",
        "colab_type": "code",
        "colab": {}
      },
      "source": [
        "sometimes = lambda aug: iaa.Sometimes(0.5, aug)\n",
        "seq = iaa.Sequential([\n",
        "    sometimes(\n",
        "        iaa.OneOf([\n",
        "            iaa.Add((-10, 10), per_channel=0.5),\n",
        "            iaa.Multiply((0.9, 1.1), per_channel=0.5),\n",
        "            iaa.ContrastNormalization((0.9, 1.1), per_channel=0.5)\n",
        "        ])\n",
        "    ),\n",
        "    iaa.Fliplr(0.5),\n",
        "    iaa.Crop(percent=(0, 0.1)),\n",
        "    iaa.Flipud(0.5)\n",
        "],random_order=True)"
      ],
      "execution_count": 0,
      "outputs": []
    },
    {
      "cell_type": "code",
      "metadata": {
        "id": "24XlFfhmi7Du",
        "colab_type": "code",
        "colab": {}
      },
      "source": [
        "class My_Generator(Sequence):\n",
        "\n",
        "    def __init__(self, image_filenames, labels,\n",
        "                 batch_size, is_train=True,\n",
        "                 mix=False, augment=False):\n",
        "        self.image_filenames, self.labels = image_filenames, labels\n",
        "        self.batch_size = batch_size\n",
        "        self.is_train = is_train\n",
        "        self.is_augment = augment\n",
        "        if(self.is_train):\n",
        "            self.on_epoch_end()\n",
        "        self.is_mix = mix\n",
        "\n",
        "    def __len__(self):\n",
        "        return int(np.ceil(len(self.image_filenames) / float(self.batch_size)))\n",
        "\n",
        "    def __getitem__(self, idx):\n",
        "        batch_x = self.image_filenames[idx * self.batch_size:(idx + 1) * self.batch_size]\n",
        "        batch_y = self.labels[idx * self.batch_size:(idx + 1) * self.batch_size]\n",
        "\n",
        "        if(self.is_train):\n",
        "            return self.train_generate(batch_x, batch_y)\n",
        "        return self.valid_generate(batch_x, batch_y)\n",
        "\n",
        "    def on_epoch_end(self):\n",
        "        if(self.is_train):\n",
        "            self.image_filenames, self.labels = shuffle(self.image_filenames, self.labels)\n",
        "        else:\n",
        "            pass\n",
        "    \n",
        "    def mix_up(self, x, y):\n",
        "        lam = np.random.beta(0.2, 0.4)\n",
        "        ori_index = np.arange(int(len(x)))\n",
        "        index_array = np.arange(int(len(x)))\n",
        "        np.random.shuffle(index_array)        \n",
        "        \n",
        "        mixed_x = lam * x[ori_index] + (1 - lam) * x[index_array]\n",
        "        mixed_y = lam * y[ori_index] + (1 - lam) * y[index_array]\n",
        "        \n",
        "        return mixed_x, mixed_y\n",
        "\n",
        "    def train_generate(self, batch_x, batch_y):\n",
        "        batch_images = []\n",
        "        for (sample, label) in zip(batch_x, batch_y):\n",
        "            img = cv2.imread('kaggle-data/aug_train_images/'+sample+'.png')\n",
        "#             img = cv2.resize(img, (SIZE, SIZE))\n",
        "            if(self.is_augment):\n",
        "                img = seq.augment_image(img)\n",
        "            batch_images.append(img)\n",
        "        batch_images = np.array(batch_images, np.float32) / 255\n",
        "        batch_y = np.array(batch_y, np.float32)\n",
        "        if(self.is_mix):\n",
        "            batch_images, batch_y = self.mix_up(batch_images, batch_y)\n",
        "        return batch_images, batch_y\n",
        "\n",
        "    def valid_generate(self, batch_x, batch_y):\n",
        "        batch_images = []\n",
        "        for (sample, label) in zip(batch_x, batch_y):\n",
        "            img = cv2.imread('kaggle-data/aug_train_images/'+sample+'.png')\n",
        "#             img = cv2.resize(img, (SIZE, SIZE))\n",
        "            batch_images.append(img)\n",
        "        batch_images = np.array(batch_images, np.float32) / 255\n",
        "        batch_y = np.array(batch_y, np.float32)\n",
        "        return batch_images, batch_y"
      ],
      "execution_count": 0,
      "outputs": []
    },
    {
      "cell_type": "code",
      "metadata": {
        "id": "setrP6gS1fxa",
        "colab_type": "code",
        "colab": {}
      },
      "source": [
        "from keras.layers import LeakyReLU"
      ],
      "execution_count": 0,
      "outputs": []
    },
    {
      "cell_type": "code",
      "metadata": {
        "id": "NmEdbXXQkyKX",
        "colab_type": "code",
        "colab": {}
      },
      "source": [
        "def create_model(input_shape, n_out, model_weights):\n",
        "    input_tensor = Input(shape=input_shape)\n",
        "    base_model = efn.EfficientNetB5(include_top=False,\n",
        "                   weights=None,\n",
        "                   input_tensor=input_tensor)\n",
        "    base_model.load_weights('kaggle-data/efficientnets-weights/efficientnet-b5_imagenet_1000_notop.h5')\n",
        "#     x = GlobalAveragePooling2D()(base_model.output)\n",
        "    \n",
        "    classifier = Sequential()\n",
        "    classifier.add(GlobalAveragePooling2D())\n",
        "#     classifier.add(Flatten())   \n",
        "    classifier.add(Dropout(0.5))\n",
        "    \n",
        "    classifier.add(Dense(1024))\n",
        "    classifier.add(BatchNormalization())\n",
        "    classifier.add(LeakyReLU())\n",
        "    classifier.add(Dropout(0.5))\n",
        "    \n",
        "    classifier.add(Dense(n_out, activation='sigmoid', name='final_output'))\n",
        "    #Use sigmoid for multilabel and softmax for single label classification\n",
        "#     final_output = Dense(n_out, activation='sigmoid', name='final_output')(classifier.output)\n",
        "    \n",
        "    model = Sequential([\n",
        "    base_model, \n",
        "    classifier\n",
        "])\n",
        "#     model = Model(input_tensor, final_output)\n",
        "#     model.load_weights(model_weights)\n",
        "    \n",
        "    return model"
      ],
      "execution_count": 0,
      "outputs": []
    },
    {
      "cell_type": "code",
      "metadata": {
        "id": "EUqaxNJecbbv",
        "colab_type": "code",
        "colab": {}
      },
      "source": [
        "from keras.callbacks import LambdaCallback\n",
        "import math\n",
        "\n",
        "class LRFinder:\n",
        "    \"\"\"\n",
        "    Plots the change of the loss function of a Keras model when the learning rate is exponentially increasing.\n",
        "    See for details:\n",
        "    https://towardsdatascience.com/estimating-optimal-learning-rate-for-a-deep-neural-network-ce32f2556ce0\n",
        "    \"\"\"\n",
        "    def __init__(self, model):\n",
        "        self.model = model\n",
        "        self.losses = []\n",
        "        self.lrs = []\n",
        "        self.best_loss = 1e9\n",
        "\n",
        "    def on_batch_end(self, batch, logs):\n",
        "        # Log the learning rate\n",
        "        lr = K.get_value(self.model.optimizer.lr)\n",
        "        self.lrs.append(lr)\n",
        "\n",
        "        # Log the loss\n",
        "        loss = logs['loss']\n",
        "        self.losses.append(loss)\n",
        "\n",
        "        # Check whether the loss got too large or NaN\n",
        "        \n",
        "          \n",
        "        if math.isnan(loss) or loss > self.best_loss *100:\n",
        "            self.model.stop_training = True\n",
        "            print(\"Stop Training {}, best_loss{}, lr{}\".format(loss, self.best_loss, lr))\n",
        "            return\n",
        "\n",
        "        if loss < self.best_loss:\n",
        "            self.best_loss = loss\n",
        "\n",
        "        # Increase the learning rate for the next batch\n",
        "        lr *= self.lr_mult\n",
        "        K.set_value(self.model.optimizer.lr, lr)\n",
        "#         print(\"Current Learning Rate{}\".format(lr))\n",
        "\n",
        "    def find(self, train_gen, start_lr, end_lr, batch_size=64, epochs=1, steps=1):\n",
        "        num_batches = epochs * steps\n",
        "#         x_train.shape[0] / batch_size\n",
        "        self.lr_mult = (end_lr / start_lr) ** (1 / num_batches)\n",
        "        print(self.lr_mult)\n",
        "\n",
        "        # Save weights into a file\n",
        "        self.model.save_weights('tmp.h5')\n",
        "\n",
        "        # Remember the original learning rate\n",
        "        original_lr = K.get_value(self.model.optimizer.lr)\n",
        "\n",
        "        # Set the initial learning rate\n",
        "        K.set_value(self.model.optimizer.lr, start_lr)\n",
        "\n",
        "        callback = LambdaCallback(on_batch_end=lambda batch, logs: self.on_batch_end(batch, logs))\n",
        "\n",
        "#         self.model.fit(x_train, y_train,\n",
        "#                         batch_size=batch_size, epochs=epochs,\n",
        "#                         callbacks=[callback])\n",
        "#         print(\"Calling fit\")\n",
        "        self.model.fit_generator(\n",
        "                  train_gen,\n",
        "                  steps_per_epoch=steps,\n",
        "                  \n",
        "                  epochs=epochs,\n",
        "                  verbose=1,\n",
        "                  workers=1, use_multiprocessing=False,\n",
        "                  callbacks=[callback])\n",
        "    \n",
        "#         print(\"After fit\")\n",
        "\n",
        "        # Restore the weights to the state before model fitting\n",
        "        self.model.load_weights('tmp.h5')\n",
        "\n",
        "        # Restore the original learning rate\n",
        "        K.set_value(self.model.optimizer.lr, original_lr)\n",
        "        print(\"Set lr to {}\".format(original_lr))\n",
        "\n",
        "    def plot_loss(self, n_skip_beginning=10, n_skip_end=5):\n",
        "        \"\"\"\n",
        "        Plots the loss.\n",
        "        Parameters:\n",
        "            n_skip_beginning - number of batches to skip on the left.\n",
        "            n_skip_end - number of batches to skip on the right.\n",
        "        \"\"\"\n",
        "        plt.ylabel(\"loss\")\n",
        "        plt.xlabel(\"learning rate (log scale)\")\n",
        "        plt.plot(self.lrs[n_skip_beginning:-n_skip_end], self.losses[n_skip_beginning:-n_skip_end])\n",
        "        plt.xscale('log')\n",
        "        \n",
        "\n",
        "    def get_derivatives(self, sma):\n",
        "        assert sma >= 1\n",
        "        derivatives = [0] * sma\n",
        "        for i in range(sma, len(self.lrs)):\n",
        "            derivatives.append((self.losses[i] - self.losses[i - sma]) / sma)\n",
        "        return derivatives\n",
        "    \n",
        "    def plot_loss_change(self, sma=1, n_skip_beginning=10, n_skip_end=5, y_lim=(-0.01, 0.01)):\n",
        "        \"\"\"\n",
        "        Plots rate of change of the loss function.\n",
        "        Parameters:\n",
        "            sma - number of batches for simple moving average to smooth out the curve.\n",
        "            n_skip_beginning - number of batches to skip on the left.\n",
        "            n_skip_end - number of batches to skip on the right.\n",
        "            y_lim - limits for the y axis.\n",
        "        \"\"\"\n",
        "        assert sma >= 1\n",
        "        derivatives = [0] * sma\n",
        "        for i in range(sma, len(self.lrs)):\n",
        "            derivative = (self.losses[i] - self.losses[i - sma]) / sma\n",
        "            derivatives.append(derivative)\n",
        "\n",
        "        plt.ylabel(\"rate of loss change\")\n",
        "        plt.xlabel(\"learning rate (log scale)\")\n",
        "        plt.plot(self.lrs[n_skip_beginning:-n_skip_end], derivatives[n_skip_beginning:-n_skip_end])\n",
        "        plt.xscale('log')\n",
        "        plt.ylim(y_lim)\n",
        "        \n",
        "    def get_best_lr(self, sma, n_skip_beginning=10, n_skip_end=5):\n",
        "        derivatives = self.get_derivatives(sma)\n",
        "        print(np.min(derivatives))\n",
        "        print(np.max(derivatives))\n",
        "        best_der_idx = np.argmax(derivatives[n_skip_beginning:-n_skip_end])\n",
        "        return self.lrs[n_skip_beginning:-n_skip_end][best_der_idx]"
      ],
      "execution_count": 0,
      "outputs": []
    },
    {
      "cell_type": "code",
      "metadata": {
        "id": "wbiFiWCjcVhz",
        "colab_type": "code",
        "outputId": "a4dcaf09-1238-49ac-f725-57e01cf59114",
        "colab": {
          "base_uri": "https://localhost:8080/",
          "height": 491
        }
      },
      "source": [
        "run_opts = tf.RunOptions(report_tensor_allocations_upon_oom = True)\n",
        "model = create_model(\n",
        "    input_shape=(SIZE,SIZE,3), \n",
        "    n_out=NUM_CLASSES,\n",
        "    model_weights='kaggle-data/resnet50/Resnet50_bestqwk.h5')\n",
        "model.compile(loss='binary_crossentropy',\n",
        "                  optimizer=Adam(),\n",
        "                  metrics=['accuracy'])\n",
        "lr_finder = LRFinder(model)\n",
        "\n",
        "def determineLearningRate():    \n",
        "    batch_size = 32\n",
        "    num_classes = NUM_CLASSES\n",
        "    epochs = 4\n",
        "    \n",
        "    train_generator = My_Generator(train_x, train_y, batch_size, is_train=True)\n",
        "    steps = np.ceil(float(len(train_x)) / float(batch_size))\n",
        "    print(steps)\n",
        "    lr_finder.find(train_generator, start_lr=0.00001, end_lr=0.1, batch_size=batch_size, epochs=epochs, steps=steps)\n",
        "    lr_finder.plot_loss(n_skip_beginning=20, n_skip_end=5)\n",
        "    plt.show()\n",
        "    return model\n",
        "determineLearningRate()"
      ],
      "execution_count": 42,
      "outputs": [
        {
          "output_type": "stream",
          "text": [
            "244.0\n",
            "1.0094814913716528\n",
            "Epoch 1/4\n",
            "244/244 [==============================] - 346s 1s/step - loss: 0.6964 - acc: 0.6324\n",
            "Epoch 2/4\n",
            "244/244 [==============================] - 305s 1s/step - loss: 0.2723 - acc: 0.8891\n",
            "Epoch 3/4\n",
            "244/244 [==============================] - 305s 1s/step - loss: 0.2425 - acc: 0.9047\n",
            "Epoch 4/4\n",
            "244/244 [==============================] - 305s 1s/step - loss: 0.7211 - acc: 0.7327\n",
            "Set lr to 0.0010000000474974513\n"
          ],
          "name": "stdout"
        },
        {
          "output_type": "display_data",
          "data": {
            "image/png": "[encoded data removed]",
            "text/plain": [
              "<Figure size 432x288 with 1 Axes>"
            ]
          },
          "metadata": {
            "tags": []
          }
        },
        {
          "output_type": "execute_result",
          "data": {
            "text/plain": [
              "<keras.engine.sequential.Sequential at 0x7f7a7f49a4a8>"
            ]
          },
          "metadata": {
            "tags": []
          },
          "execution_count": 42
        }
      ]
    },
    {
      "cell_type": "code",
      "metadata": {
        "id": "-rtQ5PoMMxuu",
        "colab_type": "code",
        "colab": {
          "base_uri": "https://localhost:8080/",
          "height": 34
        },
        "outputId": "2b9376b9-26cf-4f32-b5c2-eb23b0d85512"
      },
      "source": [
        "len(lr_finder.lrs)"
      ],
      "execution_count": 72,
      "outputs": [
        {
          "output_type": "execute_result",
          "data": {
            "text/plain": [
              "976"
            ]
          },
          "metadata": {
            "tags": []
          },
          "execution_count": 72
        }
      ]
    },
    {
      "cell_type": "code",
      "metadata": {
        "id": "ZPXfBay6Lk1P",
        "colab_type": "code",
        "colab": {
          "base_uri": "https://localhost:8080/",
          "height": 286
        },
        "outputId": "a59fcc57-2005-45f3-a324-97265645792c"
      },
      "source": [
        "plt.plot(lr_finder.lrs)"
      ],
      "execution_count": 66,
      "outputs": [
        {
          "output_type": "execute_result",
          "data": {
            "text/plain": [
              "[<matplotlib.lines.Line2D at 0x7f7a4b584048>]"
            ]
          },
          "metadata": {
            "tags": []
          },
          "execution_count": 66
        },
        {
          "output_type": "display_data",
          "data": {
            "image/png": "[encoded data removed]",
            "text/plain": [
              "<Figure size 432x288 with 1 Axes>"
            ]
          },
          "metadata": {
            "tags": []
          }
        }
      ]
    },
    {
      "cell_type": "code",
      "metadata": {
        "id": "t1zRVKfLNG0Y",
        "colab_type": "code",
        "colab": {
          "base_uri": "https://localhost:8080/",
          "height": 34
        },
        "outputId": "3d309368-2f52-43f0-9a23-b11aa751e7d8"
      },
      "source": [
        "lr_finder.lrs[280]"
      ],
      "execution_count": 82,
      "outputs": [
        {
          "output_type": "execute_result",
          "data": {
            "text/plain": [
              "0.00014045619"
            ]
          },
          "metadata": {
            "tags": []
          },
          "execution_count": 82
        }
      ]
    },
    {
      "cell_type": "code",
      "metadata": {
        "id": "ek43YdtdMkvm",
        "colab_type": "code",
        "colab": {
          "base_uri": "https://localhost:8080/",
          "height": 425
        },
        "outputId": "dcb0a330-92ab-4e30-f72b-8b5ab3f675f1"
      },
      "source": [
        "for idx, lr in enumerate(lr_finder.lrs):\n",
        "  if abs(lr-0.0001) <0.000011:\n",
        "    print('lr:{}, der{}'.format(lr, der[idx]))\n",
        "  "
      ],
      "execution_count": 85,
      "outputs": [
        {
          "output_type": "stream",
          "text": [
            "lr:8.929344767238945e-05, der0.009547555446624756\n",
            "lr:9.014008537633345e-05, der0.010408300161361694\n",
            "lr:9.099474846152589e-05, der-0.012284409999847413\n",
            "lr:9.185751696350053e-05, der0.01598127782344818\n",
            "lr:9.272846364183351e-05, der0.00686296820640564\n",
            "lr:9.36076685320586e-05, der0.003251376748085022\n",
            "lr:9.449521166970953e-05, der0.007986918091773987\n",
            "lr:9.539116581436247e-05, der0.0013180464506149293\n",
            "lr:9.629561827750877e-05, der-0.012093159556388854\n",
            "lr:9.720864181872457e-05, der0.003918248414993286\n",
            "lr:9.813032374950126e-05, der0.0004709482192993164\n",
            "lr:9.906074410537258e-05, der-0.004517486691474915\n",
            "lr:9.99999901978299e-05, der0.0002392113208770752\n",
            "lr:0.00010094814206240699, der-0.009109675884246826\n",
            "lr:0.00010190527973463759, der-0.013261240720748902\n",
            "lr:0.00010287149052601308, der-0.0007106214761734009\n",
            "lr:0.00010384686902398244, der-0.010985729098320008\n",
            "lr:0.00010483149526407942, der-0.0028750091791152955\n",
            "lr:0.0001058254565577954, der0.006919604539871216\n",
            "lr:0.00010682884021662176, der-0.014125066995620727\n",
            "lr:0.00010784173355204985, der-0.011477148532867432\n",
            "lr:0.00010886423115152866, der-0.01501900851726532\n",
            "lr:0.00010989642760250717, der0.0058985471725463865\n",
            "lr:0.00011093841021647677, der-0.015249073505401611\n"
          ],
          "name": "stdout"
        }
      ]
    },
    {
      "cell_type": "code",
      "metadata": {
        "id": "jLAF8ENblIGG",
        "colab_type": "code",
        "outputId": "ef662250-ae21-4bad-bfe1-1b2fdb24abcc",
        "colab": {
          "base_uri": "https://localhost:8080/",
          "height": 51
        }
      },
      "source": [
        "der = lr_finder.get_derivatives(10)\n",
        "print(np.min(der))\n",
        "print(np.max(der))"
      ],
      "execution_count": 67,
      "outputs": [
        {
          "output_type": "stream",
          "text": [
            "-0.13595679998397828\n",
            "0.1512671709060669\n"
          ],
          "name": "stdout"
        }
      ]
    },
    {
      "cell_type": "code",
      "metadata": {
        "id": "QoSYHdpSnOp0",
        "colab_type": "code",
        "outputId": "751f68f7-230c-4da7-a503-1a240576ee06",
        "colab": {
          "base_uri": "https://localhost:8080/",
          "height": 34
        }
      },
      "source": [
        "best_der_idx = np.argmin(der[10:-5])\n",
        "lr_finder.lrs[2:-5][best_der_idx]"
      ],
      "execution_count": 70,
      "outputs": [
        {
          "output_type": "execute_result",
          "data": {
            "text/plain": [
              "0.077507585"
            ]
          },
          "metadata": {
            "tags": []
          },
          "execution_count": 70
        }
      ]
    },
    {
      "cell_type": "code",
      "metadata": {
        "id": "_yuYf1ObLDCa",
        "colab_type": "code",
        "colab": {}
      },
      "source": [
        "aa = [d for d in der if d < 0]"
      ],
      "execution_count": 0,
      "outputs": []
    },
    {
      "cell_type": "code",
      "metadata": {
        "id": "I4kbMe-6LI4l",
        "colab_type": "code",
        "colab": {
          "base_uri": "https://localhost:8080/",
          "height": 1000
        },
        "outputId": "b9d2ad6b-3ab2-4450-d46b-14a5d39ccefe"
      },
      "source": [
        "aa"
      ],
      "execution_count": 65,
      "outputs": [
        {
          "output_type": "execute_result",
          "data": {
            "text/plain": [
              "[-0.05918574333190918,\n",
              " -0.14059531688690186,\n",
              " -0.004923999309539795,\n",
              " -0.03995025157928467,\n",
              " -0.048403382301330566,\n",
              " -0.10690760612487793,\n",
              " -0.07816386222839355,\n",
              " -0.029375970363616943,\n",
              " -0.01648944616317749,\n",
              " -0.0431520938873291,\n",
              " -0.052551090717315674,\n",
              " -0.037639617919921875,\n",
              " -0.07802700996398926,\n",
              " -0.11146128177642822,\n",
              " -0.07330876588821411,\n",
              " -0.016149938106536865,\n",
              " -0.05520987510681152,\n",
              " -0.024663329124450684,\n",
              " -0.058837950229644775,\n",
              " -0.03684127330780029,\n",
              " -0.20572221279144287,\n",
              " -0.06508249044418335,\n",
              " -0.07456612586975098,\n",
              " -0.0783151388168335,\n",
              " -0.0838547945022583,\n",
              " -0.07455426454544067,\n",
              " -0.1590978503227234,\n",
              " -0.11134546995162964,\n",
              " -0.16114461421966553,\n",
              " -0.07310497760772705,\n",
              " -0.0203704833984375,\n",
              " -0.026395440101623535,\n",
              " -0.07299035787582397,\n",
              " -0.11189717054367065,\n",
              " -0.04080629348754883,\n",
              " -0.08377575874328613,\n",
              " -0.07677978277206421,\n",
              " -0.057830095291137695,\n",
              " -0.07039833068847656,\n",
              " -0.03612351417541504,\n",
              " -0.039302051067352295,\n",
              " -0.11505669355392456,\n",
              " -0.05015885829925537,\n",
              " -0.07107847929000854,\n",
              " -0.08057451248168945,\n",
              " -0.03129935264587402,\n",
              " -0.09076476097106934,\n",
              " -0.07001811265945435,\n",
              " -0.0916374921798706,\n",
              " -0.007717311382293701,\n",
              " -0.06432455778121948,\n",
              " -0.12470769882202148,\n",
              " -0.0866008996963501,\n",
              " -0.053226590156555176,\n",
              " -0.026096343994140625,\n",
              " -0.010040879249572754,\n",
              " -0.14639580249786377,\n",
              " -0.002586066722869873,\n",
              " -0.0333440899848938,\n",
              " -0.001187145709991455,\n",
              " -0.15121620893478394,\n",
              " -0.10850554704666138,\n",
              " -0.0019663572311401367,\n",
              " -0.014303147792816162,\n",
              " -0.0692477822303772,\n",
              " -0.10494869947433472,\n",
              " -0.011767029762268066,\n",
              " -0.013836503028869629,\n",
              " -0.007822811603546143,\n",
              " -0.011649608612060547,\n",
              " -0.03806525468826294,\n",
              " -0.1170804500579834,\n",
              " -0.11689519882202148,\n",
              " -0.0305941104888916,\n",
              " -0.08525961637496948,\n",
              " -0.1495664119720459,\n",
              " -0.015054821968078613,\n",
              " -0.005967855453491211,\n",
              " -0.015680909156799316,\n",
              " -0.0668075680732727,\n",
              " -0.02256244421005249,\n",
              " -0.08262008428573608,\n",
              " -0.019605815410614014,\n",
              " -0.13770800828933716,\n",
              " -0.10506528615951538,\n",
              " -0.022378385066986084,\n",
              " -0.027278125286102295,\n",
              " -0.0902143120765686,\n",
              " -0.008941292762756348,\n",
              " -0.04254242777824402,\n",
              " -0.03773176670074463,\n",
              " -0.027007460594177246,\n",
              " -0.10972154140472412,\n",
              " -0.08014175295829773,\n",
              " -0.03857576847076416,\n",
              " -0.03586733341217041,\n",
              " -0.009185105562210083,\n",
              " -0.16204261779785156,\n",
              " -0.1392894685268402,\n",
              " -0.054019272327423096,\n",
              " -0.05330193042755127,\n",
              " -0.031973421573638916,\n",
              " -0.11293897032737732,\n",
              " -2.866983413696289e-05,\n",
              " -0.1076761782169342,\n",
              " -0.1144346296787262,\n",
              " -0.005633920431137085,\n",
              " -0.024600982666015625,\n",
              " -0.13789871335029602,\n",
              " -0.001958876848220825,\n",
              " -0.0702163577079773,\n",
              " -0.11020445823669434,\n",
              " -0.08828619122505188,\n",
              " -0.07518064975738525,\n",
              " -0.0020627975463867188,\n",
              " -0.044327765703201294,\n",
              " -0.1489427089691162,\n",
              " -0.054778218269348145,\n",
              " -0.11129656434059143,\n",
              " -0.06258058547973633,\n",
              " -0.03873524069786072,\n",
              " -0.024384915828704834,\n",
              " -0.10137572884559631,\n",
              " -0.0962938666343689,\n",
              " -0.057458460330963135,\n",
              " -0.09466040134429932,\n",
              " -0.11059439182281494,\n",
              " -0.03583955764770508,\n",
              " -0.0039751529693603516,\n",
              " -0.06375354528427124,\n",
              " -0.1193680465221405,\n",
              " -0.04264897108078003,\n",
              " -0.07425689697265625,\n",
              " -0.04447150230407715,\n",
              " -0.1277013123035431,\n",
              " -0.08292281627655029,\n",
              " -0.03589460253715515,\n",
              " -0.18578436970710754,\n",
              " -0.026448816061019897,\n",
              " -0.11978703737258911,\n",
              " -0.026827692985534668,\n",
              " -0.10191470384597778,\n",
              " -0.13459518551826477,\n",
              " -0.007663726806640625,\n",
              " -0.021242976188659668,\n",
              " -0.05931183695793152,\n",
              " -0.021338462829589844,\n",
              " -0.015443027019500732,\n",
              " -0.07597476243972778,\n",
              " -0.06087109446525574,\n",
              " -0.0015654563903808594,\n",
              " -0.0461651086807251,\n",
              " -0.11983978748321533,\n",
              " -0.11093968152999878,\n",
              " -0.03194457292556763,\n",
              " -0.019161850214004517,\n",
              " -0.09111455082893372,\n",
              " -0.01596778631210327,\n",
              " -0.024819791316986084,\n",
              " -0.0016543865203857422,\n",
              " -0.032669201493263245,\n",
              " -0.017154783010482788,\n",
              " -0.007556840777397156,\n",
              " -0.09586423635482788,\n",
              " -0.036230772733688354,\n",
              " -0.04890471696853638,\n",
              " -0.016253948211669922,\n",
              " -0.001002579927444458,\n",
              " -0.01976899802684784,\n",
              " -0.02734437584877014,\n",
              " -0.03310275077819824,\n",
              " -0.10745009779930115,\n",
              " -0.006182163953781128,\n",
              " -0.08456721901893616,\n",
              " -0.0504249632358551,\n",
              " -0.028696954250335693,\n",
              " -0.009145200252532959,\n",
              " -0.15496064722537994,\n",
              " -0.06825259327888489,\n",
              " -0.08254659175872803,\n",
              " -0.019678771495819092,\n",
              " -0.16494566202163696,\n",
              " -0.0012114346027374268,\n",
              " -0.02744331955909729,\n",
              " -0.13470007479190826,\n",
              " -0.022338569164276123,\n",
              " -0.08318725228309631,\n",
              " -0.027404755353927612,\n",
              " -0.09332752227783203,\n",
              " -0.12496155500411987,\n",
              " -0.058259159326553345,\n",
              " -0.05593976378440857,\n",
              " -0.0012070834636688232,\n",
              " -0.040883660316467285,\n",
              " -0.10135921835899353,\n",
              " -0.12436290085315704,\n",
              " -0.053047582507133484,\n",
              " -0.15807794034481049,\n",
              " -0.04564782977104187,\n",
              " -0.09059353172779083,\n",
              " -0.050695836544036865,\n",
              " -0.0435866117477417,\n",
              " -0.043922632932662964,\n",
              " -0.025537267327308655,\n",
              " -0.05743589997291565,\n",
              " -0.033154308795928955,\n",
              " -0.19603390991687775,\n",
              " -0.03986600041389465,\n",
              " -0.06337472796440125,\n",
              " -0.04315738379955292,\n",
              " -0.087771937251091,\n",
              " -0.07884560525417328,\n",
              " -0.09206581115722656,\n",
              " -0.041232213377952576,\n",
              " -0.054030999541282654,\n",
              " -0.046280473470687866,\n",
              " -0.04443436861038208,\n",
              " -0.046606048941612244,\n",
              " -0.022258222103118896,\n",
              " -0.08871032297611237,\n",
              " -0.09834764897823334,\n",
              " -0.030572086572647095,\n",
              " -0.06039303541183472,\n",
              " -0.020758211612701416,\n",
              " -0.1247192919254303,\n",
              " -0.11045679450035095,\n",
              " -0.05447357892990112,\n",
              " -0.001070663332939148,\n",
              " -0.08132985234260559,\n",
              " -0.06514188647270203,\n",
              " -0.001940995454788208,\n",
              " -0.08661921322345734,\n",
              " -0.09102511405944824,\n",
              " -0.009908601641654968,\n",
              " -0.04371584951877594,\n",
              " -0.006553232669830322,\n",
              " -0.01430937647819519,\n",
              " -0.08045968413352966,\n",
              " -0.06979414820671082,\n",
              " -0.24738150835037231,\n",
              " -0.06390686333179474,\n",
              " -0.03680524230003357,\n",
              " -0.1564183086156845,\n",
              " -0.01720540225505829,\n",
              " -0.07804205268621445,\n",
              " -0.143609419465065,\n",
              " -0.14884421229362488,\n",
              " -0.013993680477142334,\n",
              " -0.029379472136497498,\n",
              " -0.049796104431152344,\n",
              " -0.004191279411315918,\n",
              " -0.021028757095336914,\n",
              " -0.04370129108428955,\n",
              " -0.02876676619052887,\n",
              " -0.0016316920518875122,\n",
              " -0.1178809180855751,\n",
              " -0.016281872987747192,\n",
              " -0.024863317608833313,\n",
              " -0.10086946189403534,\n",
              " -0.05313378572463989,\n",
              " -0.20858962833881378,\n",
              " -0.006978049874305725,\n",
              " -0.002882823348045349,\n",
              " -0.05157466232776642,\n",
              " -0.06001296639442444,\n",
              " -0.003344416618347168,\n",
              " -0.03419743478298187,\n",
              " -0.11794936656951904,\n",
              " -0.01821942627429962,\n",
              " -0.04453247785568237,\n",
              " -0.04120923578739166,\n",
              " -0.11242496967315674,\n",
              " -0.16601978242397308,\n",
              " -0.07002265751361847,\n",
              " -0.051045939326286316,\n",
              " -0.005363926291465759,\n",
              " -0.09746181964874268,\n",
              " -0.02972443401813507,\n",
              " -0.00680600106716156,\n",
              " -0.04945380985736847,\n",
              " -0.01399211585521698,\n",
              " -0.08951325714588165,\n",
              " -0.1505752056837082,\n",
              " -0.005596056580543518,\n",
              " -0.05876663327217102,\n",
              " -0.02615950256586075,\n",
              " -0.17537462711334229,\n",
              " -0.13311508297920227,\n",
              " -0.010792359709739685,\n",
              " -0.11159908771514893,\n",
              " -0.0014492720365524292,\n",
              " -0.04353328049182892,\n",
              " -0.07561346888542175,\n",
              " -0.034654587507247925,\n",
              " -0.022109627723693848,\n",
              " -0.09490662813186646,\n",
              " -0.014123573899269104,\n",
              " -0.0313071608543396,\n",
              " -0.09708584100008011,\n",
              " -0.1321914941072464,\n",
              " -0.10309499502182007,\n",
              " -0.04589910805225372,\n",
              " -0.05161003768444061,\n",
              " -0.011867240071296692,\n",
              " -0.019344165921211243,\n",
              " -0.13957950472831726,\n",
              " -0.025696098804473877,\n",
              " -0.09529250860214233,\n",
              " -0.1343202143907547,\n",
              " -0.07131269574165344,\n",
              " -0.04999309778213501,\n",
              " -0.0190926194190979,\n",
              " -0.18238654732704163,\n",
              " -0.11091294884681702,\n",
              " -0.09093454480171204,\n",
              " -0.03818698227405548,\n",
              " -0.02576795220375061,\n",
              " -0.0844113677740097,\n",
              " -0.05271346867084503,\n",
              " -0.011066913604736328,\n",
              " -0.028205424547195435,\n",
              " -0.02465146780014038,\n",
              " -0.10196790099143982,\n",
              " -0.08565498888492584,\n",
              " -0.012852504849433899,\n",
              " -0.1869879812002182,\n",
              " -0.054719477891922,\n",
              " -0.11948800086975098,\n",
              " -0.046441808342933655,\n",
              " -0.04218819737434387,\n",
              " -0.004458487033843994,\n",
              " -0.02534070611000061,\n",
              " -0.013550028204917908,\n",
              " -0.006972119212150574,\n",
              " -0.014759570360183716,\n",
              " -0.01492723822593689,\n",
              " -0.06843042373657227,\n",
              " -0.013271883130073547,\n",
              " -0.013735681772232056,\n",
              " -0.001689031720161438,\n",
              " -0.25196540355682373,\n",
              " -0.07506786286830902,\n",
              " -0.028027355670928955,\n",
              " -0.033955007791519165,\n",
              " -0.05027782917022705,\n",
              " -0.14958900213241577,\n",
              " -0.05459444224834442,\n",
              " -0.24443891644477844,\n",
              " -0.0606955885887146,\n",
              " -0.29401305317878723,\n",
              " -0.03885507583618164,\n",
              " -0.085895836353302,\n",
              " -0.14488142728805542,\n",
              " -0.040438175201416016,\n",
              " -0.0763903260231018,\n",
              " -0.42785149812698364,\n",
              " -0.10754412412643433,\n",
              " -0.04653197526931763,\n",
              " -0.08133381605148315,\n",
              " -0.03799104690551758,\n",
              " -0.22118425369262695,\n",
              " -0.31516188383102417,\n",
              " -0.6616207361221313,\n",
              " -0.12747079133987427,\n",
              " -0.23346304893493652,\n",
              " -0.13589245080947876,\n",
              " -0.07458746433258057,\n",
              " -0.3477717936038971,\n",
              " -0.03926801681518555,\n",
              " -0.15379482507705688,\n",
              " -0.06953299045562744,\n",
              " -0.18848931789398193,\n",
              " -0.060363590717315674,\n",
              " -0.23163503408432007,\n",
              " -0.26256850361824036,\n",
              " -0.318615585565567,\n",
              " -0.1350606083869934,\n",
              " -0.09907132387161255,\n",
              " -0.07638883590698242,\n",
              " -0.22721236944198608,\n",
              " -0.171716570854187,\n",
              " -0.11281615495681763,\n",
              " -0.016711056232452393,\n",
              " -0.08305609226226807,\n",
              " -0.04357486963272095,\n",
              " -0.08041238784790039,\n",
              " -0.24439266324043274,\n",
              " -0.13824188709259033,\n",
              " -0.10896623134613037,\n",
              " -0.041568756103515625,\n",
              " -0.007365167140960693,\n",
              " -0.03491097688674927,\n",
              " -0.09412479400634766,\n",
              " -0.009145379066467285,\n",
              " -0.29091355204582214,\n",
              " -0.12989014387130737,\n",
              " -0.36584675312042236,\n",
              " -0.20263725519180298,\n",
              " -0.13642388582229614,\n",
              " -0.07134628295898438,\n",
              " -0.14739596843719482,\n",
              " -0.11362111568450928,\n",
              " -0.07572066783905029,\n",
              " -0.009446799755096436,\n",
              " -0.046143531799316406,\n",
              " -0.03754019737243652,\n",
              " -0.23671269416809082,\n",
              " -0.15695369243621826,\n",
              " -0.01990187168121338,\n",
              " -0.24942028522491455,\n",
              " -0.09441149234771729,\n",
              " -0.004150092601776123,\n",
              " -0.17156141996383667,\n",
              " -0.2083597183227539,\n",
              " -0.3329480290412903,\n",
              " -0.09356838464736938,\n",
              " -0.18688929080963135,\n",
              " -0.06740260124206543,\n",
              " -0.015264749526977539,\n",
              " -0.09826415777206421,\n",
              " -0.03695881366729736,\n",
              " -0.12320888042449951,\n",
              " -0.08418980240821838,\n",
              " -0.041654765605926514,\n",
              " -0.1318652629852295,\n",
              " -0.07034313678741455,\n",
              " -0.08596891164779663,\n",
              " -0.10304200649261475,\n",
              " -0.05486035346984863,\n",
              " -0.034586548805236816,\n",
              " -0.08003818988800049,\n",
              " -0.007641792297363281,\n",
              " -0.0038689374923706055,\n",
              " -0.045788466930389404,\n",
              " -0.10126733779907227,\n",
              " -0.030272305011749268,\n",
              " -0.1271507740020752,\n",
              " -0.16989487409591675,\n",
              " -0.25189274549484253,\n",
              " -0.08814758062362671,\n",
              " -0.28527241945266724,\n",
              " -0.042889416217803955,\n",
              " -0.38203370571136475,\n",
              " -0.17620444297790527,\n",
              " -0.008075714111328125,\n",
              " -0.01480644941329956,\n",
              " -0.03485745191574097,\n",
              " -0.11123281717300415,\n",
              " -0.04611217975616455,\n",
              " -0.019819974899291992,\n",
              " -0.1307058334350586,\n",
              " -0.3103160262107849,\n",
              " -0.10495257377624512,\n",
              " -0.10206323862075806,\n",
              " -0.4393874406814575,\n",
              " -0.12424314022064209,\n",
              " -0.10262912511825562,\n",
              " -0.184756338596344,\n",
              " -0.3696061372756958,\n",
              " -0.0899275541305542,\n",
              " -0.11902785301208496,\n",
              " -0.6719090938568115,\n",
              " -0.6932071447372437,\n",
              " -0.028252005577087402,\n",
              " -0.0746159553527832,\n",
              " -0.1546332836151123,\n",
              " -0.25157302618026733,\n",
              " -0.16613632440567017,\n",
              " -0.029381871223449707,\n",
              " -0.319632887840271,\n",
              " -0.23344838619232178,\n",
              " -0.09594273567199707,\n",
              " -0.018742144107818604,\n",
              " -0.03802061080932617,\n",
              " -0.002049386501312256,\n",
              " -0.08214831352233887,\n",
              " -0.05483412742614746]"
            ]
          },
          "metadata": {
            "tags": []
          },
          "execution_count": 65
        }
      ]
    },
    {
      "cell_type": "code",
      "metadata": {
        "id": "L7Vxu7ofKFW4",
        "colab_type": "code",
        "colab": {
          "base_uri": "https://localhost:8080/",
          "height": 51
        },
        "outputId": "5b3114f7-8764-4d03-92a6-1836342dd4b6"
      },
      "source": [
        "print(np.min(dd))\n",
        "print(np.max(dd))"
      ],
      "execution_count": 61,
      "outputs": [
        {
          "output_type": "stream",
          "text": [
            "0\n",
            "0\n"
          ],
          "name": "stdout"
        }
      ]
    },
    {
      "cell_type": "code",
      "metadata": {
        "id": "ITet2mb0cik4",
        "colab_type": "code",
        "outputId": "6cc5c1fa-1043-4576-b488-c0c15e80874e",
        "colab": {
          "base_uri": "https://localhost:8080/",
          "height": 68
        }
      },
      "source": [
        "lr_finder.get_best_lr(sma=10)"
      ],
      "execution_count": 68,
      "outputs": [
        {
          "output_type": "stream",
          "text": [
            "-0.13595679998397828\n",
            "0.1512671709060669\n"
          ],
          "name": "stdout"
        },
        {
          "output_type": "execute_result",
          "data": {
            "text/plain": [
              "0.07605845"
            ]
          },
          "metadata": {
            "tags": []
          },
          "execution_count": 68
        }
      ]
    },
    {
      "cell_type": "code",
      "metadata": {
        "id": "rPw_sCSe2A0v",
        "colab_type": "code",
        "colab": {}
      },
      "source": [
        "!mkdir 'kaggle-data/model'"
      ],
      "execution_count": 0,
      "outputs": []
    },
    {
      "cell_type": "code",
      "metadata": {
        "id": "wvA3rgEzk1PN",
        "colab_type": "code",
        "colab": {}
      },
      "source": [
        "# create callbacks list\n",
        "from keras.callbacks import (ModelCheckpoint, LearningRateScheduler,\n",
        "                             EarlyStopping, ReduceLROnPlateau,CSVLogger)\n",
        "\n",
        "epochs = 15; batch_size = 16\n",
        "checkpoint = ModelCheckpoint('kaggle-data/model/EffNetB5-{epoch:02d}-{val_acc:.4f}.h5', monitor='val_loss', verbose=1, \n",
        "                             save_best_only=True, mode='min', save_weights_only = True)\n",
        "# checkpoint = ModelCheckpoint('kaggle-data/model/xception-model.h5', verbose=1, monitor='val_acc',\n",
        "#                               save_best_only=True, save_weights_only = True)\n",
        "reduceLROnPlat = ReduceLROnPlateau(monitor='val_loss', factor=0.5, patience=3, \n",
        "                                   verbose=1, mode='auto', epsilon=0.0001)\n",
        "early = EarlyStopping(monitor=\"val_loss\", \n",
        "                      mode=\"min\", \n",
        "                      patience=4)\n",
        "\n",
        "csv_logger = CSVLogger(filename='kaggle-data/model/training_log.csv',\n",
        "                       separator=',',\n",
        "                       append=True)\n",
        "# callbacks_list = [checkpoint, csv_logger, reduceLROnPlat, early]\n",
        "\n",
        "train_generator = My_Generator(train_x, train_y, 128, is_train=True)\n",
        "train_mixup = My_Generator(train_x, train_y, batch_size, is_train=True, mix=True, augment=True)\n",
        "valid_generator = My_Generator(valid_x, valid_y, batch_size, is_train=False)\n",
        "\n",
        "model = create_model(\n",
        "    input_shape=(SIZE,SIZE,3), \n",
        "    n_out=NUM_CLASSES,\n",
        "    model_weights='kaggle-data/efficientnets-weights/efficientnet-b5_imagenet_1000_notop.h5')"
      ],
      "execution_count": 0,
      "outputs": []
    },
    {
      "cell_type": "code",
      "metadata": {
        "id": "gzzdycCKk5f8",
        "colab_type": "code",
        "colab": {}
      },
      "source": [
        "# reference link: https://www.kaggle.com/christofhenkel/weighted-kappa-loss-for-keras-tensorflow\n",
        "def kappa_loss(y_true, y_pred, y_pow=2, eps=1e-12, N=5, bsize=32, name='kappa'):\n",
        "    \"\"\"A continuous differentiable approximation of discrete kappa loss.\n",
        "        Args:\n",
        "            y_pred: 2D tensor or array, [batch_size, num_classes]\n",
        "            y_true: 2D tensor or array,[batch_size, num_classes]\n",
        "            y_pow: int,  e.g. y_pow=2\n",
        "            N: typically num_classes of the model\n",
        "            bsize: batch_size of the training or validation ops\n",
        "            eps: a float, prevents divide by zero\n",
        "            name: Optional scope/name for op_scope.\n",
        "        Returns:\n",
        "            A tensor with the kappa loss.\"\"\"\n",
        "\n",
        "    with tf.name_scope(name):\n",
        "        y_true = tf.to_float(y_true)\n",
        "        repeat_op = tf.to_float(tf.tile(tf.reshape(tf.range(0, N), [N, 1]), [1, N]))\n",
        "        repeat_op_sq = tf.square((repeat_op - tf.transpose(repeat_op)))\n",
        "        weights = repeat_op_sq / tf.to_float((N - 1) ** 2)\n",
        "    \n",
        "        pred_ = y_pred ** y_pow\n",
        "        try:\n",
        "            pred_norm = pred_ / (eps + tf.reshape(tf.reduce_sum(pred_, 1), [-1, 1]))\n",
        "        except Exception:\n",
        "            pred_norm = pred_ / (eps + tf.reshape(tf.reduce_sum(pred_, 1), [bsize, 1]))\n",
        "    \n",
        "        hist_rater_a = tf.reduce_sum(pred_norm, 0)\n",
        "        hist_rater_b = tf.reduce_sum(y_true, 0)\n",
        "    \n",
        "        conf_mat = tf.matmul(tf.transpose(pred_norm), y_true)\n",
        "    \n",
        "        nom = tf.reduce_sum(weights * conf_mat)\n",
        "        denom = tf.reduce_sum(weights * tf.matmul(\n",
        "            tf.reshape(hist_rater_a, [N, 1]), tf.reshape(hist_rater_b, [1, N])) /\n",
        "                              tf.to_float(bsize))\n",
        "    \n",
        "        return nom*0.5 / (denom + eps) + categorical_crossentropy(y_true, y_pred)*0.5"
      ],
      "execution_count": 0,
      "outputs": []
    },
    {
      "cell_type": "code",
      "metadata": {
        "id": "LAAUbglclAkt",
        "colab_type": "code",
        "colab": {}
      },
      "source": [
        "from keras.callbacks import Callback\n",
        "class QWKEvaluation(Callback):\n",
        "    def __init__(self, validation_data=(), batch_size=64, interval=1):\n",
        "        super(Callback, self).__init__()\n",
        "\n",
        "        self.interval = interval\n",
        "        self.batch_size = batch_size\n",
        "        self.valid_generator, self.y_val = validation_data\n",
        "        self.history = []\n",
        "\n",
        "    def on_epoch_end(self, epoch, logs={}):\n",
        "        if epoch % self.interval == 0:\n",
        "            y_pred = self.model.predict_generator(generator=self.valid_generator,\n",
        "                                                  steps=np.ceil(float(len(self.y_val)) / float(self.batch_size)),\n",
        "                                                  workers=1, use_multiprocessing=False,\n",
        "                                                  verbose=1)\n",
        "            \n",
        "            def get_pred(y):\n",
        "#                 print(y[0])\n",
        "                y_pred = y > 0.5\n",
        "#                 print(y_pred[0])\n",
        "                y_pred = y_pred.astype(int).sum(axis=1) - 1\n",
        "#                 print(y_pred.reshape(-1))\n",
        "                return y_pred.reshape(-1)\n",
        "                \n",
        "            def flatten(y):\n",
        "                return np.argmax(y, axis=1).reshape(-1)\n",
        "            \n",
        "            score = cohen_kappa_score(get_pred(self.y_val),\n",
        "                                      get_pred(y_pred),\n",
        "                                      labels=[0,1,2,3,4],\n",
        "                                      weights='quadratic')\n",
        "            print(\"\\n epoch: %d - QWK_score: %.6f \\n\" % (epoch+1, score))\n",
        "            self.history.append(score)\n",
        "            if score >= max(self.history):\n",
        "                print('saving checkpoint: ', score)\n",
        "                self.model.save('kaggle-data/model/EffNet_qwk-{0:02d}-{1:.4f}.h5'.format(epoch, score))\n",
        "\n",
        "qwk = QWKEvaluation(validation_data=(valid_generator, valid_y),\n",
        "                    batch_size=batch_size, interval=1)"
      ],
      "execution_count": 0,
      "outputs": []
    },
    {
      "cell_type": "code",
      "metadata": {
        "id": "d5da7rwx4weq",
        "colab_type": "code",
        "outputId": "7d720c2c-da2b-4031-ae9a-00c7eb8fbba5",
        "colab": {
          "base_uri": "https://localhost:8080/",
          "height": 34
        }
      },
      "source": [
        "train_y.shape"
      ],
      "execution_count": 0,
      "outputs": [
        {
          "output_type": "execute_result",
          "data": {
            "text/plain": [
              "(7785, 5)"
            ]
          },
          "metadata": {
            "tags": []
          },
          "execution_count": 23
        }
      ]
    },
    {
      "cell_type": "code",
      "metadata": {
        "id": "nuXpIgx0lEQd",
        "colab_type": "code",
        "outputId": "44475383-9727-43d1-aad4-06ad861b008a",
        "colab": {
          "base_uri": "https://localhost:8080/",
          "height": 1000
        }
      },
      "source": [
        "# train all layers\n",
        "for layer in model.layers:\n",
        "    layer.trainable = True\n",
        "\n",
        "callbacks_list = [checkpoint, csv_logger, reduceLROnPlat, early, qwk]\n",
        "model.compile(\n",
        "    loss='binary_crossentropy',\n",
        "    #loss='categorical_crossentropy',\n",
        "#              loss=kappa_loss,\n",
        "            optimizer=Adam(lr=1e-4),\n",
        "            metrics=['accuracy'])\n",
        "#, metrics=['accuracy']\n",
        "history = model.fit_generator(\n",
        "    train_mixup,\n",
        "    steps_per_epoch=np.ceil(float(len(train_x)) / float(batch_size)),\n",
        "    validation_data=valid_generator,\n",
        "    validation_steps=np.ceil(float(len(valid_x)) / float(batch_size)),\n",
        "    epochs=epochs,\n",
        "    verbose=1,\n",
        "    workers=1, use_multiprocessing=False,\n",
        "    callbacks=callbacks_list)"
      ],
      "execution_count": 47,
      "outputs": [
        {
          "output_type": "stream",
          "text": [
            "Epoch 1/15\n",
            "487/487 [==============================] - 405s 832ms/step - loss: 0.4513 - acc: 0.5946 - val_loss: 0.2480 - val_acc: 0.8972\n",
            "\n",
            "Epoch 00001: val_loss improved from inf to 0.24802, saving model to kaggle-data/model/EffNetB5-01-0.8972.h5\n",
            "86/86 [==============================] - 25s 288ms/step\n",
            "\n",
            " epoch: 1 - QWK_score: 0.789239 \n",
            "\n",
            "saving checkpoint:  0.7892385827873287\n",
            "Epoch 2/15\n",
            "487/487 [==============================] - 345s 709ms/step - loss: 0.3341 - acc: 0.6466 - val_loss: 0.1881 - val_acc: 0.9237\n",
            "\n",
            "Epoch 00002: val_loss improved from 0.24802 to 0.18809, saving model to kaggle-data/model/EffNetB5-02-0.9237.h5\n",
            "86/86 [==============================] - 14s 160ms/step\n",
            "\n",
            " epoch: 2 - QWK_score: 0.860759 \n",
            "\n",
            "saving checkpoint:  0.8607587939698492\n",
            "Epoch 3/15\n",
            "487/487 [==============================] - 345s 708ms/step - loss: 0.3017 - acc: 0.6529 - val_loss: 0.1812 - val_acc: 0.9319\n",
            "\n",
            "Epoch 00003: val_loss improved from 0.18809 to 0.18119, saving model to kaggle-data/model/EffNetB5-03-0.9319.h5\n",
            "86/86 [==============================] - 14s 161ms/step\n",
            "\n",
            " epoch: 3 - QWK_score: 0.872294 \n",
            "\n",
            "saving checkpoint:  0.8722940746437802\n",
            "Epoch 4/15\n",
            "487/487 [==============================] - 345s 708ms/step - loss: 0.2935 - acc: 0.6620 - val_loss: 0.1674 - val_acc: 0.9358\n",
            "\n",
            "Epoch 00004: val_loss improved from 0.18119 to 0.16743, saving model to kaggle-data/model/EffNetB5-04-0.9358.h5\n",
            "86/86 [==============================] - 14s 160ms/step\n",
            "\n",
            " epoch: 4 - QWK_score: 0.880866 \n",
            "\n",
            "saving checkpoint:  0.8808655155741532\n",
            "Epoch 5/15\n",
            "487/487 [==============================] - 345s 708ms/step - loss: 0.2692 - acc: 0.6655 - val_loss: 0.1505 - val_acc: 0.9445\n",
            "\n",
            "Epoch 00005: val_loss improved from 0.16743 to 0.15052, saving model to kaggle-data/model/EffNetB5-05-0.9445.h5\n",
            "86/86 [==============================] - 14s 160ms/step\n",
            "\n",
            " epoch: 5 - QWK_score: 0.903801 \n",
            "\n",
            "saving checkpoint:  0.9038011221608042\n",
            "Epoch 6/15\n",
            "487/487 [==============================] - 345s 708ms/step - loss: 0.2469 - acc: 0.6741 - val_loss: 0.1539 - val_acc: 0.9413\n",
            "\n",
            "Epoch 00006: val_loss did not improve from 0.15052\n",
            "86/86 [==============================] - 14s 160ms/step\n",
            "\n",
            " epoch: 6 - QWK_score: 0.891298 \n",
            "\n",
            "Epoch 7/15\n",
            "487/487 [==============================] - 345s 708ms/step - loss: 0.2462 - acc: 0.6732 - val_loss: 0.1386 - val_acc: 0.9530\n",
            "\n",
            "Epoch 00007: val_loss improved from 0.15052 to 0.13859, saving model to kaggle-data/model/EffNetB5-07-0.9530.h5\n",
            "86/86 [==============================] - 14s 161ms/step\n",
            "\n",
            " epoch: 7 - QWK_score: 0.921674 \n",
            "\n",
            "saving checkpoint:  0.9216744720674528\n",
            "Epoch 8/15\n",
            "487/487 [==============================] - 345s 708ms/step - loss: 0.2323 - acc: 0.6779 - val_loss: 0.1211 - val_acc: 0.9568\n",
            "\n",
            "Epoch 00008: val_loss improved from 0.13859 to 0.12106, saving model to kaggle-data/model/EffNetB5-08-0.9568.h5\n",
            "86/86 [==============================] - 14s 161ms/step\n",
            "\n",
            " epoch: 8 - QWK_score: 0.929341 \n",
            "\n",
            "saving checkpoint:  0.9293414776565478\n",
            "Epoch 9/15\n",
            "487/487 [==============================] - 345s 708ms/step - loss: 0.2209 - acc: 0.6759 - val_loss: 0.1076 - val_acc: 0.9627\n",
            "\n",
            "Epoch 00009: val_loss improved from 0.12106 to 0.10757, saving model to kaggle-data/model/EffNetB5-09-0.9627.h5\n",
            "86/86 [==============================] - 14s 161ms/step\n",
            "\n",
            " epoch: 9 - QWK_score: 0.939373 \n",
            "\n",
            "saving checkpoint:  0.9393728612608879\n",
            "Epoch 10/15\n",
            "487/487 [==============================] - 345s 708ms/step - loss: 0.2143 - acc: 0.6811 - val_loss: 0.1058 - val_acc: 0.9656\n",
            "\n",
            "Epoch 00010: val_loss improved from 0.10757 to 0.10584, saving model to kaggle-data/model/EffNetB5-10-0.9656.h5\n",
            "86/86 [==============================] - 14s 160ms/step\n",
            "\n",
            " epoch: 10 - QWK_score: 0.944992 \n",
            "\n",
            "saving checkpoint:  0.9449920360088474\n",
            "Epoch 11/15\n",
            "487/487 [==============================] - 345s 708ms/step - loss: 0.2087 - acc: 0.6861 - val_loss: 0.0960 - val_acc: 0.9668\n",
            "\n",
            "Epoch 00011: val_loss improved from 0.10584 to 0.09596, saving model to kaggle-data/model/EffNetB5-11-0.9668.h5\n",
            "86/86 [==============================] - 14s 158ms/step\n",
            "\n",
            " epoch: 11 - QWK_score: 0.948182 \n",
            "\n",
            "saving checkpoint:  0.9481815316565154\n",
            "Epoch 12/15\n",
            "487/487 [==============================] - 345s 708ms/step - loss: 0.1988 - acc: 0.6855 - val_loss: 0.0880 - val_acc: 0.9725\n",
            "\n",
            "Epoch 00012: val_loss improved from 0.09596 to 0.08796, saving model to kaggle-data/model/EffNetB5-12-0.9725.h5\n",
            "86/86 [==============================] - 14s 160ms/step\n",
            "\n",
            " epoch: 12 - QWK_score: 0.958158 \n",
            "\n",
            "saving checkpoint:  0.9581583445781795\n",
            "Epoch 13/15\n",
            "487/487 [==============================] - 344s 706ms/step - loss: 0.1929 - acc: 0.6871 - val_loss: 0.0890 - val_acc: 0.9729\n",
            "\n",
            "Epoch 00013: val_loss did not improve from 0.08796\n",
            "86/86 [==============================] - 14s 159ms/step\n",
            "\n",
            " epoch: 13 - QWK_score: 0.956660 \n",
            "\n",
            "Epoch 14/15\n",
            "487/487 [==============================] - 343s 705ms/step - loss: 0.1927 - acc: 0.6875 - val_loss: 0.0779 - val_acc: 0.9763\n",
            "\n",
            "Epoch 00014: val_loss improved from 0.08796 to 0.07786, saving model to kaggle-data/model/EffNetB5-14-0.9763.h5\n",
            "86/86 [==============================] - 14s 159ms/step\n",
            "\n",
            " epoch: 14 - QWK_score: 0.963643 \n",
            "\n",
            "saving checkpoint:  0.9636434604353092\n",
            "Epoch 15/15\n",
            "487/487 [==============================] - 343s 705ms/step - loss: 0.1831 - acc: 0.6891 - val_loss: 0.0793 - val_acc: 0.9769\n",
            "\n",
            "Epoch 00015: val_loss did not improve from 0.07786\n",
            "86/86 [==============================] - 14s 158ms/step\n",
            "\n",
            " epoch: 15 - QWK_score: 0.963425 \n",
            "\n"
          ],
          "name": "stdout"
        }
      ]
    },
    {
      "cell_type": "code",
      "metadata": {
        "id": "rcyfvobqa5Tl",
        "colab_type": "code",
        "colab": {}
      },
      "source": [
        "lr = K.get_value(model.optimizer.lr)\n",
        "# K.set_value(model.optimizer.lr, lr/2)"
      ],
      "execution_count": 0,
      "outputs": []
    },
    {
      "cell_type": "code",
      "metadata": {
        "id": "Ejw9B2OaG1rf",
        "colab_type": "code",
        "colab": {
          "base_uri": "https://localhost:8080/",
          "height": 34
        },
        "outputId": "f44fcfb3-7546-40a3-edf3-30bce49cb1ac"
      },
      "source": [
        "lr"
      ],
      "execution_count": 49,
      "outputs": [
        {
          "output_type": "execute_result",
          "data": {
            "text/plain": [
              "1e-04"
            ]
          },
          "metadata": {
            "tags": []
          },
          "execution_count": 49
        }
      ]
    },
    {
      "cell_type": "code",
      "metadata": {
        "id": "YUjw0vTybiVA",
        "colab_type": "code",
        "outputId": "752edb80-ad56-4424-abdd-e53c5af1b138",
        "colab": {
          "base_uri": "https://localhost:8080/",
          "height": 34
        }
      },
      "source": [
        "K.get_value(model.optimizer.lr)"
      ],
      "execution_count": 0,
      "outputs": [
        {
          "output_type": "execute_result",
          "data": {
            "text/plain": [
              "0.00025"
            ]
          },
          "metadata": {
            "tags": []
          },
          "execution_count": 47
        }
      ]
    },
    {
      "cell_type": "code",
      "metadata": {
        "id": "ffmXK6VuBQOQ",
        "colab_type": "code",
        "outputId": "f69bb58a-2351-4dc5-8894-8f3227b9c977",
        "colab": {
          "base_uri": "https://localhost:8080/",
          "height": 1000
        }
      },
      "source": [
        "epochs = 30\n",
        "history2 = model.fit_generator(\n",
        "    train_mixup,\n",
        "    steps_per_epoch=np.ceil(float(len(train_x)) / float(batch_size)),\n",
        "    validation_data=valid_generator,\n",
        "    validation_steps=np.ceil(float(len(valid_x)) / float(batch_size)),\n",
        "    epochs=epochs,\n",
        "    initial_epoch=15,\n",
        "    verbose=1,\n",
        "    workers=1, use_multiprocessing=False,\n",
        "    callbacks=callbacks_list)"
      ],
      "execution_count": 94,
      "outputs": [
        {
          "output_type": "stream",
          "text": [
            "Epoch 16/30\n",
            "487/487 [==============================] - 344s 706ms/step - loss: 0.1732 - acc: 0.6941 - val_loss: 0.0670 - val_acc: 0.9817\n",
            "\n",
            "Epoch 00016: val_loss improved from 0.07786 to 0.06696, saving model to kaggle-data/model/EffNetB5-16-0.9817.h5\n",
            "86/86 [==============================] - 14s 159ms/step\n",
            "\n",
            " epoch: 16 - QWK_score: 0.970888 \n",
            "\n",
            "saving checkpoint:  0.9708877903764442\n",
            "Epoch 17/30\n",
            "487/487 [==============================] - 344s 706ms/step - loss: 0.1692 - acc: 0.6910 - val_loss: 0.0615 - val_acc: 0.9825\n",
            "\n",
            "Epoch 00017: val_loss improved from 0.06696 to 0.06151, saving model to kaggle-data/model/EffNetB5-17-0.9825.h5\n",
            "86/86 [==============================] - 14s 159ms/step\n",
            "\n",
            " epoch: 17 - QWK_score: 0.972795 \n",
            "\n",
            "saving checkpoint:  0.9727947436777666\n",
            "Epoch 18/30\n",
            "487/487 [==============================] - 344s 706ms/step - loss: 0.1717 - acc: 0.6987 - val_loss: 0.0675 - val_acc: 0.9808\n",
            "\n",
            "Epoch 00018: val_loss did not improve from 0.06151\n",
            "86/86 [==============================] - 14s 160ms/step\n",
            "\n",
            " epoch: 18 - QWK_score: 0.969556 \n",
            "\n",
            "Epoch 19/30\n",
            "487/487 [==============================] - 343s 705ms/step - loss: 0.1648 - acc: 0.6939 - val_loss: 0.0599 - val_acc: 0.9822\n",
            "\n",
            "Epoch 00019: val_loss improved from 0.06151 to 0.05995, saving model to kaggle-data/model/EffNetB5-19-0.9822.h5\n",
            "86/86 [==============================] - 14s 160ms/step\n",
            "\n",
            " epoch: 19 - QWK_score: 0.971933 \n",
            "\n",
            "Epoch 20/30\n",
            "487/487 [==============================] - 344s 706ms/step - loss: 0.1594 - acc: 0.6954 - val_loss: 0.0544 - val_acc: 0.9860\n",
            "\n",
            "Epoch 00020: val_loss improved from 0.05995 to 0.05441, saving model to kaggle-data/model/EffNetB5-20-0.9860.h5\n",
            "86/86 [==============================] - 14s 159ms/step\n",
            "\n",
            " epoch: 20 - QWK_score: 0.976935 \n",
            "\n",
            "saving checkpoint:  0.976935060884313\n",
            "Epoch 21/30\n",
            "487/487 [==============================] - 344s 706ms/step - loss: 0.1611 - acc: 0.6945 - val_loss: 0.0564 - val_acc: 0.9870\n",
            "\n",
            "Epoch 00021: val_loss did not improve from 0.05441\n",
            "86/86 [==============================] - 14s 160ms/step\n",
            "\n",
            " epoch: 21 - QWK_score: 0.979856 \n",
            "\n",
            "saving checkpoint:  0.979856163489952\n",
            "Epoch 22/30\n",
            "487/487 [==============================] - 344s 707ms/step - loss: 0.1500 - acc: 0.6944 - val_loss: 0.0543 - val_acc: 0.9862\n",
            "\n",
            "Epoch 00022: val_loss improved from 0.05441 to 0.05433, saving model to kaggle-data/model/EffNetB5-22-0.9862.h5\n",
            "86/86 [==============================] - 14s 158ms/step\n",
            "\n",
            " epoch: 22 - QWK_score: 0.976796 \n",
            "\n",
            "Epoch 23/30\n",
            "487/487 [==============================] - 344s 707ms/step - loss: 0.1567 - acc: 0.6918 - val_loss: 0.0814 - val_acc: 0.9796\n",
            "\n",
            "Epoch 00023: val_loss did not improve from 0.05433\n",
            "\n",
            "Epoch 00023: ReduceLROnPlateau reducing learning rate to 4.999999873689376e-05.\n",
            "86/86 [==============================] - 14s 161ms/step\n",
            "\n",
            " epoch: 23 - QWK_score: 0.967730 \n",
            "\n",
            "Epoch 24/30\n",
            "487/487 [==============================] - 344s 707ms/step - loss: 0.1609 - acc: 0.6992 - val_loss: 0.0589 - val_acc: 0.9870\n",
            "\n",
            "Epoch 00024: val_loss did not improve from 0.05433\n",
            "86/86 [==============================] - 14s 161ms/step\n",
            "\n",
            " epoch: 24 - QWK_score: 0.979392 \n",
            "\n",
            "Epoch 25/30\n",
            "487/487 [==============================] - 344s 706ms/step - loss: 0.1396 - acc: 0.7035 - val_loss: 0.0492 - val_acc: 0.9885\n",
            "\n",
            "Epoch 00025: val_loss improved from 0.05433 to 0.04917, saving model to kaggle-data/model/EffNetB5-25-0.9885.h5\n",
            "86/86 [==============================] - 14s 160ms/step\n",
            "\n",
            " epoch: 25 - QWK_score: 0.981176 \n",
            "\n",
            "saving checkpoint:  0.9811760039695147\n",
            "Epoch 26/30\n",
            "487/487 [==============================] - 344s 707ms/step - loss: 0.1353 - acc: 0.7065 - val_loss: 0.0514 - val_acc: 0.9886\n",
            "\n",
            "Epoch 00026: val_loss did not improve from 0.04917\n",
            "86/86 [==============================] - 14s 160ms/step\n",
            "\n",
            " epoch: 26 - QWK_score: 0.981481 \n",
            "\n",
            "saving checkpoint:  0.9814807925897292\n",
            "Epoch 27/30\n",
            "487/487 [==============================] - 344s 705ms/step - loss: 0.1459 - acc: 0.6971 - val_loss: 0.0542 - val_acc: 0.9894\n",
            "\n",
            "Epoch 00027: val_loss did not improve from 0.04917\n",
            "86/86 [==============================] - 14s 159ms/step\n",
            "\n",
            " epoch: 27 - QWK_score: 0.981965 \n",
            "\n",
            "saving checkpoint:  0.9819650049810784\n",
            "Epoch 28/30\n",
            "487/487 [==============================] - 343s 705ms/step - loss: 0.1443 - acc: 0.7034 - val_loss: 0.0517 - val_acc: 0.9888\n",
            "\n",
            "Epoch 00028: val_loss did not improve from 0.04917\n",
            "\n",
            "Epoch 00028: ReduceLROnPlateau reducing learning rate to 2.499999936844688e-05.\n",
            "86/86 [==============================] - 14s 159ms/step\n",
            "\n",
            " epoch: 28 - QWK_score: 0.981993 \n",
            "\n",
            "saving checkpoint:  0.9819926083195722\n",
            "Epoch 29/30\n",
            "487/487 [==============================] - 344s 706ms/step - loss: 0.1352 - acc: 0.7037 - val_loss: 0.0516 - val_acc: 0.9888\n",
            "\n",
            "Epoch 00029: val_loss did not improve from 0.04917\n",
            "86/86 [==============================] - 14s 159ms/step\n",
            "\n",
            " epoch: 29 - QWK_score: 0.981642 \n",
            "\n"
          ],
          "name": "stdout"
        }
      ]
    },
    {
      "cell_type": "markdown",
      "metadata": {
        "id": "tMsqTdhde-Rf",
        "colab_type": "text"
      },
      "source": [
        "Load the best model"
      ]
    },
    {
      "cell_type": "code",
      "metadata": {
        "id": "ToVr8Rhne9AV",
        "colab_type": "code",
        "colab": {}
      },
      "source": [
        "model.load_"
      ],
      "execution_count": 0,
      "outputs": []
    },
    {
      "cell_type": "markdown",
      "metadata": {
        "id": "otW_Ysujops5",
        "colab_type": "text"
      },
      "source": [
        "# Evaluate Model"
      ]
    },
    {
      "cell_type": "code",
      "metadata": {
        "id": "XBNWJo74oo1f",
        "colab_type": "code",
        "outputId": "9817b20f-0399-4105-8248-ba773d1f8c2a",
        "colab": {
          "base_uri": "https://localhost:8080/",
          "height": 68
        }
      },
      "source": [
        "model.compile(loss='categorical_crossentropy', optimizer='adam', metrics=['accuracy'])\n",
        "all_scores = []\n",
        "for i, name in tqdm(enumerate(valid_x)):\n",
        "  path = os.path.join('kaggle-data/aug_train_images/', name+'.png')\n",
        "  image = cv2.imread(path)\n",
        "  image = cv2.resize(image, (SIZE, SIZE))\n",
        "\n",
        "  scores = model.evaluate((image[np.newaxis])/255, np.reshape(valid_y[i], (1,5)), verbose=0)\n",
        "  all_scores.append(scores)\n",
        "\n",
        "mean = np.mean(all_scores, axis=0)\n",
        "sd = np.std(all_scores, axis=0)\n",
        "print(\"Loss:    %.2f%% (+/- %.2f%%)\" % (mean[0], sd[0]))\n",
        "print(\"Accuracy:%.2f%% (+/- %.2f%%)\" % (mean[1], sd[1]))"
      ],
      "execution_count": 0,
      "outputs": [
        {
          "output_type": "stream",
          "text": [
            "1374it [01:07, 20.22it/s]"
          ],
          "name": "stderr"
        },
        {
          "output_type": "stream",
          "text": [
            "Loss:    3.80% (+/- 3.01%)\n",
            "Accuracy:1.00% (+/- 0.00%)\n"
          ],
          "name": "stdout"
        },
        {
          "output_type": "stream",
          "text": [
            "\n"
          ],
          "name": "stderr"
        }
      ]
    },
    {
      "cell_type": "code",
      "metadata": {
        "id": "tQIpfz-Hu16b",
        "colab_type": "code",
        "outputId": "13d7fd94-e2bd-47b0-d791-50acc5620bf7",
        "colab": {
          "base_uri": "https://localhost:8080/",
          "height": 163
        }
      },
      "source": [
        "history2.history\n"
      ],
      "execution_count": 0,
      "outputs": [
        {
          "output_type": "error",
          "ename": "NameError",
          "evalue": "ignored",
          "traceback": [
            "\u001b[0;31m---------------------------------------------------------------------------\u001b[0m",
            "\u001b[0;31mNameError\u001b[0m                                 Traceback (most recent call last)",
            "\u001b[0;32m<ipython-input-52-c0c662ba815c>\u001b[0m in \u001b[0;36m<module>\u001b[0;34m()\u001b[0m\n\u001b[0;32m----> 1\u001b[0;31m \u001b[0mhistory2\u001b[0m\u001b[0;34m.\u001b[0m\u001b[0mhistory\u001b[0m\u001b[0;34m\u001b[0m\u001b[0;34m\u001b[0m\u001b[0m\n\u001b[0m",
            "\u001b[0;31mNameError\u001b[0m: name 'history2' is not defined"
          ]
        }
      ]
    },
    {
      "cell_type": "code",
      "metadata": {
        "id": "4Q0hKyfFlOv1",
        "colab_type": "code",
        "colab": {}
      },
      "source": [
        "def get_pred(y):\n",
        "  y_pred = y > 0.5\n",
        "  y_pred = y_pred.astype(int).sum(axis=1) - 1\n",
        "  return y_pred.reshape(-1)\n",
        "\n",
        "def check_model(hist, model):\n",
        "  \n",
        "  #Plot the curves\n",
        "  N = len(hist.history['loss'])\n",
        "\n",
        "  plt.style.use(\"ggplot\")\n",
        "  plt.figure()\n",
        "  plt.plot(np.arange(0, N), hist.history[\"loss\"], label=\"train_loss\")\n",
        "  plt.plot(np.arange(0, N), hist.history[\"val_loss\"], label=\"val_loss\")\n",
        "  \n",
        " \n",
        "  plt.title(\"Training Loss on Dataset\")\n",
        "  plt.xlabel(\"Epoch #\")\n",
        "  plt.ylabel(\"Loss\")\n",
        "  plt.legend(loc=\"lower left\")\n",
        "  \n",
        "  plt.figure()\n",
        "  plt.plot(np.arange(0, N), hist.history[\"acc\"], label=\"train_acc\")\n",
        "  plt.plot(np.arange(0, N), hist.history[\"val_acc\"], label=\"val_acc\")\n",
        "  plt.title(\"Training Accuracy on Dataset\")\n",
        "  plt.xlabel(\"Epoch #\")\n",
        "  plt.ylabel(\"Accuracy\")\n",
        "  plt.legend(loc=\"lower left\")\n",
        "  \n",
        "  plt.figure()\n",
        "  plt.plot(np.arange(0, N), qwk.history, label=\"kappa_score\")\n",
        "  plt.title(\"Kappa score on Dataset\")\n",
        "  plt.xlabel(\"Epoch #\")\n",
        "  plt.ylabel(\"kappa\")\n",
        "  plt.legend(loc=\"lower left\")\n",
        "  \n",
        "  plt.style.use(\"ggplot\")\n",
        "  plt.figure()\n",
        "  plt.plot(np.arange(0, N), hist.history[\"lr\"], label=\"learning_rate\")\n",
        " \n",
        "  plt.title(\"Learning Rate on Dataset\")\n",
        "  plt.xlabel(\"Epoch #\")\n",
        "  plt.ylabel(\"LR\")\n",
        "  plt.legend(loc=\"lower left\")\n",
        "  \n",
        "  \n",
        "  #confusion matrix\n",
        "  preds = []\n",
        "  for i, name in tqdm(enumerate(valid_x)):\n",
        "      path = os.path.join('kaggle-data/aug_train_images/', name+'.png')\n",
        "      image = cv2.imread(path)\n",
        "  #     print(str(path))\n",
        "      image = cv2.resize(image, (SIZE, SIZE))\n",
        "      score_predict = model.predict((image[np.newaxis])/255)\n",
        "      label_predict = get_pred(score_predict)\n",
        "#       print('Predict {}-->{}'.format(score_predict, label_predict))\n",
        "#       label_predict = np.argmax(score_predict)\n",
        "      \n",
        "      preds.append(label_predict)\n",
        "\n",
        "#   valid_labels = np.argmax(valid_y, axis=-1)\n",
        "  valid_labels = get_pred(valid_y)\n",
        "  \n",
        "  cm  = confusion_matrix(valid_labels, preds)\n",
        "  plt.figure()\n",
        "  plot_confusion_matrix(cm,figsize=(12,8), hide_ticks=True, cmap=plt.cm.Blues, show_normed=True, show_absolute=False)\n",
        "  plt.show()"
      ],
      "execution_count": 0,
      "outputs": []
    },
    {
      "cell_type": "code",
      "metadata": {
        "id": "gWZOk3m2lFXl",
        "colab_type": "code",
        "outputId": "d8b409e2-c4f3-4c9c-fb67-f84ad6866ddf",
        "colab": {
          "base_uri": "https://localhost:8080/",
          "height": 1000
        }
      },
      "source": [
        "check_model(history, model)"
      ],
      "execution_count": 51,
      "outputs": [
        {
          "output_type": "stream",
          "text": [
            "1374it [00:50, 27.75it/s]\n"
          ],
          "name": "stderr"
        },
        {
          "output_type": "display_data",
          "data": {
            "image/png": "[encoded data removed]",
            "text/plain": [
              "<Figure size 432x288 with 1 Axes>"
            ]
          },
          "metadata": {
            "tags": []
          }
        },
        {
          "output_type": "display_data",
          "data": {
            "image/png": "[encoded data removed]",
            "text/plain": [
              "<Figure size 432x288 with 1 Axes>"
            ]
          },
          "metadata": {
            "tags": []
          }
        },
        {
          "output_type": "display_data",
          "data": {
            "image/png": "[encoded data removed]",
            "text/plain": [
              "<Figure size 432x288 with 1 Axes>"
            ]
          },
          "metadata": {
            "tags": []
          }
        },
        {
          "output_type": "display_data",
          "data": {
            "image/png": "[encoded data removed]",
            "text/plain": [
              "<Figure size 432x288 with 1 Axes>"
            ]
          },
          "metadata": {
            "tags": []
          }
        },
        {
          "output_type": "display_data",
          "data": {
            "text/plain": [
              "<Figure size 432x288 with 0 Axes>"
            ]
          },
          "metadata": {
            "tags": []
          }
        },
        {
          "output_type": "display_data",
          "data": {
            "image/png": "[encoded data removed]",
            "text/plain": [
              "<Figure size 864x576 with 1 Axes>"
            ]
          },
          "metadata": {
            "tags": []
          }
        }
      ]
    },
    {
      "cell_type": "code",
      "metadata": {
        "id": "3VU2eenCrcSd",
        "colab_type": "code",
        "colab": {}
      },
      "source": [
        "  def get_pred(y):\n",
        "    y_pred = y > 0.5\n",
        "    mask = y_pred == 0\n",
        "    return np.clip(np.where(mask.any(1), mask.argmax(1), 5) - 1, 0, 4)\n",
        "\n",
        "  preds = []\n",
        "  for i, name in tqdm(enumerate(valid_x)):\n",
        "      path = os.path.join('kaggle-data/aug_train_images/', name+'.png')\n",
        "      image = cv2.imread(path)\n",
        "  #     print(str(path))\n",
        "      image = cv2.resize(image, (SIZE, SIZE))\n",
        "      score_predict = model.predict((image[np.newaxis])/255)\n",
        "      label_predict = get_pred(score_predict)\n",
        "#       print('Predict {}-->{}'.format(score_predict, label_predict))\n",
        "#       label_predict = np.argmax(score_predict)\n",
        "      \n",
        "      preds.append(label_predict)\n",
        "\n",
        "#   valid_labels = np.argmax(valid_y, axis=-1)\n",
        "  valid_labels = get_pred(valid_y)\n",
        "  \n",
        "  cm  = confusion_matrix(valid_labels, preds)\n",
        "  plt.figure()\n",
        "  plot_confusion_matrix(cm,figsize=(12,8), hide_ticks=True, cmap=plt.cm.Blues, show_normed=True, show_absolute=False)\n",
        "  plt.show()"
      ],
      "execution_count": 0,
      "outputs": []
    },
    {
      "cell_type": "code",
      "metadata": {
        "id": "Vz-EovQpqz12",
        "colab_type": "code",
        "colab": {}
      },
      "source": [
        "qwk.history"
      ],
      "execution_count": 0,
      "outputs": []
    },
    {
      "cell_type": "code",
      "metadata": {
        "id": "qo48G_dEoSyD",
        "colab_type": "code",
        "outputId": "2057e1fb-6773-450f-9b59-91cf8be9dbf6",
        "colab": {
          "base_uri": "https://localhost:8080/",
          "height": 1000
        }
      },
      "source": [
        "check_model(history, model)"
      ],
      "execution_count": 0,
      "outputs": [
        {
          "output_type": "display_data",
          "data": {
            "image/png": "[encoded data removed]",
            "text/plain": [
              "<Figure size 432x288 with 1 Axes>"
            ]
          },
          "metadata": {
            "tags": []
          }
        },
        {
          "output_type": "display_data",
          "data": {
            "image/png": "[encoded data removed]",
            "text/plain": [
              "<Figure size 432x288 with 1 Axes>"
            ]
          },
          "metadata": {
            "tags": []
          }
        },
        {
          "output_type": "display_data",
          "data": {
            "image/png": "[encoded data removed]",
            "text/plain": [
              "<Figure size 432x288 with 1 Axes>"
            ]
          },
          "metadata": {
            "tags": []
          }
        },
        {
          "output_type": "display_data",
          "data": {
            "image/png": "[encoded data removed]",
            "text/plain": [
              "<Figure size 432x288 with 1 Axes>"
            ]
          },
          "metadata": {
            "tags": []
          }
        }
      ]
    },
    {
      "cell_type": "code",
      "metadata": {
        "id": "3C_arBxzc-xS",
        "colab_type": "code",
        "outputId": "341e48ce-9d03-4a85-8e3b-5c1f6752101f",
        "colab": {
          "base_uri": "https://localhost:8080/",
          "height": 1000
        }
      },
      "source": [
        "check_model(history2, model)"
      ],
      "execution_count": 0,
      "outputs": [
        {
          "output_type": "stream",
          "text": [
            "1374it [01:07, 20.37it/s]\n"
          ],
          "name": "stderr"
        },
        {
          "output_type": "display_data",
          "data": {
            "image/png": "[encoded data removed]",
            "text/plain": [
              "<Figure size 432x288 with 1 Axes>"
            ]
          },
          "metadata": {
            "tags": []
          }
        },
        {
          "output_type": "display_data",
          "data": {
            "image/png": "[encoded data removed]",
            "text/plain": [
              "<Figure size 432x288 with 1 Axes>"
            ]
          },
          "metadata": {
            "tags": []
          }
        },
        {
          "output_type": "display_data",
          "data": {
            "text/plain": [
              "<Figure size 432x288 with 0 Axes>"
            ]
          },
          "metadata": {
            "tags": []
          }
        },
        {
          "output_type": "display_data",
          "data": {
            "image/png": "[encoded data removed]",
            "text/plain": [
              "<Figure size 864x576 with 1 Axes>"
            ]
          },
          "metadata": {
            "tags": []
          }
        }
      ]
    },
    {
      "cell_type": "markdown",
      "metadata": {
        "id": "0CLLokszc6Db",
        "colab_type": "text"
      },
      "source": [
        "# Save Model"
      ]
    },
    {
      "cell_type": "code",
      "metadata": {
        "id": "Pb014KlMdBNO",
        "colab_type": "code",
        "outputId": "b0f6273f-ac83-438e-bccd-4f5da23c206b",
        "colab": {
          "base_uri": "https://localhost:8080/",
          "height": 34
        }
      },
      "source": [
        "%cd kaggle-data/model"
      ],
      "execution_count": 95,
      "outputs": [
        {
          "output_type": "stream",
          "text": [
            "/content/kaggle-data/model\n"
          ],
          "name": "stdout"
        }
      ]
    },
    {
      "cell_type": "code",
      "metadata": {
        "id": "UWlk-rAgOlAS",
        "colab_type": "code",
        "colab": {}
      },
      "source": [
        "!rm EffNet_multi_lrelu2.zip"
      ],
      "execution_count": 0,
      "outputs": []
    },
    {
      "cell_type": "code",
      "metadata": {
        "id": "0LfUYeATs3bW",
        "colab_type": "code",
        "outputId": "2b5e3bd9-45b0-476c-8a13-97edbd2b02a7",
        "colab": {
          "base_uri": "https://localhost:8080/",
          "height": 34
        }
      },
      "source": [
        "!zip EffNet_multi_lrelu3.zip EffNet_qwk-27-0.9820.h5\n",
        "!cp EffNet_multi_lrelu3.zip /content/gdrive/My\\ Drive/Retinopathy/models/EffNet/"
      ],
      "execution_count": 96,
      "outputs": [
        {
          "output_type": "stream",
          "text": [
            "  adding: EffNet_qwk-27-0.9820.h5 (deflated 8%)\n"
          ],
          "name": "stdout"
        }
      ]
    },
    {
      "cell_type": "code",
      "metadata": {
        "id": "93mRMlDlQ1gP",
        "colab_type": "code",
        "colab": {}
      },
      "source": [
        "!cp EffNet_multi_lrelu2.zip /content/gdrive/My\\ Drive"
      ],
      "execution_count": 0,
      "outputs": []
    },
    {
      "cell_type": "code",
      "metadata": {
        "id": "tYu6mZYNJeGN",
        "colab_type": "code",
        "colab": {
          "base_uri": "https://localhost:8080/",
          "height": 85
        },
        "outputId": "662e7e07-98d3-4c92-caa3-a1aa73a8f76b"
      },
      "source": [
        "!ls /content/gdrive/My\\ Drive/Retinopathy/models/EffNet -l"
      ],
      "execution_count": 91,
      "outputs": [
        {
          "output_type": "stream",
          "text": [
            "total 772719\n",
            "-rw------- 1 root root 340474381 Aug 20 04:41 EffNet_multi_456.zip\n",
            "-rw------- 1 root root 113887759 Aug 20 08:53 EffNet_multi_lrelu2.zip\n",
            "-rw------- 1 root root 336900255 Aug 20 04:42 EffNet_multi_lrelu.zip\n"
          ],
          "name": "stdout"
        }
      ]
    },
    {
      "cell_type": "code",
      "metadata": {
        "id": "hyot1IM1dYNt",
        "colab_type": "code",
        "outputId": "5de84fae-580c-47dc-9aba-c0d22e132b3d",
        "colab": {
          "base_uri": "https://localhost:8080/",
          "height": 34
        }
      },
      "source": [
        "%cd ../../"
      ],
      "execution_count": 93,
      "outputs": [
        {
          "output_type": "stream",
          "text": [
            "/content\n"
          ],
          "name": "stdout"
        }
      ]
    },
    {
      "cell_type": "markdown",
      "metadata": {
        "id": "F7m-oUOBoL4N",
        "colab_type": "text"
      },
      "source": [
        "# Compare models"
      ]
    },
    {
      "cell_type": "code",
      "metadata": {
        "id": "L72_8DcboLLz",
        "colab_type": "code",
        "outputId": "a66d80b8-41ef-427c-d256-cd743c1f0a4e",
        "colab": {
          "base_uri": "https://localhost:8080/",
          "height": 68
        }
      },
      "source": [
        "!cp /content/gdrive/My\\ Drive/Colab\\ Notebooks/resnet50_aug3.zip .\n",
        "!mkdir resnet50_aug3\n",
        "!unzip resnet50_aug3.zip -d resnet50_aug3"
      ],
      "execution_count": 0,
      "outputs": [
        {
          "output_type": "stream",
          "text": [
            "Archive:  resnet50_aug3.zip\n",
            "  inflating: resnet50_aug3/Resnet50-09-0.8952.h5  \n",
            "  inflating: resnet50_aug3/Resnet50_qwk-23-0.9533.h5  \n"
          ],
          "name": "stdout"
        }
      ]
    },
    {
      "cell_type": "code",
      "metadata": {
        "id": "E_2e9rE-qM8a",
        "colab_type": "code",
        "outputId": "e7c7e4d8-cfd8-4a8f-d6fe-d163adc62bdf",
        "colab": {
          "base_uri": "https://localhost:8080/",
          "height": 51
        }
      },
      "source": [
        "!cp /content/gdrive/My\\ Drive/Colab\\ Notebooks/resnet50_aug4.zip .\n",
        "!mkdir resnet50_aug4\n",
        "!unzip resnet50_aug4.zip -d resnet50_aug4"
      ],
      "execution_count": 0,
      "outputs": [
        {
          "output_type": "stream",
          "text": [
            "Archive:  resnet50_aug4.zip\n",
            "  inflating: resnet50_aug4/Resnet50_qwk-29-0.9558.h5  \n"
          ],
          "name": "stdout"
        }
      ]
    },
    {
      "cell_type": "code",
      "metadata": {
        "id": "2bwNb4o0t_3z",
        "colab_type": "code",
        "colab": {}
      },
      "source": [
        "def preprocess_image(img):\n",
        "  \n",
        "  if img.shape[2] ==1:\n",
        "    img = np.dstack([img, img, img])\n",
        "\n",
        "  img1 = cv2.cvtColor(img, cv2.COLOR_BGR2GRAY)\n",
        "\n",
        "  ret, img2 = cv2.threshold(img1, 10, 255, cv2.THRESH_BINARY)\n",
        "  points = np.argwhere(img2!=0)\n",
        "  points = np.fliplr(points)\n",
        "  x, y, w, h = cv2.boundingRect(points)\n",
        "\n",
        "  color_cropped = img[y:y+h, x:x+w]\n",
        "\n",
        "  clahe = cv2.createCLAHE(clipLimit=4.0)\n",
        "\n",
        "  lab = cv2.cvtColor(color_cropped, cv2.COLOR_BGR2LAB)\n",
        "  lab_planes = cv2.split(lab)\n",
        "  lab_planes[0] = clahe.apply(lab_planes[0])\n",
        "  lab_planes[1] = clahe.apply(lab_planes[1])\n",
        "  lab_planes[2] = clahe.apply(lab_planes[2])\n",
        "  \n",
        "  out = cv2.merge(lab_planes)\n",
        "  img3 = cv2.cvtColor(out, cv2.COLOR_LAB2BGR)\n",
        "  \n",
        "  img = cv2.resize(img3, (SIZE,SIZE), cv2.INTER_AREA)\n",
        "  \n",
        "#   img = img.astype(np.float32)/255\n",
        "  \n",
        "  return img"
      ],
      "execution_count": 0,
      "outputs": []
    },
    {
      "cell_type": "code",
      "metadata": {
        "id": "GfByqVUzs2lP",
        "colab_type": "code",
        "colab": {}
      },
      "source": [
        "train, val = train_test_split(df_train, test_size=0.4)\n",
        "train_data = train"
      ],
      "execution_count": 0,
      "outputs": []
    },
    {
      "cell_type": "code",
      "metadata": {
        "id": "y2haSmVTtdPm",
        "colab_type": "code",
        "outputId": "6cbe5656-a743-4d46-ead1-f1da62b5d750",
        "colab": {
          "base_uri": "https://localhost:8080/",
          "height": 204
        }
      },
      "source": [
        "train.head()"
      ],
      "execution_count": 0,
      "outputs": [
        {
          "output_type": "execute_result",
          "data": {
            "text/html": [
              "<div>\n",
              "<style scoped>\n",
              "    .dataframe tbody tr th:only-of-type {\n",
              "        vertical-align: middle;\n",
              "    }\n",
              "\n",
              "    .dataframe tbody tr th {\n",
              "        vertical-align: top;\n",
              "    }\n",
              "\n",
              "    .dataframe thead th {\n",
              "        text-align: right;\n",
              "    }\n",
              "</style>\n",
              "<table border=\"1\" class=\"dataframe\">\n",
              "  <thead>\n",
              "    <tr style=\"text-align: right;\">\n",
              "      <th></th>\n",
              "      <th>id_code</th>\n",
              "      <th>diagnosis</th>\n",
              "    </tr>\n",
              "  </thead>\n",
              "  <tbody>\n",
              "    <tr>\n",
              "      <th>7906</th>\n",
              "      <td>d9e58e4d8689</td>\n",
              "      <td>0</td>\n",
              "    </tr>\n",
              "    <tr>\n",
              "      <th>5884</th>\n",
              "      <td>a2ddabee14e9</td>\n",
              "      <td>4</td>\n",
              "    </tr>\n",
              "    <tr>\n",
              "      <th>191</th>\n",
              "      <td>05a5183c92d0_0</td>\n",
              "      <td>1</td>\n",
              "    </tr>\n",
              "    <tr>\n",
              "      <th>7120</th>\n",
              "      <td>c3cd0200df79_1</td>\n",
              "      <td>3</td>\n",
              "    </tr>\n",
              "    <tr>\n",
              "      <th>7202</th>\n",
              "      <td>c613db1cab27</td>\n",
              "      <td>2</td>\n",
              "    </tr>\n",
              "  </tbody>\n",
              "</table>\n",
              "</div>"
            ],
            "text/plain": [
              "             id_code  diagnosis\n",
              "7906    d9e58e4d8689          0\n",
              "5884    a2ddabee14e9          4\n",
              "191   05a5183c92d0_0          1\n",
              "7120  c3cd0200df79_1          3\n",
              "7202    c613db1cab27          2"
            ]
          },
          "metadata": {
            "tags": []
          },
          "execution_count": 12
        }
      ]
    },
    {
      "cell_type": "code",
      "metadata": {
        "id": "ZhyT0alWqUiV",
        "colab_type": "code",
        "outputId": "e0508362-5625-43f6-e009-46128f0aefdc",
        "colab": {
          "base_uri": "https://localhost:8080/",
          "height": 377
        }
      },
      "source": [
        "model1 = create_model(\n",
        "    input_shape=(SIZE,SIZE,3), \n",
        "    n_out=NUM_CLASSES,\n",
        "    model_weights=\"resnet50_aug3/Resnet50-09-0.8952.h5\")\n",
        "model1.compile(loss='categorical_crossentropy', metrics=['accuracy'],optimizer=Adam(1e-3))\n",
        "\n",
        "model2 = create_model(\n",
        "    input_shape=(SIZE,SIZE,3), \n",
        "    n_out=NUM_CLASSES,\n",
        "    model_weights='resnet50_aug4/Resnet50_qwk-29-0.9558.h5')\n",
        "model2.compile(loss='categorical_crossentropy', metrics=['accuracy'],optimizer=Adam(1e-3))"
      ],
      "execution_count": 0,
      "outputs": [
        {
          "output_type": "stream",
          "text": [
            "WARNING: Logging before flag parsing goes to stderr.\n",
            "W0807 06:26:48.074534 139889221781376 deprecation_wrapper.py:119] From /usr/local/lib/python3.6/dist-packages/keras/backend/tensorflow_backend.py:74: The name tf.get_default_graph is deprecated. Please use tf.compat.v1.get_default_graph instead.\n",
            "\n",
            "W0807 06:26:48.142511 139889221781376 deprecation_wrapper.py:119] From /usr/local/lib/python3.6/dist-packages/keras/backend/tensorflow_backend.py:517: The name tf.placeholder is deprecated. Please use tf.compat.v1.placeholder instead.\n",
            "\n",
            "W0807 06:26:48.170713 139889221781376 deprecation_wrapper.py:119] From /usr/local/lib/python3.6/dist-packages/keras/backend/tensorflow_backend.py:4185: The name tf.truncated_normal is deprecated. Please use tf.random.truncated_normal instead.\n",
            "\n",
            "W0807 06:26:48.221229 139889221781376 deprecation_wrapper.py:119] From /usr/local/lib/python3.6/dist-packages/keras/backend/tensorflow_backend.py:174: The name tf.get_default_session is deprecated. Please use tf.compat.v1.get_default_session instead.\n",
            "\n",
            "W0807 06:26:48.222414 139889221781376 deprecation_wrapper.py:119] From /usr/local/lib/python3.6/dist-packages/keras/backend/tensorflow_backend.py:181: The name tf.ConfigProto is deprecated. Please use tf.compat.v1.ConfigProto instead.\n",
            "\n",
            "W0807 06:26:51.342936 139889221781376 deprecation_wrapper.py:119] From /usr/local/lib/python3.6/dist-packages/keras/backend/tensorflow_backend.py:1834: The name tf.nn.fused_batch_norm is deprecated. Please use tf.compat.v1.nn.fused_batch_norm instead.\n",
            "\n",
            "W0807 06:26:51.435522 139889221781376 deprecation_wrapper.py:119] From /usr/local/lib/python3.6/dist-packages/keras/backend/tensorflow_backend.py:3976: The name tf.nn.max_pool is deprecated. Please use tf.nn.max_pool2d instead.\n",
            "\n",
            "W0807 06:26:57.459065 139889221781376 deprecation.py:506] From /usr/local/lib/python3.6/dist-packages/keras/backend/tensorflow_backend.py:3445: calling dropout (from tensorflow.python.ops.nn_ops) with keep_prob is deprecated and will be removed in a future version.\n",
            "Instructions for updating:\n",
            "Please use `rate` instead of `keep_prob`. Rate should be set to `rate = 1 - keep_prob`.\n",
            "W0807 06:27:00.936355 139889221781376 deprecation_wrapper.py:119] From /usr/local/lib/python3.6/dist-packages/keras/optimizers.py:790: The name tf.train.Optimizer is deprecated. Please use tf.compat.v1.train.Optimizer instead.\n",
            "\n"
          ],
          "name": "stderr"
        }
      ]
    },
    {
      "cell_type": "code",
      "metadata": {
        "id": "WfwsRMPGtFHB",
        "colab_type": "code",
        "colab": {}
      },
      "source": [
        "#Evaluate with train data itself\n",
        "train_img = []\n",
        "train_labels = []\n",
        "\n",
        "for idx, row in train_data.iterrows():\n",
        "    path = 'kaggle-data/aug_train_images/' + row['id_code']+'.png'\n",
        "    img = cv2.imread(path)\n",
        "    img = preprocess_image(img)\n",
        "\n",
        "    label = to_categorical(int(row['diagnosis']), num_classes=5)\n",
        "    train_img.append(img)\n",
        "    train_labels.append(label)\n",
        "    \n",
        "train_img = np.array(train_img)\n",
        "train_labels = np.array(train_labels)"
      ],
      "execution_count": 0,
      "outputs": []
    },
    {
      "cell_type": "markdown",
      "metadata": {
        "id": "tyc0rQEUvjn4",
        "colab_type": "text"
      },
      "source": [
        "## Evaluate First Model"
      ]
    },
    {
      "cell_type": "code",
      "metadata": {
        "id": "HIe-z7Btsh9D",
        "colab_type": "code",
        "outputId": "650ff3ab-6545-404a-cbb7-4d58d939700f",
        "colab": {
          "base_uri": "https://localhost:8080/",
          "height": 68
        }
      },
      "source": [
        "eval_loss1, eval_score1 = model1.evaluate(train_img, train_labels, batch_size=16)\n",
        "print(\"Loss on test set: \", eval_loss1)\n",
        "print(\"Accuracy on test set: \", eval_score1)"
      ],
      "execution_count": 0,
      "outputs": [
        {
          "output_type": "stream",
          "text": [
            "5495/5495 [==============================] - 96s 18ms/step\n",
            "Loss on test set:  7.650551852624561\n",
            "Accuracy on test set:  0.2043676069316482\n"
          ],
          "name": "stdout"
        }
      ]
    },
    {
      "cell_type": "code",
      "metadata": {
        "id": "IRQlUWtRzv1_",
        "colab_type": "code",
        "colab": {}
      },
      "source": [
        "#Evaluate with train data itself\n",
        "predicted1 = []\n",
        "# train_labels = []\n",
        "\n",
        "for idx, row in train_data.iterrows():\n",
        "    path = 'kaggle-data/aug_train_images/' + row['id_code']+'.png'\n",
        "    img = cv2.imread(path)\n",
        "    img = preprocess_image(img)\n",
        "\n",
        "    label = to_categorical(int(row['diagnosis']), num_classes=5)\n",
        "    score_predict = model1.predict((img[np.newaxis])/255)\n",
        "    label_predict = np.argmax(score_predict)\n",
        "    predicted1.append(str(label_predict))\n",
        "    "
      ],
      "execution_count": 0,
      "outputs": []
    },
    {
      "cell_type": "code",
      "metadata": {
        "id": "SyqhSVYU2J_C",
        "colab_type": "code",
        "outputId": "8842792d-2408-4f7e-aa1c-4dddd2755a22",
        "colab": {
          "base_uri": "https://localhost:8080/",
          "height": 394
        }
      },
      "source": [
        "cm  = confusion_matrix(orig_train_labels, predicted1)\n",
        "plt.figure()\n",
        "plot_confusion_matrix(cm,figsize=(12,8), hide_ticks=True, cmap=plt.cm.Blues, show_normed=True, show_absolute=False)\n",
        "#plt.xticks(range(5), ['0', '1', '2', '3', '4'], fontsize=16)\n",
        "#plt.yticks(range(5), ['0', '1', '2', '3', '4'], fontsize=16)\n",
        "plt.show()"
      ],
      "execution_count": 0,
      "outputs": [
        {
          "output_type": "error",
          "ename": "ValueError",
          "evalue": "ignored",
          "traceback": [
            "\u001b[0;31m---------------------------------------------------------------------------\u001b[0m",
            "\u001b[0;31mValueError\u001b[0m                                Traceback (most recent call last)",
            "\u001b[0;32m<ipython-input-24-f298a386d8e8>\u001b[0m in \u001b[0;36m<module>\u001b[0;34m()\u001b[0m\n\u001b[0;32m----> 1\u001b[0;31m \u001b[0mcm\u001b[0m  \u001b[0;34m=\u001b[0m \u001b[0mconfusion_matrix\u001b[0m\u001b[0;34m(\u001b[0m\u001b[0morig_train_labels\u001b[0m\u001b[0;34m,\u001b[0m \u001b[0mpredicted1\u001b[0m\u001b[0;34m)\u001b[0m\u001b[0;34m\u001b[0m\u001b[0;34m\u001b[0m\u001b[0m\n\u001b[0m\u001b[1;32m      2\u001b[0m \u001b[0mplt\u001b[0m\u001b[0;34m.\u001b[0m\u001b[0mfigure\u001b[0m\u001b[0;34m(\u001b[0m\u001b[0;34m)\u001b[0m\u001b[0;34m\u001b[0m\u001b[0;34m\u001b[0m\u001b[0m\n\u001b[1;32m      3\u001b[0m \u001b[0mplot_confusion_matrix\u001b[0m\u001b[0;34m(\u001b[0m\u001b[0mcm\u001b[0m\u001b[0;34m,\u001b[0m\u001b[0mfigsize\u001b[0m\u001b[0;34m=\u001b[0m\u001b[0;34m(\u001b[0m\u001b[0;36m12\u001b[0m\u001b[0;34m,\u001b[0m\u001b[0;36m8\u001b[0m\u001b[0;34m)\u001b[0m\u001b[0;34m,\u001b[0m \u001b[0mhide_ticks\u001b[0m\u001b[0;34m=\u001b[0m\u001b[0;32mTrue\u001b[0m\u001b[0;34m,\u001b[0m \u001b[0mcmap\u001b[0m\u001b[0;34m=\u001b[0m\u001b[0mplt\u001b[0m\u001b[0;34m.\u001b[0m\u001b[0mcm\u001b[0m\u001b[0;34m.\u001b[0m\u001b[0mBlues\u001b[0m\u001b[0;34m,\u001b[0m \u001b[0mshow_normed\u001b[0m\u001b[0;34m=\u001b[0m\u001b[0;32mTrue\u001b[0m\u001b[0;34m,\u001b[0m \u001b[0mshow_absolute\u001b[0m\u001b[0;34m=\u001b[0m\u001b[0;32mFalse\u001b[0m\u001b[0;34m)\u001b[0m\u001b[0;34m\u001b[0m\u001b[0;34m\u001b[0m\u001b[0m\n\u001b[1;32m      4\u001b[0m \u001b[0;31m#plt.xticks(range(5), ['0', '1', '2', '3', '4'], fontsize=16)\u001b[0m\u001b[0;34m\u001b[0m\u001b[0;34m\u001b[0m\u001b[0;34m\u001b[0m\u001b[0m\n\u001b[1;32m      5\u001b[0m \u001b[0;31m#plt.yticks(range(5), ['0', '1', '2', '3', '4'], fontsize=16)\u001b[0m\u001b[0;34m\u001b[0m\u001b[0;34m\u001b[0m\u001b[0;34m\u001b[0m\u001b[0m\n",
            "\u001b[0;32m/usr/local/lib/python3.6/dist-packages/sklearn/metrics/classification.py\u001b[0m in \u001b[0;36mconfusion_matrix\u001b[0;34m(y_true, y_pred, labels, sample_weight)\u001b[0m\n\u001b[1;32m    256\u001b[0m \u001b[0;34m\u001b[0m\u001b[0m\n\u001b[1;32m    257\u001b[0m     \u001b[0;32mif\u001b[0m \u001b[0mlabels\u001b[0m \u001b[0;32mis\u001b[0m \u001b[0;32mNone\u001b[0m\u001b[0;34m:\u001b[0m\u001b[0;34m\u001b[0m\u001b[0;34m\u001b[0m\u001b[0m\n\u001b[0;32m--> 258\u001b[0;31m         \u001b[0mlabels\u001b[0m \u001b[0;34m=\u001b[0m \u001b[0munique_labels\u001b[0m\u001b[0;34m(\u001b[0m\u001b[0my_true\u001b[0m\u001b[0;34m,\u001b[0m \u001b[0my_pred\u001b[0m\u001b[0;34m)\u001b[0m\u001b[0;34m\u001b[0m\u001b[0;34m\u001b[0m\u001b[0m\n\u001b[0m\u001b[1;32m    259\u001b[0m     \u001b[0;32melse\u001b[0m\u001b[0;34m:\u001b[0m\u001b[0;34m\u001b[0m\u001b[0;34m\u001b[0m\u001b[0m\n\u001b[1;32m    260\u001b[0m         \u001b[0mlabels\u001b[0m \u001b[0;34m=\u001b[0m \u001b[0mnp\u001b[0m\u001b[0;34m.\u001b[0m\u001b[0masarray\u001b[0m\u001b[0;34m(\u001b[0m\u001b[0mlabels\u001b[0m\u001b[0;34m)\u001b[0m\u001b[0;34m\u001b[0m\u001b[0;34m\u001b[0m\u001b[0m\n",
            "\u001b[0;32m/usr/local/lib/python3.6/dist-packages/sklearn/utils/multiclass.py\u001b[0m in \u001b[0;36munique_labels\u001b[0;34m(*ys)\u001b[0m\n\u001b[1;32m     98\u001b[0m     \u001b[0;31m# Check that we don't mix string type with number type\u001b[0m\u001b[0;34m\u001b[0m\u001b[0;34m\u001b[0m\u001b[0;34m\u001b[0m\u001b[0m\n\u001b[1;32m     99\u001b[0m     \u001b[0;32mif\u001b[0m \u001b[0;34m(\u001b[0m\u001b[0mlen\u001b[0m\u001b[0;34m(\u001b[0m\u001b[0mset\u001b[0m\u001b[0;34m(\u001b[0m\u001b[0misinstance\u001b[0m\u001b[0;34m(\u001b[0m\u001b[0mlabel\u001b[0m\u001b[0;34m,\u001b[0m \u001b[0mstr\u001b[0m\u001b[0;34m)\u001b[0m \u001b[0;32mfor\u001b[0m \u001b[0mlabel\u001b[0m \u001b[0;32min\u001b[0m \u001b[0mys_labels\u001b[0m\u001b[0;34m)\u001b[0m\u001b[0;34m)\u001b[0m \u001b[0;34m>\u001b[0m \u001b[0;36m1\u001b[0m\u001b[0;34m)\u001b[0m\u001b[0;34m:\u001b[0m\u001b[0;34m\u001b[0m\u001b[0;34m\u001b[0m\u001b[0m\n\u001b[0;32m--> 100\u001b[0;31m         \u001b[0;32mraise\u001b[0m \u001b[0mValueError\u001b[0m\u001b[0;34m(\u001b[0m\u001b[0;34m\"Mix of label input types (string and number)\"\u001b[0m\u001b[0;34m)\u001b[0m\u001b[0;34m\u001b[0m\u001b[0;34m\u001b[0m\u001b[0m\n\u001b[0m\u001b[1;32m    101\u001b[0m \u001b[0;34m\u001b[0m\u001b[0m\n\u001b[1;32m    102\u001b[0m     \u001b[0;32mreturn\u001b[0m \u001b[0mnp\u001b[0m\u001b[0;34m.\u001b[0m\u001b[0marray\u001b[0m\u001b[0;34m(\u001b[0m\u001b[0msorted\u001b[0m\u001b[0;34m(\u001b[0m\u001b[0mys_labels\u001b[0m\u001b[0;34m)\u001b[0m\u001b[0;34m)\u001b[0m\u001b[0;34m\u001b[0m\u001b[0;34m\u001b[0m\u001b[0m\n",
            "\u001b[0;31mValueError\u001b[0m: Mix of label input types (string and number)"
          ]
        }
      ]
    },
    {
      "cell_type": "code",
      "metadata": {
        "id": "Qb752DDh2J1l",
        "colab_type": "code",
        "colab": {}
      },
      "source": [
        ""
      ],
      "execution_count": 0,
      "outputs": []
    },
    {
      "cell_type": "markdown",
      "metadata": {
        "id": "Vey0luC82Jhg",
        "colab_type": "text"
      },
      "source": [
        ""
      ]
    },
    {
      "cell_type": "code",
      "metadata": {
        "id": "K7usmfR9uO7y",
        "colab_type": "code",
        "colab": {}
      },
      "source": [
        "preds1 = model1.predict(train_img, batch_size=16)\n",
        "preds1 = np.argmax(preds1, axis=-1)\n",
        "\n",
        "# Original labels\n",
        "orig_train_labels = np.argmax(train_labels, axis=-1)"
      ],
      "execution_count": 0,
      "outputs": []
    },
    {
      "cell_type": "markdown",
      "metadata": {
        "id": "1PveK-5LvsQX",
        "colab_type": "text"
      },
      "source": [
        "## Confusion Matrix"
      ]
    },
    {
      "cell_type": "code",
      "metadata": {
        "id": "54PF9oIOve4h",
        "colab_type": "code",
        "outputId": "455627b7-9051-4693-eb32-15dbda75d83f",
        "colab": {
          "base_uri": "https://localhost:8080/",
          "height": 500
        }
      },
      "source": [
        "cm  = confusion_matrix(orig_train_labels, preds1)\n",
        "plt.figure()\n",
        "plot_confusion_matrix(cm,figsize=(12,8), hide_ticks=True, cmap=plt.cm.Blues, show_normed=True, show_absolute=False)\n",
        "#plt.xticks(range(5), ['0', '1', '2', '3', '4'], fontsize=16)\n",
        "#plt.yticks(range(5), ['0', '1', '2', '3', '4'], fontsize=16)\n",
        "plt.show()"
      ],
      "execution_count": 0,
      "outputs": [
        {
          "output_type": "display_data",
          "data": {
            "text/plain": [
              "<Figure size 432x288 with 0 Axes>"
            ]
          },
          "metadata": {
            "tags": []
          }
        },
        {
          "output_type": "display_data",
          "data": {
            "image/png": "[encoded data removed]",
            "text/plain": [
              "<Figure size 864x576 with 1 Axes>"
            ]
          },
          "metadata": {
            "tags": []
          }
        }
      ]
    },
    {
      "cell_type": "markdown",
      "metadata": {
        "id": "hX-Ea23Nv0aI",
        "colab_type": "text"
      },
      "source": [
        "## Evaluate second Model"
      ]
    },
    {
      "cell_type": "code",
      "metadata": {
        "id": "gKXTtjMbvz_I",
        "colab_type": "code",
        "outputId": "f81d1219-7fd2-4027-e443-5341df7c6bdc",
        "colab": {
          "base_uri": "https://localhost:8080/",
          "height": 68
        }
      },
      "source": [
        "eval_loss2, eval_score2 = model2.evaluate(train_img, train_labels, batch_size=16)\n",
        "print(\"Loss on test set: \", eval_loss2)\n",
        "print(\"Accuracy on test set: \", eval_score2)"
      ],
      "execution_count": 0,
      "outputs": [
        {
          "output_type": "stream",
          "text": [
            "5495/5495 [==============================] - 91s 17ms/step\n",
            "Loss on test set:  7.940974250460235\n",
            "Accuracy on test set:  0.26223839856040165\n"
          ],
          "name": "stdout"
        }
      ]
    },
    {
      "cell_type": "code",
      "metadata": {
        "id": "elM0nq-lv-He",
        "colab_type": "code",
        "colab": {}
      },
      "source": [
        "preds2 = model2.predict(train_img, batch_size=16)\n",
        "preds2 = np.argmax(preds2, axis=-1)\n",
        "\n",
        "# Original labels\n",
        "# orig_train_labels = np.argmax(train_labels, axis=-1)"
      ],
      "execution_count": 0,
      "outputs": []
    },
    {
      "cell_type": "code",
      "metadata": {
        "id": "YJi3RgBtwDdI",
        "colab_type": "code",
        "outputId": "7c3ac8f6-d6ce-47aa-86c5-d1ba6a4e8918",
        "colab": {
          "base_uri": "https://localhost:8080/",
          "height": 500
        }
      },
      "source": [
        "cm  = confusion_matrix(orig_train_labels, preds2)\n",
        "plt.figure()\n",
        "plot_confusion_matrix(cm,figsize=(12,8), hide_ticks=True, cmap=plt.cm.Blues, show_normed=True, show_absolute=False)\n",
        "#plt.xticks(range(5), ['0', '1', '2', '3', '4'], fontsize=16)\n",
        "#plt.yticks(range(5), ['0', '1', '2', '3', '4'], fontsize=16)\n",
        "plt.show()"
      ],
      "execution_count": 0,
      "outputs": [
        {
          "output_type": "display_data",
          "data": {
            "text/plain": [
              "<Figure size 432x288 with 0 Axes>"
            ]
          },
          "metadata": {
            "tags": []
          }
        },
        {
          "output_type": "display_data",
          "data": {
            "image/png": "[encoded data removed]",
            "text/plain": [
              "<Figure size 864x576 with 1 Axes>"
            ]
          },
          "metadata": {
            "tags": []
          }
        }
      ]
    }
  ]
}