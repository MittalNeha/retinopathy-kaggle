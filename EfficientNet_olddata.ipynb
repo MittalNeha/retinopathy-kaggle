{
  "nbformat": 4,
  "nbformat_minor": 0,
  "metadata": {
    "colab": {
      "name": "EfficientNet olddata.ipynb",
      "version": "0.3.2",
      "provenance": [],
      "collapsed_sections": [
        "F7m-oUOBoL4N",
        "tyc0rQEUvjn4",
        "1PveK-5LvsQX",
        "hX-Ea23Nv0aI"
      ],
      "toc_visible": true,
      "machine_shape": "hm",
      "include_colab_link": true
    },
    "kernelspec": {
      "name": "python3",
      "display_name": "Python 3"
    },
    "accelerator": "GPU"
  },
  "cells": [
    {
      "cell_type": "markdown",
      "metadata": {
        "id": "view-in-github",
        "colab_type": "text"
      },
      "source": [
        "<a href=\"https://colab.research.google.com/github/MittalNeha/retinopathy-kaggle/blob/master/EfficientNet_olddata.ipynb\" target=\"_parent\"><img src=\"https://colab.research.google.com/assets/colab-badge.svg\" alt=\"Open In Colab\"/></a>"
      ]
    },
    {
      "cell_type": "markdown",
      "metadata": {
        "id": "piwVOIuv7Mu1",
        "colab_type": "text"
      },
      "source": [
        "Going by some comments in the competition for using old data\n",
        "\n",
        "setup: \n",
        "Regression Problem\n",
        "IMG_SIZE: 224 \n",
        "MODEL: B3\n",
        "no TTA:\n",
        "5 fold CV (same across experiments) \n",
        "\n",
        "EDIT:\n",
        "pertained on old competition data (train)(full not cropped). \n",
        "optimizer: ADAM\n",
        "monitor: Valid Loss\n",
        "valid_dataset: 2019\n",
        "training_phase_1: Load Image Net weights, freeze up to last layer train for 5 epoch \n",
        "training_phase_2: Unfreeze whole model and train for 15 epoch. \n",
        "\n",
        "for the Experiments below. \n",
        "I load weights which were trained above unfreeze the model and train for 5 epochs, monitoring  valid loss \n",
        "EXP_1:\n",
        "\n",
        "no AUGMENT:\n",
        "CV: 0.93 LB: 0.78\n",
        "EXP_2:\n",
        "\n",
        "AUGMENT = [FLIPS]\n",
        "CV: 0.934, LB: 0.783\n",
        "EXP_3:\n",
        "\n",
        "AUGMENT = [rotation(360)]\n",
        "CV: 0.92 LB: 0.79\n",
        "EXP4:\n",
        "\n",
        "AUGMENT = [zoom_to_center_area(1. 3)]\n",
        "CV: 0.90 LB: 0.793\n",
        "EXP5:\n",
        "\n",
        "AUGMENT = [FLIP, ZOOM_TO_CENTER, ROTATE(360), CONTRAST]\n",
        "CV: 0.89 LB: 0.809 "
      ]
    },
    {
      "cell_type": "markdown",
      "metadata": {
        "id": "QR8cTnzr7obw",
        "colab_type": "text"
      },
      "source": [
        "1. EffNet B5, input size =300 and use old data"
      ]
    },
    {
      "cell_type": "code",
      "metadata": {
        "id": "GMNM_ZaOgwPy",
        "colab_type": "code",
        "colab": {
          "base_uri": "https://localhost:8080/",
          "height": 34
        },
        "outputId": "2ffb6149-b082-4e5b-d848-21f22d2c5a0f"
      },
      "source": [
        "# It is defined by the kaggle/python docker image: https://github.com/kaggle/docker-python\n",
        "# For example, here's several helpful packages to load in \n",
        "\n",
        "import os\n",
        "import glob\n",
        "import h5py\n",
        "import shutil\n",
        "import imgaug as aug\n",
        "import numpy as np # linear algebra\n",
        "import pandas as pd # data processing, CSV file I/O (e.g. pd.read_csv)\n",
        "import seaborn as sns\n",
        "import matplotlib.pyplot as plt\n",
        "import matplotlib.image as mimg\n",
        "import imgaug.augmenters as iaa\n",
        "from os import listdir, makedirs, getcwd, remove\n",
        "from os.path import isfile, join, abspath, exists, isdir, expanduser\n",
        "from PIL import Image\n",
        "from pathlib import Path\n",
        "from skimage.io import imread\n",
        "from skimage.transform import resize\n",
        "\n",
        "import keras\n",
        "from keras.models import Sequential, Model\n",
        "from keras.applications.vgg16 import VGG16, preprocess_input\n",
        "from keras.preprocessing.image import ImageDataGenerator,load_img, img_to_array\n",
        "from keras.models import Sequential, load_model\n",
        "from keras.layers import (Activation, Conv2D, MaxPooling2D, Dense, Dropout, Input, Flatten, SeparableConv2D,\n",
        "                          Dense, BatchNormalization, GlobalAveragePooling2D)\n",
        "from keras.layers import GlobalMaxPooling2D\n",
        "from keras.layers.normalization import BatchNormalization\n",
        "from keras.layers.merge import Concatenate\n",
        "from keras.models import Model\n",
        "from keras.optimizers import Adam, SGD, RMSprop\n",
        "from keras.callbacks import ModelCheckpoint, Callback, EarlyStopping\n",
        "from keras.utils import Sequence\n",
        "from keras.utils import to_categorical\n",
        "from keras.losses import binary_crossentropy, categorical_crossentropy\n",
        "from keras.layers import LeakyReLU\n",
        "\n",
        "from keras.applications.resnet50 import ResNet50\n",
        "# from keras.applications.res\n",
        "\n",
        "from sklearn.model_selection import train_test_split\n",
        "from sklearn.preprocessing import StandardScaler\n",
        "from mlxtend.plotting import plot_confusion_matrix\n",
        "from keras import metrics\n",
        "from sklearn.metrics import confusion_matrix, cohen_kappa_score\n",
        "from sklearn.utils import class_weight, shuffle\n",
        "import cv2\n",
        "from keras import backend as K\n",
        "import tensorflow as tf\n",
        "\n",
        "from sklearn.preprocessing import MultiLabelBinarizer\n",
        "\n",
        "from tqdm import tqdm\n",
        "\n",
        "color = sns.color_palette()\n",
        "%matplotlib inline\n",
        "\n",
        "# Input data files are available in the \"../input/\" directory.\n",
        "# For example, running this (by clicking run or pressing Shift+Enter) will list the files in the input directory\n"
      ],
      "execution_count": 1,
      "outputs": [
        {
          "output_type": "stream",
          "text": [
            "Using TensorFlow backend.\n"
          ],
          "name": "stderr"
        }
      ]
    },
    {
      "cell_type": "code",
      "metadata": {
        "id": "l1l8MWb1WrLZ",
        "colab_type": "code",
        "colab": {}
      },
      "source": [
        "import random\n",
        "\n",
        "def seed_everything(seed):\n",
        "    random.seed(seed)\n",
        "    os.environ['PYTHONHASHSEED'] = str(seed)\n",
        "    np.random.seed(seed)\n",
        "\n",
        "    tf.set_random_seed(seed)\n",
        "#     session_conf = tf.ConfigProto(intra_op_parallelism_threads=1, inter_op_parallelism_threads=1)\n",
        "#     sess = tf.Session(graph=tf.get_default_graph(), config=session_conf)\n",
        "#     K.set_session(sess)\n",
        "\n",
        "# Make the augmentation sequence deterministic\n",
        "#     aug.seed(seed)\n",
        "    \n",
        "seed_everything(42)"
      ],
      "execution_count": 0,
      "outputs": []
    },
    {
      "cell_type": "code",
      "metadata": {
        "id": "-jzw7yIaiaLR",
        "colab_type": "code",
        "outputId": "9eaec104-448a-4239-b9a5-c70903a43d28",
        "colab": {
          "base_uri": "https://localhost:8080/",
          "height": 122
        }
      },
      "source": [
        "from google.colab import drive\n",
        "drive.mount('/content/gdrive')"
      ],
      "execution_count": 0,
      "outputs": [
        {
          "output_type": "stream",
          "text": [
            "Go to this URL in a browser: https://accounts.google.com/o/oauth2/auth?client_id=947318989803-6bn6qk8qdgf4n4g3pfee6491hc0brc4i.apps.googleusercontent.com&redirect_uri=urn%3Aietf%3Awg%3Aoauth%3A2.0%3Aoob&scope=email%20https%3A%2F%2Fwww.googleapis.com%2Fauth%2Fdocs.test%20https%3A%2F%2Fwww.googleapis.com%2Fauth%2Fdrive%20https%3A%2F%2Fwww.googleapis.com%2Fauth%2Fdrive.photos.readonly%20https%3A%2F%2Fwww.googleapis.com%2Fauth%2Fpeopleapi.readonly&response_type=code\n",
            "\n",
            "Enter your authorization code:\n",
            "··········\n",
            "Mounted at /content/gdrive\n"
          ],
          "name": "stdout"
        }
      ]
    },
    {
      "cell_type": "code",
      "metadata": {
        "id": "Ao3wR7Axiaq1",
        "colab_type": "code",
        "colab": {}
      },
      "source": [
        "def get_kaggle_data():\n",
        "  os.environ['KAGGLE_USERNAME'] = \"mittalneha\"\n",
        "  os.environ['KAGGLE_KEY'] = \"59ec3f992f5fb4b510bebd8dea889381\"\n",
        "  \n",
        "  !kaggle competitions download -c aptos2019-blindness-detection\n",
        "  \n",
        "  !mkdir kaggle-data\n",
        "  !mv sample_submission.csv kaggle-data/\n",
        "  !mv test.csv kaggle-data/\n",
        "\n",
        "  !unzip test_images.zip -d kaggle-data/test_images\n",
        "  !rm test_images.zip\n",
        "  !rm train_images.zip\n",
        "\n",
        "  !cp /content/gdrive/My\\ Drive/Retinopathy/data/aug_train_images.zip .\n",
        "  !unzip aug_train_images.zip -d kaggle-data/\n",
        "  !rm aug_train_images.zip\n",
        "  \n",
        "  !cp /content/gdrive/My\\ Drive/Retinopathy/data/aug_train.csv kaggle-data/\n",
        "  !mv aug_train.csv kaggle-data/\n",
        "  \n",
        "  !cp /content/gdrive/My\\ Drive/Retinopathy/data/old_train_images_300.zip .\n",
        "  !unzip old_train_images_300.zip -d kaggle-data/\n",
        "  !rm old_train_images_300.zip\n",
        "  \n",
        "  !cp /content/gdrive/My\\ Drive/Retinopathy/data/trainLabels.csv kaggle-data/\n",
        "  !mv trainLabels.csv kaggle-data/  \n",
        "  \n",
        "  \n",
        "  !kaggle datasets download -d ratthachat/efficientnet-keras-weights-b0b5\n",
        "  !cp /content/gdrive/My\\ Drive/Retinopathy/data/efficientnet-master.zip .\n",
        "  !unzip efficientnet-keras-weights-b0b5 -d kaggle-data/efficientnets-weights/\n",
        "  !unzip efficientnet-master.zip\n",
        "  "
      ],
      "execution_count": 0,
      "outputs": []
    },
    {
      "cell_type": "code",
      "metadata": {
        "id": "migL32nXiel8",
        "colab_type": "code",
        "colab": {}
      },
      "source": [
        "data_dir = \"kaggle-data\"\n",
        "get_kaggle_data()"
      ],
      "execution_count": 0,
      "outputs": []
    },
    {
      "cell_type": "code",
      "metadata": {
        "id": "gB2uiTp1rAx6",
        "colab_type": "code",
        "colab": {}
      },
      "source": [
        "# sys.path.remove('/content/efficientnet-master')"
      ],
      "execution_count": 0,
      "outputs": []
    },
    {
      "cell_type": "code",
      "metadata": {
        "id": "ga2ZErsXuN9w",
        "colab_type": "code",
        "colab": {}
      },
      "source": [
        "# !pip install efficientnet-master/"
      ],
      "execution_count": 0,
      "outputs": []
    },
    {
      "cell_type": "code",
      "metadata": {
        "id": "0MuM82iWgV0v",
        "colab_type": "code",
        "colab": {}
      },
      "source": [
        "import sys\n",
        "sys.path.append(os.path.abspath('efficientnet-master/'))\n",
        "import efficientnet.keras as efn "
      ],
      "execution_count": 0,
      "outputs": []
    },
    {
      "cell_type": "code",
      "metadata": {
        "id": "VJlLRV1aiiv1",
        "colab_type": "code",
        "colab": {}
      },
      "source": [
        "WORKERS = 2\n",
        "CHANNEL = 3\n",
        "\n",
        "import warnings\n",
        "warnings.filterwarnings(\"ignore\")\n",
        "# SIZE = 456\n",
        "SIZE = 300\n",
        "NUM_CLASSES = 5"
      ],
      "execution_count": 0,
      "outputs": []
    },
    {
      "cell_type": "code",
      "metadata": {
        "id": "Lm4lMspKiqkU",
        "colab_type": "code",
        "colab": {}
      },
      "source": [
        "df_train = pd.read_csv('kaggle-data/aug_train.csv')\n",
        "df_test = pd.read_csv('kaggle-data/test.csv')\n",
        "df_old = pd.read_csv('kaggle-data/trainLabels.csv')\n",
        "\n",
        "df_train.columns = ['id_code', 'diagnosis']\n",
        "df_old.columns = ['id_code', 'diagnosis']\n",
        "\n",
        "#removing images that had bad contrast\n",
        "df_old = df_old[df_old.id_code != '1986_left']\n",
        "df_old = df_old[df_old.id_code != '34689_left']\n",
        "\n",
        "df_train['id_code'] = 'kaggle-data/aug_train_images/' + df_train['id_code'].astype(str) + \".png\"\n",
        "df_old['id_code'] = 'kaggle-data/old_train_images_300/' + df_old['id_code'].astype(str) + \".jpeg\"\n",
        "\n",
        "# train_df = pd.concat([df_train,df_old]).reset_index(drop=True)\n",
        "# train_df.head()"
      ],
      "execution_count": 0,
      "outputs": []
    },
    {
      "cell_type": "code",
      "metadata": {
        "id": "9cnNlMx-5xUT",
        "colab_type": "code",
        "colab": {}
      },
      "source": [
        "# train_df['diagnosis'].hist()"
      ],
      "execution_count": 0,
      "outputs": []
    },
    {
      "cell_type": "code",
      "metadata": {
        "id": "5s56_kEjvd2D",
        "colab_type": "code",
        "outputId": "9a28f4b2-19e1-4594-bbd6-8e223de015e6",
        "colab": {
          "base_uri": "https://localhost:8080/",
          "height": 204
        }
      },
      "source": [
        "def get_label(diagnosis):\n",
        "  return [i for i in range(diagnosis + 1)]\n",
        "#     return ','.join([str(i+1) for i in range(diagnosis + 1)])\n",
        "df_old['label'] = df_old.diagnosis.apply(get_label)\n",
        "df_old.head()\n",
        "\n",
        "df_train['label'] = df_train.diagnosis.apply(get_label)"
      ],
      "execution_count": 0,
      "outputs": [
        {
          "output_type": "execute_result",
          "data": {
            "text/html": [
              "<div>\n",
              "<style scoped>\n",
              "    .dataframe tbody tr th:only-of-type {\n",
              "        vertical-align: middle;\n",
              "    }\n",
              "\n",
              "    .dataframe tbody tr th {\n",
              "        vertical-align: top;\n",
              "    }\n",
              "\n",
              "    .dataframe thead th {\n",
              "        text-align: right;\n",
              "    }\n",
              "</style>\n",
              "<table border=\"1\" class=\"dataframe\">\n",
              "  <thead>\n",
              "    <tr style=\"text-align: right;\">\n",
              "      <th></th>\n",
              "      <th>id_code</th>\n",
              "      <th>diagnosis</th>\n",
              "      <th>label</th>\n",
              "    </tr>\n",
              "  </thead>\n",
              "  <tbody>\n",
              "    <tr>\n",
              "      <th>0</th>\n",
              "      <td>kaggle-data/aug_train_images/000c1434d8d7_0.png</td>\n",
              "      <td>2</td>\n",
              "      <td>[0, 1, 2]</td>\n",
              "    </tr>\n",
              "    <tr>\n",
              "      <th>1</th>\n",
              "      <td>kaggle-data/aug_train_images/001639a390f0.png</td>\n",
              "      <td>4</td>\n",
              "      <td>[0, 1, 2, 3, 4]</td>\n",
              "    </tr>\n",
              "    <tr>\n",
              "      <th>2</th>\n",
              "      <td>kaggle-data/aug_train_images/001639a390f0_0.png</td>\n",
              "      <td>4</td>\n",
              "      <td>[0, 1, 2, 3, 4]</td>\n",
              "    </tr>\n",
              "    <tr>\n",
              "      <th>3</th>\n",
              "      <td>kaggle-data/aug_train_images/001639a390f0_1.png</td>\n",
              "      <td>4</td>\n",
              "      <td>[0, 1, 2, 3, 4]</td>\n",
              "    </tr>\n",
              "    <tr>\n",
              "      <th>4</th>\n",
              "      <td>kaggle-data/aug_train_images/001639a390f0_2.png</td>\n",
              "      <td>4</td>\n",
              "      <td>[0, 1, 2, 3, 4]</td>\n",
              "    </tr>\n",
              "  </tbody>\n",
              "</table>\n",
              "</div>"
            ],
            "text/plain": [
              "                                           id_code  diagnosis            label\n",
              "0  kaggle-data/aug_train_images/000c1434d8d7_0.png          2        [0, 1, 2]\n",
              "1    kaggle-data/aug_train_images/001639a390f0.png          4  [0, 1, 2, 3, 4]\n",
              "2  kaggle-data/aug_train_images/001639a390f0_0.png          4  [0, 1, 2, 3, 4]\n",
              "3  kaggle-data/aug_train_images/001639a390f0_1.png          4  [0, 1, 2, 3, 4]\n",
              "4  kaggle-data/aug_train_images/001639a390f0_2.png          4  [0, 1, 2, 3, 4]"
            ]
          },
          "metadata": {
            "tags": []
          },
          "execution_count": 11
        }
      ]
    },
    {
      "cell_type": "code",
      "metadata": {
        "id": "BoY00NWKxo-3",
        "colab_type": "code",
        "colab": {}
      },
      "source": [
        "mlb = MultiLabelBinarizer(classes=[0,1,2,3,4])\n",
        "# labels = [(1,2), (1,), (1,2)]\n",
        "\n",
        "# y = mlb.fit_transform(y)\n",
        "# mlb.fit_transform(labels)\n",
        "# mlb.fit_transform(list(y[i]) for i in range(0,len(y)))\n",
        "# yy = mlb.fit_transform(df_train['diagnosis'])\n",
        "# mlb.classes_"
      ],
      "execution_count": 0,
      "outputs": []
    },
    {
      "cell_type": "code",
      "metadata": {
        "id": "5K22T2Aiiv4l",
        "colab_type": "code",
        "colab": {}
      },
      "source": [
        "y = df_old['label']\n",
        "y = mlb.fit_transform(y)\n",
        "x = df_old['id_code']\n",
        "\n",
        "\n",
        "train_x, train_y = shuffle(x, y, random_state=8)\n",
        "\n",
        "valid_y = df_train['label']\n",
        "valid_y = mlb.fit_transform(valid_y)\n",
        "valid_x = df_train['id_code']\n",
        "valid_x, valid_y = shuffle(valid_x, valid_y, random_state=8)\n",
        "\n",
        "# y = to_categorical(y, num_classes=NUM_CLASSES)\n",
        "# train_x, valid_x, train_y, valid_y = train_test_split(x, y, test_size=0.15,\n",
        "#                                                       stratify=y, random_state=8)\n",
        "print(train_x.shape)\n",
        "print(train_y.shape)\n",
        "print(valid_x.shape)\n",
        "print(valid_y.shape)"
      ],
      "execution_count": 0,
      "outputs": []
    },
    {
      "cell_type": "code",
      "metadata": {
        "id": "uUR2sajlOr1r",
        "colab_type": "code",
        "colab": {}
      },
      "source": [
        "sometimes = lambda aug: iaa.Sometimes(0.5, aug)\n",
        "seq = iaa.Sequential([\n",
        "    sometimes(\n",
        "        iaa.OneOf([\n",
        "            iaa.Add((-10, 10), per_channel=0.5),\n",
        "            iaa.Multiply((0.9, 1.1), per_channel=0.5),\n",
        "            iaa.ContrastNormalization((0.9, 1.1), per_channel=0.5)\n",
        "        ])\n",
        "    ),\n",
        "    iaa.Fliplr(0.5),\n",
        "    iaa.Crop(percent=(0, 0.1)),\n",
        "    iaa.Flipud(0.5)\n",
        "],random_order=True)"
      ],
      "execution_count": 0,
      "outputs": []
    },
    {
      "cell_type": "code",
      "metadata": {
        "id": "24XlFfhmi7Du",
        "colab_type": "code",
        "colab": {}
      },
      "source": [
        "class My_Generator(Sequence):\n",
        "\n",
        "    def __init__(self, image_filenames, labels,\n",
        "                 batch_size, is_train=True,\n",
        "                 mix=False, augment=False):\n",
        "        self.image_filenames, self.labels = image_filenames, labels\n",
        "        self.batch_size = batch_size\n",
        "        self.is_train = is_train\n",
        "        self.is_augment = augment\n",
        "        if(self.is_train):\n",
        "            self.on_epoch_end()\n",
        "        self.is_mix = mix\n",
        "\n",
        "    def __len__(self):\n",
        "        return int(np.ceil(len(self.image_filenames) / float(self.batch_size)))\n",
        "\n",
        "    def __getitem__(self, idx):\n",
        "        batch_x = self.image_filenames[idx * self.batch_size:(idx + 1) * self.batch_size]\n",
        "        batch_y = self.labels[idx * self.batch_size:(idx + 1) * self.batch_size]\n",
        "\n",
        "        if(self.is_train):\n",
        "            return self.train_generate(batch_x, batch_y)\n",
        "        return self.valid_generate(batch_x, batch_y)\n",
        "\n",
        "    def on_epoch_end(self):\n",
        "        if(self.is_train):\n",
        "            self.image_filenames, self.labels = shuffle(self.image_filenames, self.labels)\n",
        "        else:\n",
        "            pass\n",
        "    \n",
        "    def mix_up(self, x, y):\n",
        "        lam = np.random.beta(0.2, 0.4)\n",
        "        ori_index = np.arange(int(len(x)))\n",
        "        index_array = np.arange(int(len(x)))\n",
        "        np.random.shuffle(index_array)        \n",
        "        \n",
        "        mixed_x = lam * x[ori_index] + (1 - lam) * x[index_array]\n",
        "        mixed_y = lam * y[ori_index] + (1 - lam) * y[index_array]\n",
        "        \n",
        "        return mixed_x, mixed_y\n",
        "\n",
        "    def train_generate(self, batch_x, batch_y):\n",
        "        batch_images = []\n",
        "        for (sample, label) in zip(batch_x, batch_y):\n",
        "            img = cv2.imread(sample)\n",
        "            img = cv2.resize(img, (SIZE, SIZE))\n",
        "            if(self.is_augment):\n",
        "                img = seq.augment_image(img)\n",
        "            batch_images.append(img)\n",
        "        batch_images = np.array(batch_images, np.float32) / 255\n",
        "        batch_y = np.array(batch_y, np.float32)\n",
        "        if(self.is_mix):\n",
        "            batch_images, batch_y = self.mix_up(batch_images, batch_y)\n",
        "        return batch_images, batch_y\n",
        "\n",
        "    def valid_generate(self, batch_x, batch_y):\n",
        "        batch_images = []\n",
        "        for (sample, label) in zip(batch_x, batch_y):\n",
        "            img = cv2.imread(sample)\n",
        "            img = cv2.resize(img, (SIZE, SIZE))\n",
        "            batch_images.append(img)\n",
        "        batch_images = np.array(batch_images, np.float32) / 255\n",
        "        batch_y = np.array(batch_y, np.float32)\n",
        "        return batch_images, batch_y"
      ],
      "execution_count": 0,
      "outputs": []
    },
    {
      "cell_type": "markdown",
      "metadata": {
        "id": "nAh2pgvKTEEc",
        "colab_type": "text"
      },
      "source": [
        "# LR Finder"
      ]
    },
    {
      "cell_type": "code",
      "metadata": {
        "id": "Xtxty6EVyUpg",
        "colab_type": "code",
        "colab": {}
      },
      "source": [
        "from keras.callbacks import LambdaCallback\n",
        "import math\n",
        "\n",
        "class LRFinder:\n",
        "    \"\"\"\n",
        "    Plots the change of the loss function of a Keras model when the learning rate is exponentially increasing.\n",
        "    See for details:\n",
        "    https://towardsdatascience.com/estimating-optimal-learning-rate-for-a-deep-neural-network-ce32f2556ce0\n",
        "    \"\"\"\n",
        "    def __init__(self, model):\n",
        "        self.model = model\n",
        "        self.losses = []\n",
        "        self.lrs = []\n",
        "        self.best_loss = 1e9\n",
        "\n",
        "    def on_batch_end(self, batch, logs):\n",
        "        # Log the learning rate\n",
        "        lr = K.get_value(self.model.optimizer.lr)\n",
        "        self.lrs.append(lr)\n",
        "\n",
        "        # Log the loss\n",
        "        loss = logs['loss']\n",
        "        self.losses.append(loss)\n",
        "\n",
        "        # Check whether the loss got too large or NaN\n",
        "        \n",
        "          \n",
        "        if math.isnan(loss) or loss > self.best_loss *100:\n",
        "            self.model.stop_training = True\n",
        "            print(\"Stop Training {}, best_loss{}, lr{}\".format(loss, self.best_loss, lr))\n",
        "            return\n",
        "\n",
        "        if loss < self.best_loss:\n",
        "            self.best_loss = loss\n",
        "\n",
        "        # Increase the learning rate for the next batch\n",
        "        lr *= self.lr_mult\n",
        "        K.set_value(self.model.optimizer.lr, lr)\n",
        "#         print(\"Current Learning Rate{}\".format(lr))\n",
        "\n",
        "    def find(self, train_gen, start_lr, end_lr, batch_size=64, epochs=1, steps=1):\n",
        "        num_batches = epochs * steps\n",
        "#         x_train.shape[0] / batch_size\n",
        "        self.lr_mult = (end_lr / start_lr) ** (1 / num_batches)\n",
        "        print(self.lr_mult)\n",
        "\n",
        "        # Save weights into a file\n",
        "        self.model.save_weights('tmp.h5')\n",
        "\n",
        "        # Remember the original learning rate\n",
        "        original_lr = K.get_value(self.model.optimizer.lr)\n",
        "\n",
        "        # Set the initial learning rate\n",
        "        K.set_value(self.model.optimizer.lr, start_lr)\n",
        "\n",
        "        callback = LambdaCallback(on_batch_end=lambda batch, logs: self.on_batch_end(batch, logs))\n",
        "\n",
        "#         self.model.fit(x_train, y_train,\n",
        "#                         batch_size=batch_size, epochs=epochs,\n",
        "#                         callbacks=[callback])\n",
        "#         print(\"Calling fit\")\n",
        "        self.model.fit_generator(\n",
        "                  train_gen,\n",
        "                  steps_per_epoch=steps,\n",
        "                  \n",
        "                  epochs=epochs,\n",
        "                  verbose=1,\n",
        "                  workers=1, use_multiprocessing=False,\n",
        "                  callbacks=[callback])\n",
        "    \n",
        "#         print(\"After fit\")\n",
        "\n",
        "        # Restore the weights to the state before model fitting\n",
        "        self.model.load_weights('tmp.h5')\n",
        "\n",
        "        # Restore the original learning rate\n",
        "        K.set_value(self.model.optimizer.lr, original_lr)\n",
        "        print(\"Set lr to {}\".format(original_lr))\n",
        "\n",
        "    def plot_loss(self, n_skip_beginning=10, n_skip_end=5):\n",
        "        \"\"\"\n",
        "        Plots the loss.\n",
        "        Parameters:\n",
        "            n_skip_beginning - number of batches to skip on the left.\n",
        "            n_skip_end - number of batches to skip on the right.\n",
        "        \"\"\"\n",
        "        plt.ylabel(\"loss\")\n",
        "        plt.xlabel(\"learning rate (log scale)\")\n",
        "        plt.plot(self.lrs[n_skip_beginning:-n_skip_end], self.losses[n_skip_beginning:-n_skip_end])\n",
        "        plt.xscale('log')\n",
        "        \n",
        "\n",
        "    def get_derivatives(self, sma):\n",
        "        assert sma >= 1\n",
        "        derivatives = [0] * sma\n",
        "        for i in range(sma, len(self.lrs)):\n",
        "            derivatives.append((self.losses[i] - self.losses[i - sma]) / sma)\n",
        "        return derivatives\n",
        "    \n",
        "    def plot_loss_change(self, sma=1, n_skip_beginning=10, n_skip_end=5, y_lim=(-0.01, 0.01)):\n",
        "        \"\"\"\n",
        "        Plots rate of change of the loss function.\n",
        "        Parameters:\n",
        "            sma - number of batches for simple moving average to smooth out the curve.\n",
        "            n_skip_beginning - number of batches to skip on the left.\n",
        "            n_skip_end - number of batches to skip on the right.\n",
        "            y_lim - limits for the y axis.\n",
        "        \"\"\"\n",
        "        assert sma >= 1\n",
        "        derivatives = [0] * sma\n",
        "        for i in range(sma, len(self.lrs)):\n",
        "            derivative = (self.losses[i] - self.losses[i - sma]) / sma\n",
        "            derivatives.append(derivative)\n",
        "\n",
        "        plt.ylabel(\"rate of loss change\")\n",
        "        plt.xlabel(\"learning rate (log scale)\")\n",
        "        plt.plot(self.lrs[n_skip_beginning:-n_skip_end], derivatives[n_skip_beginning:-n_skip_end])\n",
        "        plt.xscale('log')\n",
        "        plt.ylim(y_lim)\n",
        "        \n",
        "    def get_best_lr(self, sma, n_skip_beginning=10, n_skip_end=5):\n",
        "        derivatives = self.get_derivatives(sma)\n",
        "        best_der_idx = np.argmax(derivatives[n_skip_beginning:-n_skip_end])\n",
        "        return self.lrs[n_skip_beginning:-n_skip_end][best_der_idx]"
      ],
      "execution_count": 0,
      "outputs": []
    },
    {
      "cell_type": "markdown",
      "metadata": {
        "id": "3u7ZkKwFuG-x",
        "colab_type": "text"
      },
      "source": [
        "The image Size is High, hence going OOM\n",
        "- will use smaller match size\n",
        "- Its recommended to use Group Normalization for smaller batch."
      ]
    },
    {
      "cell_type": "code",
      "metadata": {
        "id": "xKHAXjl8p2bo",
        "colab_type": "code",
        "colab": {}
      },
      "source": [
        "# https://github.com/titu1994/Keras-Group-Normalization/blob/master/group_norm.py\n",
        "  \n",
        "from keras.engine import Layer, InputSpec\n",
        "from keras import initializers\n",
        "from keras import regularizers\n",
        "from keras import constraints\n",
        "from keras import backend as K\n",
        "\n",
        "\n",
        "class GroupNormalization(Layer):\n",
        "    \"\"\"Group normalization layer\n",
        "    Group Normalization divides the channels into groups and computes within each group\n",
        "    the mean and variance for normalization. GN's computation is independent of batch sizes,\n",
        "    and its accuracy is stable in a wide range of batch sizes\n",
        "    # Arguments\n",
        "        groups: Integer, the number of groups for Group Normalization.\n",
        "        axis: Integer, the axis that should be normalized\n",
        "            (typically the features axis).\n",
        "            For instance, after a `Conv2D` layer with\n",
        "            `data_format=\"channels_first\"`,\n",
        "            set `axis=1` in `BatchNormalization`.\n",
        "        epsilon: Small float added to variance to avoid dividing by zero.\n",
        "        center: If True, add offset of `beta` to normalized tensor.\n",
        "            If False, `beta` is ignored.\n",
        "        scale: If True, multiply by `gamma`.\n",
        "            If False, `gamma` is not used.\n",
        "            When the next layer is linear (also e.g. `nn.relu`),\n",
        "            this can be disabled since the scaling\n",
        "            will be done by the next layer.\n",
        "        beta_initializer: Initializer for the beta weight.\n",
        "        gamma_initializer: Initializer for the gamma weight.\n",
        "        beta_regularizer: Optional regularizer for the beta weight.\n",
        "        gamma_regularizer: Optional regularizer for the gamma weight.\n",
        "        beta_constraint: Optional constraint for the beta weight.\n",
        "        gamma_constraint: Optional constraint for the gamma weight.\n",
        "    # Input shape\n",
        "        Arbitrary. Use the keyword argument `input_shape`\n",
        "        (tuple of integers, does not include the samples axis)\n",
        "        when using this layer as the first layer in a model.\n",
        "    # Output shape\n",
        "        Same shape as input.\n",
        "    # References\n",
        "        - [Group Normalization](https://arxiv.org/abs/1803.08494)\n",
        "    \"\"\"\n",
        "\n",
        "    def __init__(self,\n",
        "                 groups=32,\n",
        "                 axis=-1,\n",
        "                 epsilon=1e-5,\n",
        "                 center=True,\n",
        "                 scale=True,\n",
        "                 beta_initializer='zeros',\n",
        "                 gamma_initializer='ones',\n",
        "                 beta_regularizer=None,\n",
        "                 gamma_regularizer=None,\n",
        "                 beta_constraint=None,\n",
        "                 gamma_constraint=None,\n",
        "                 **kwargs):\n",
        "        super(GroupNormalization, self).__init__(**kwargs)\n",
        "        self.supports_masking = True\n",
        "        self.groups = groups\n",
        "        self.axis = axis\n",
        "        self.epsilon = epsilon\n",
        "        self.center = center\n",
        "        self.scale = scale\n",
        "        self.beta_initializer = initializers.get(beta_initializer)\n",
        "        self.gamma_initializer = initializers.get(gamma_initializer)\n",
        "        self.beta_regularizer = regularizers.get(beta_regularizer)\n",
        "        self.gamma_regularizer = regularizers.get(gamma_regularizer)\n",
        "        self.beta_constraint = constraints.get(beta_constraint)\n",
        "        self.gamma_constraint = constraints.get(gamma_constraint)\n",
        "\n",
        "    def build(self, input_shape):\n",
        "        dim = input_shape[self.axis]\n",
        "\n",
        "        if dim is None:\n",
        "            raise ValueError('Axis ' + str(self.axis) + ' of '\n",
        "                             'input tensor should have a defined dimension '\n",
        "                             'but the layer received an input with shape ' +\n",
        "                             str(input_shape) + '.')\n",
        "\n",
        "        if dim < self.groups:\n",
        "            raise ValueError('Number of groups (' + str(self.groups) + ') cannot be '\n",
        "                             'more than the number of channels (' +\n",
        "                             str(dim) + ').')\n",
        "\n",
        "        if dim % self.groups != 0:\n",
        "            raise ValueError('Number of groups (' + str(self.groups) + ') must be a '\n",
        "                             'multiple of the number of channels (' +\n",
        "                             str(dim) + ').')\n",
        "\n",
        "        self.input_spec = InputSpec(ndim=len(input_shape),\n",
        "                                    axes={self.axis: dim})\n",
        "        shape = (dim,)\n",
        "\n",
        "        if self.scale:\n",
        "            self.gamma = self.add_weight(shape=shape,\n",
        "                                         name='gamma',\n",
        "                                         initializer=self.gamma_initializer,\n",
        "                                         regularizer=self.gamma_regularizer,\n",
        "                                         constraint=self.gamma_constraint)\n",
        "        else:\n",
        "            self.gamma = None\n",
        "        if self.center:\n",
        "            self.beta = self.add_weight(shape=shape,\n",
        "                                        name='beta',\n",
        "                                        initializer=self.beta_initializer,\n",
        "                                        regularizer=self.beta_regularizer,\n",
        "                                        constraint=self.beta_constraint)\n",
        "        else:\n",
        "            self.beta = None\n",
        "        self.built = True\n",
        "\n",
        "    def call(self, inputs, **kwargs):\n",
        "        input_shape = K.int_shape(inputs)\n",
        "        tensor_input_shape = K.shape(inputs)\n",
        "\n",
        "        # Prepare broadcasting shape.\n",
        "        reduction_axes = list(range(len(input_shape)))\n",
        "        del reduction_axes[self.axis]\n",
        "        broadcast_shape = [1] * len(input_shape)\n",
        "        broadcast_shape[self.axis] = input_shape[self.axis] // self.groups\n",
        "        broadcast_shape.insert(1, self.groups)\n",
        "\n",
        "        reshape_group_shape = K.shape(inputs)\n",
        "        group_axes = [reshape_group_shape[i] for i in range(len(input_shape))]\n",
        "        group_axes[self.axis] = input_shape[self.axis] // self.groups\n",
        "        group_axes.insert(1, self.groups)\n",
        "\n",
        "        # reshape inputs to new group shape\n",
        "        group_shape = [group_axes[0], self.groups] + group_axes[2:]\n",
        "        group_shape = K.stack(group_shape)\n",
        "        inputs = K.reshape(inputs, group_shape)\n",
        "\n",
        "        group_reduction_axes = list(range(len(group_axes)))\n",
        "        group_reduction_axes = group_reduction_axes[2:]\n",
        "\n",
        "        mean = K.mean(inputs, axis=group_reduction_axes, keepdims=True)\n",
        "        variance = K.var(inputs, axis=group_reduction_axes, keepdims=True)\n",
        "\n",
        "        inputs = (inputs - mean) / (K.sqrt(variance + self.epsilon))\n",
        "\n",
        "        # prepare broadcast shape\n",
        "        inputs = K.reshape(inputs, group_shape)\n",
        "        outputs = inputs\n",
        "\n",
        "        # In this case we must explicitly broadcast all parameters.\n",
        "        if self.scale:\n",
        "            broadcast_gamma = K.reshape(self.gamma, broadcast_shape)\n",
        "            outputs = outputs * broadcast_gamma\n",
        "\n",
        "        if self.center:\n",
        "            broadcast_beta = K.reshape(self.beta, broadcast_shape)\n",
        "            outputs = outputs + broadcast_beta\n",
        "\n",
        "        outputs = K.reshape(outputs, tensor_input_shape)\n",
        "\n",
        "        return outputs\n",
        "\n",
        "    def get_config(self):\n",
        "        config = {\n",
        "            'groups': self.groups,\n",
        "            'axis': self.axis,\n",
        "            'epsilon': self.epsilon,\n",
        "            'center': self.center,\n",
        "            'scale': self.scale,\n",
        "            'beta_initializer': initializers.serialize(self.beta_initializer),\n",
        "            'gamma_initializer': initializers.serialize(self.gamma_initializer),\n",
        "            'beta_regularizer': regularizers.serialize(self.beta_regularizer),\n",
        "            'gamma_regularizer': regularizers.serialize(self.gamma_regularizer),\n",
        "            'beta_constraint': constraints.serialize(self.beta_constraint),\n",
        "            'gamma_constraint': constraints.serialize(self.gamma_constraint)\n",
        "        }\n",
        "        base_config = super(GroupNormalization, self).get_config()\n",
        "        return dict(list(base_config.items()) + list(config.items()))\n",
        "\n",
        "    def compute_output_shape(self, input_shape):\n",
        "        return input_shape"
      ],
      "execution_count": 0,
      "outputs": []
    },
    {
      "cell_type": "code",
      "metadata": {
        "id": "1iVN5Ysu-uI7",
        "colab_type": "code",
        "colab": {}
      },
      "source": [
        "def create_model(input_shape, n_out, model_weights):\n",
        "    input_tensor = Input(shape=input_shape)\n",
        "    base_model = efn.EfficientNetB5(include_top=False,\n",
        "                   weights=None,\n",
        "                   input_tensor=input_tensor)\n",
        "    base_model.load_weights('kaggle-data/efficientnets-weights/efficientnet-b5_imagenet_1000_notop.h5')\n",
        "#     x = GlobalAveragePooling2D()(base_model.output)\n",
        "    \n",
        "    classifier = Sequential()\n",
        "    classifier.add(GlobalAveragePooling2D())\n",
        "#     classifier.add(Flatten())   \n",
        "    classifier.add(Dropout(0.5))\n",
        "    \n",
        "    classifier.add(Dense(1024))\n",
        "    classifier.add(BatchNormalization())\n",
        "    classifier.add(LeakyReLU())\n",
        "    classifier.add(Dropout(0.5))\n",
        "    \n",
        "    classifier.add(Dense(n_out, activation='sigmoid', name='final_output'))\n",
        "    #Use sigmoid for multilabel and softmax for single label classification\n",
        "#     final_output = Dense(n_out, activation='sigmoid', name='final_output')(classifier.output)\n",
        "    \n",
        "    model = Sequential([\n",
        "    base_model, \n",
        "    classifier\n",
        "])\n",
        "#     model = Model(input_tensor, final_output)\n",
        "#     model.load_weights(model_weights)\n",
        "    \n",
        "    return model"
      ],
      "execution_count": 0,
      "outputs": []
    },
    {
      "cell_type": "code",
      "metadata": {
        "id": "NmEdbXXQkyKX",
        "colab_type": "code",
        "colab": {}
      },
      "source": [
        "def create_model2(input_shape, n_out, model_weights):\n",
        "    input_tensor = Input(shape=input_shape)\n",
        "    base_model = efn.EfficientNetB5(include_top=False,\n",
        "                   weights=None,\n",
        "                   input_tensor=input_tensor)\n",
        "    base_model.load_weights('kaggle-data/efficientnets-weights/efficientnet-b5_imagenet_1000_notop.h5')\n",
        "    \n",
        "    for i, layer in enumerate(base_model.layers):\n",
        "      if isinstance(layer, keras.layers.normalization.BatchNormalization):\n",
        "        print('batch_norm found in ', i)\n",
        "        base_model.layers[i] = GroupNormalization(groups=32, axis=-1, epsilon=0.00001)\n",
        "#         base_model.layers[i] = GroupNormalization(groups=2, axis=-1, epsilon=0.1)\n",
        "        \n",
        "#     x = GlobalAveragePooling2D()(base_model.output)\n",
        "    \n",
        "    classifier = Sequential()\n",
        "    classifier.add(GlobalAveragePooling2D())\n",
        "#     classifier.add(Flatten())   \n",
        "    classifier.add(Dropout(0.5))\n",
        "    \n",
        "    classifier.add(Dense(1024))\n",
        "#     classifier.add(BatchNormalization())\n",
        "#     classifier.add(Activation('relu'))\n",
        "    classifier.add(LeakyReLU())\n",
        "    classifier.add(Dropout(0.5))\n",
        "    \n",
        "    classifier.add(Dense(n_out, activation='sigmoid', name='final_output'))\n",
        "    #Use sigmoid for multilabel and softmax for single label classification\n",
        "#     final_output = Dense(n_out, activation='sigmoid', name='final_output')(classifier.output)\n",
        "    base_model.summary\n",
        "    model = Sequential([\n",
        "      base_model, \n",
        "      classifier\n",
        "    ])\n",
        "    \n",
        "#     model = Model(input_tensor, final_output)\n",
        "#     model.load_weights(model_weights)\n",
        "    \n",
        "    return model"
      ],
      "execution_count": 0,
      "outputs": []
    },
    {
      "cell_type": "code",
      "metadata": {
        "id": "sRRezaq8TTIl",
        "colab_type": "code",
        "colab": {}
      },
      "source": [
        "# run_opts = tf.RunOptions(report_tensor_allocations_upon_oom = True)\n",
        "# model = create_model(\n",
        "#     input_shape=(SIZE,SIZE,3), \n",
        "#     n_out=NUM_CLASSES,\n",
        "#     model_weights='kaggle-data/resnet50/Resnet50_bestqwk.h5')\n",
        "# model.compile(loss='binary_crossentropy',\n",
        "#                   optimizer=Adam(),\n",
        "#                   metrics=['accuracy'])\n",
        "# lr_finder = LRFinder(model)\n",
        "\n",
        "# def determineLearningRate():    \n",
        "#     batch_size = 4\n",
        "#     num_classes = NUM_CLASSES\n",
        "#     epochs = 4\n",
        "    \n",
        "#     train_generator = My_Generator(train_x, train_y, batch_size, is_train=True)\n",
        "#     steps = np.ceil(float(len(train_x)) / float(batch_size))\n",
        "#     print(steps)\n",
        "#     lr_finder.find(train_generator, start_lr=0.00001, end_lr=0.1, batch_size=batch_size, epochs=epochs, steps=steps)\n",
        "#     lr_finder.plot_loss(n_skip_beginning=20, n_skip_end=5)\n",
        "#     plt.show()\n",
        "#     return model\n",
        "# determineLearningRate()\n",
        "\n",
        "# lr = lr_finder.get_best_lr(sma=10)\n",
        "# print('Best Learning Rate: {}'.format(lr))"
      ],
      "execution_count": 0,
      "outputs": []
    },
    {
      "cell_type": "code",
      "metadata": {
        "id": "rPw_sCSe2A0v",
        "colab_type": "code",
        "colab": {}
      },
      "source": [
        "!mkdir 'kaggle-data/model'"
      ],
      "execution_count": 0,
      "outputs": []
    },
    {
      "cell_type": "code",
      "metadata": {
        "id": "wvA3rgEzk1PN",
        "colab_type": "code",
        "colab": {}
      },
      "source": [
        "# create callbacks list\n",
        "from keras.callbacks import (ModelCheckpoint, LearningRateScheduler,\n",
        "                             EarlyStopping, ReduceLROnPlateau,CSVLogger)\n",
        "\n",
        "epochs = 10; batch_size = 16\n",
        "checkpoint = ModelCheckpoint('kaggle-data/model/EffNetB5-{epoch:02d}-{val_acc:.4f}.h5', monitor='val_loss', verbose=1, \n",
        "                             save_best_only=True, mode='min', save_weights_only = True)\n",
        "# checkpoint = ModelCheckpoint('kaggle-data/model/xception-model.h5', verbose=1, monitor='val_acc',\n",
        "#                               save_best_only=True, save_weights_only = True)\n",
        "reduceLROnPlat = ReduceLROnPlateau(monitor='val_loss', factor=0.25, patience=4, \n",
        "                                   verbose=1, mode='auto', epsilon=0.0001)\n",
        "early = EarlyStopping(monitor=\"val_loss\", \n",
        "                      mode=\"min\", \n",
        "                      patience=4)\n",
        "\n",
        "csv_logger = CSVLogger(filename='kaggle-data/model/training_log.csv',\n",
        "                       separator=',',\n",
        "                       append=True)\n",
        "# callbacks_list = [checkpoint, csv_logger, reduceLROnPlat, early]\n",
        "\n",
        "# train_generator = My_Generator(train_x, train_y, 128, is_train=True)\n",
        "train_mixup = My_Generator(train_x, train_y, batch_size, is_train=True, mix=True, augment=True)\n",
        "valid_generator = My_Generator(valid_x, valid_y, batch_size, is_train=False)\n",
        "\n",
        "model = create_model(\n",
        "    input_shape=(SIZE,SIZE,3), \n",
        "    n_out=NUM_CLASSES,\n",
        "    model_weights='kaggle-data/efficientnets-weights/efficientnet-b5_imagenet_1000_notop.h5')"
      ],
      "execution_count": 0,
      "outputs": []
    },
    {
      "cell_type": "code",
      "metadata": {
        "id": "gzzdycCKk5f8",
        "colab_type": "code",
        "colab": {}
      },
      "source": [
        "# reference link: https://www.kaggle.com/christofhenkel/weighted-kappa-loss-for-keras-tensorflow\n",
        "def kappa_loss(y_true, y_pred, y_pow=2, eps=1e-12, N=5, bsize=32, name='kappa'):\n",
        "    \"\"\"A continuous differentiable approximation of discrete kappa loss.\n",
        "        Args:\n",
        "            y_pred: 2D tensor or array, [batch_size, num_classes]\n",
        "            y_true: 2D tensor or array,[batch_size, num_classes]\n",
        "            y_pow: int,  e.g. y_pow=2\n",
        "            N: typically num_classes of the model\n",
        "            bsize: batch_size of the training or validation ops\n",
        "            eps: a float, prevents divide by zero\n",
        "            name: Optional scope/name for op_scope.\n",
        "        Returns:\n",
        "            A tensor with the kappa loss.\"\"\"\n",
        "\n",
        "    with tf.name_scope(name):\n",
        "        y_true = tf.to_float(y_true)\n",
        "        repeat_op = tf.to_float(tf.tile(tf.reshape(tf.range(0, N), [N, 1]), [1, N]))\n",
        "        repeat_op_sq = tf.square((repeat_op - tf.transpose(repeat_op)))\n",
        "        weights = repeat_op_sq / tf.to_float((N - 1) ** 2)\n",
        "    \n",
        "        pred_ = y_pred ** y_pow\n",
        "        try:\n",
        "            pred_norm = pred_ / (eps + tf.reshape(tf.reduce_sum(pred_, 1), [-1, 1]))\n",
        "        except Exception:\n",
        "            pred_norm = pred_ / (eps + tf.reshape(tf.reduce_sum(pred_, 1), [bsize, 1]))\n",
        "    \n",
        "        hist_rater_a = tf.reduce_sum(pred_norm, 0)\n",
        "        hist_rater_b = tf.reduce_sum(y_true, 0)\n",
        "    \n",
        "        conf_mat = tf.matmul(tf.transpose(pred_norm), y_true)\n",
        "    \n",
        "        nom = tf.reduce_sum(weights * conf_mat)\n",
        "        denom = tf.reduce_sum(weights * tf.matmul(\n",
        "            tf.reshape(hist_rater_a, [N, 1]), tf.reshape(hist_rater_b, [1, N])) /\n",
        "                              tf.to_float(bsize))\n",
        "    \n",
        "        return nom*0.5 / (denom + eps) + categorical_crossentropy(y_true, y_pred)*0.5"
      ],
      "execution_count": 0,
      "outputs": []
    },
    {
      "cell_type": "code",
      "metadata": {
        "id": "LAAUbglclAkt",
        "colab_type": "code",
        "colab": {}
      },
      "source": [
        "from keras.callbacks import Callback\n",
        "class QWKEvaluation(Callback):\n",
        "    def __init__(self, validation_data=(), batch_size=64, interval=1):\n",
        "        super(Callback, self).__init__()\n",
        "\n",
        "        self.interval = interval\n",
        "        self.batch_size = batch_size\n",
        "        self.valid_generator, self.y_val = validation_data\n",
        "        self.history = []\n",
        "\n",
        "    def on_epoch_end(self, epoch, logs={}):\n",
        "        if epoch % self.interval == 0:\n",
        "            y_pred = self.model.predict_generator(generator=self.valid_generator,\n",
        "                                                  steps=np.ceil(float(len(self.y_val)) / float(self.batch_size)),\n",
        "                                                  workers=1, use_multiprocessing=False,\n",
        "                                                  verbose=1)\n",
        "            \n",
        "            def get_pred(y):\n",
        "#                 print(y[0])\n",
        "                y_pred = y > 0.5\n",
        "#                 print(y_pred[0])\n",
        "                y_pred = y_pred.astype(int).sum(axis=1) - 1\n",
        "#                 print(y_pred.reshape(-1))\n",
        "                return y_pred.reshape(-1)\n",
        "                \n",
        "            def flatten(y):\n",
        "                return np.argmax(y, axis=1).reshape(-1)\n",
        "            \n",
        "            score = cohen_kappa_score(get_pred(self.y_val),\n",
        "                                      get_pred(y_pred),\n",
        "                                      labels=[0,1,2,3,4],\n",
        "                                      weights='quadratic')\n",
        "            print(\"\\n epoch: %d - QWK_score: %.6f \\n\" % (epoch+1, score))\n",
        "            self.history.append(score)\n",
        "            if score >= max(self.history):\n",
        "                print('saving checkpoint: ', score)\n",
        "                self.model.save('kaggle-data/model/EffNet_qwk-{0:02d}-{1:.4f}.h5'.format(epoch, score))\n",
        "\n",
        "qwk = QWKEvaluation(validation_data=(valid_generator, valid_y),\n",
        "                    batch_size=batch_size, interval=1)"
      ],
      "execution_count": 0,
      "outputs": []
    },
    {
      "cell_type": "code",
      "metadata": {
        "id": "d5da7rwx4weq",
        "colab_type": "code",
        "outputId": "491331f8-3b0c-4584-feeb-ba7a58c9f203",
        "colab": {
          "base_uri": "https://localhost:8080/",
          "height": 34
        }
      },
      "source": [
        "train_y.shape"
      ],
      "execution_count": 0,
      "outputs": [
        {
          "output_type": "execute_result",
          "data": {
            "text/plain": [
              "(37640, 5)"
            ]
          },
          "metadata": {
            "tags": []
          },
          "execution_count": 31
        }
      ]
    },
    {
      "cell_type": "code",
      "metadata": {
        "id": "nuXpIgx0lEQd",
        "colab_type": "code",
        "colab": {}
      },
      "source": [
        "# train all layers\n",
        "for layer in model.layers:\n",
        "    layer.trainable = True\n",
        "\n",
        "callbacks_list = [checkpoint, csv_logger, reduceLROnPlat, early, qwk]\n",
        "model.compile(\n",
        "    loss='binary_crossentropy',\n",
        "    #loss='categorical_crossentropy',\n",
        "#              loss=kappa_loss,\n",
        "            optimizer=Adam(lr=1e-3),\n",
        "            metrics=['accuracy'])\n",
        "#, metrics=['accuracy']\n",
        "history = model.fit_generator(\n",
        "    train_mixup,\n",
        "    steps_per_epoch=np.ceil(float(len(train_x)) / float(batch_size)),\n",
        "    validation_data=valid_generator,\n",
        "    validation_steps=np.ceil(float(len(valid_x)) / float(batch_size)),\n",
        "    epochs=epochs,\n",
        "    verbose=1,\n",
        "    workers=1, use_multiprocessing=False,\n",
        "    callbacks=callbacks_list)"
      ],
      "execution_count": 0,
      "outputs": []
    },
    {
      "cell_type": "markdown",
      "metadata": {
        "id": "UeKm3lUYDeau",
        "colab_type": "text"
      },
      "source": [
        "Freeze some layers"
      ]
    },
    {
      "cell_type": "code",
      "metadata": {
        "id": "rHCYVE-vDgR2",
        "colab_type": "code",
        "colab": {}
      },
      "source": [
        "# Freeze the layers except the last 4 layers\n",
        "for layer in vgg_conv.layers[:-4]:\n",
        "    layer.trainable = False"
      ],
      "execution_count": 0,
      "outputs": []
    },
    {
      "cell_type": "code",
      "metadata": {
        "id": "rcyfvobqa5Tl",
        "colab_type": "code",
        "colab": {}
      },
      "source": [
        "lr = K.get_value(model.optimizer.lr)\n",
        "K.set_value(model.optimizer.lr, lr/2)"
      ],
      "execution_count": 0,
      "outputs": []
    },
    {
      "cell_type": "code",
      "metadata": {
        "id": "YUjw0vTybiVA",
        "colab_type": "code",
        "outputId": "752edb80-ad56-4424-abdd-e53c5af1b138",
        "colab": {
          "base_uri": "https://localhost:8080/",
          "height": 34
        }
      },
      "source": [
        "K.get_value(model.optimizer.lr)"
      ],
      "execution_count": 0,
      "outputs": [
        {
          "output_type": "execute_result",
          "data": {
            "text/plain": [
              "0.00025"
            ]
          },
          "metadata": {
            "tags": []
          },
          "execution_count": 47
        }
      ]
    },
    {
      "cell_type": "code",
      "metadata": {
        "id": "ffmXK6VuBQOQ",
        "colab_type": "code",
        "colab": {}
      },
      "source": [
        "epochs = 30\n",
        "history2 = model.fit_generator(\n",
        "    train_mixup,\n",
        "    steps_per_epoch=np.ceil(float(len(train_x)) / float(batch_size)),\n",
        "    validation_data=valid_generator,\n",
        "    validation_steps=np.ceil(float(len(valid_x)) / float(batch_size)),\n",
        "    epochs=epochs,\n",
        "    initial_epoch=15,\n",
        "    verbose=1,\n",
        "    workers=1, use_multiprocessing=False,\n",
        "    callbacks=callbacks_list)"
      ],
      "execution_count": 0,
      "outputs": []
    },
    {
      "cell_type": "markdown",
      "metadata": {
        "id": "tMsqTdhde-Rf",
        "colab_type": "text"
      },
      "source": [
        "Load the best model"
      ]
    },
    {
      "cell_type": "code",
      "metadata": {
        "id": "ToVr8Rhne9AV",
        "colab_type": "code",
        "colab": {}
      },
      "source": [
        "model.load_"
      ],
      "execution_count": 0,
      "outputs": []
    },
    {
      "cell_type": "markdown",
      "metadata": {
        "id": "otW_Ysujops5",
        "colab_type": "text"
      },
      "source": [
        "# Evaluate Model"
      ]
    },
    {
      "cell_type": "code",
      "metadata": {
        "id": "XBNWJo74oo1f",
        "colab_type": "code",
        "outputId": "9817b20f-0399-4105-8248-ba773d1f8c2a",
        "colab": {
          "base_uri": "https://localhost:8080/",
          "height": 68
        }
      },
      "source": [
        "model.compile(loss='categorical_crossentropy', optimizer='adam', metrics=['accuracy'])\n",
        "all_scores = []\n",
        "for i, name in tqdm(enumerate(valid_x)):\n",
        "  path = os.path.join('kaggle-data/aug_train_images/', name+'.png')\n",
        "  image = cv2.imread(path)\n",
        "  image = cv2.resize(image, (SIZE, SIZE))\n",
        "\n",
        "  scores = model.evaluate((image[np.newaxis])/255, np.reshape(valid_y[i], (1,5)), verbose=0)\n",
        "  all_scores.append(scores)\n",
        "\n",
        "mean = np.mean(all_scores, axis=0)\n",
        "sd = np.std(all_scores, axis=0)\n",
        "print(\"Loss:    %.2f%% (+/- %.2f%%)\" % (mean[0], sd[0]))\n",
        "print(\"Accuracy:%.2f%% (+/- %.2f%%)\" % (mean[1], sd[1]))"
      ],
      "execution_count": 0,
      "outputs": [
        {
          "output_type": "stream",
          "text": [
            "1374it [01:07, 20.22it/s]"
          ],
          "name": "stderr"
        },
        {
          "output_type": "stream",
          "text": [
            "Loss:    3.80% (+/- 3.01%)\n",
            "Accuracy:1.00% (+/- 0.00%)\n"
          ],
          "name": "stdout"
        },
        {
          "output_type": "stream",
          "text": [
            "\n"
          ],
          "name": "stderr"
        }
      ]
    },
    {
      "cell_type": "code",
      "metadata": {
        "id": "tQIpfz-Hu16b",
        "colab_type": "code",
        "outputId": "13d7fd94-e2bd-47b0-d791-50acc5620bf7",
        "colab": {
          "base_uri": "https://localhost:8080/",
          "height": 163
        }
      },
      "source": [
        "history2.history\n"
      ],
      "execution_count": 0,
      "outputs": [
        {
          "output_type": "error",
          "ename": "NameError",
          "evalue": "ignored",
          "traceback": [
            "\u001b[0;31m---------------------------------------------------------------------------\u001b[0m",
            "\u001b[0;31mNameError\u001b[0m                                 Traceback (most recent call last)",
            "\u001b[0;32m<ipython-input-52-c0c662ba815c>\u001b[0m in \u001b[0;36m<module>\u001b[0;34m()\u001b[0m\n\u001b[0;32m----> 1\u001b[0;31m \u001b[0mhistory2\u001b[0m\u001b[0;34m.\u001b[0m\u001b[0mhistory\u001b[0m\u001b[0;34m\u001b[0m\u001b[0;34m\u001b[0m\u001b[0m\n\u001b[0m",
            "\u001b[0;31mNameError\u001b[0m: name 'history2' is not defined"
          ]
        }
      ]
    },
    {
      "cell_type": "code",
      "metadata": {
        "id": "4Q0hKyfFlOv1",
        "colab_type": "code",
        "colab": {}
      },
      "source": [
        "def get_pred(y):\n",
        "  y_pred = y > 0.5\n",
        "  y_pred = y_pred.astype(int).sum(axis=1) - 1\n",
        "  return y_pred.reshape(-1)\n",
        "\n",
        "def check_model(hist, model):\n",
        "  \n",
        "  #Plot the curves\n",
        "  N = len(hist.history['loss'])\n",
        "\n",
        "  plt.style.use(\"ggplot\")\n",
        "  plt.figure()\n",
        "  plt.plot(np.arange(0, N), hist.history[\"loss\"], label=\"train_loss\")\n",
        "  plt.plot(np.arange(0, N), hist.history[\"val_loss\"], label=\"val_loss\")\n",
        "  \n",
        " \n",
        "  plt.title(\"Training Loss on Dataset\")\n",
        "  plt.xlabel(\"Epoch #\")\n",
        "  plt.ylabel(\"Loss\")\n",
        "  plt.legend(loc=\"lower left\")\n",
        "  \n",
        "  plt.figure()\n",
        "  plt.plot(np.arange(0, N), hist.history[\"acc\"], label=\"train_acc\")\n",
        "  plt.plot(np.arange(0, N), hist.history[\"val_acc\"], label=\"val_acc\")\n",
        "  plt.title(\"Training Accuracy on Dataset\")\n",
        "  plt.xlabel(\"Epoch #\")\n",
        "  plt.ylabel(\"Accuracy\")\n",
        "  plt.legend(loc=\"lower left\")\n",
        "  \n",
        "  plt.figure()\n",
        "  plt.plot(np.arange(0, N), qwk.history, label=\"kappa_score\")\n",
        "  plt.title(\"Kappa score on Dataset\")\n",
        "  plt.xlabel(\"Epoch #\")\n",
        "  plt.ylabel(\"kappa\")\n",
        "  plt.legend(loc=\"lower left\")\n",
        "  \n",
        "  plt.style.use(\"ggplot\")\n",
        "  plt.figure()\n",
        "  plt.plot(np.arange(0, N), hist.history[\"lr\"], label=\"learning_rate\")\n",
        " \n",
        "  plt.title(\"Learning Rate on Dataset\")\n",
        "  plt.xlabel(\"Epoch #\")\n",
        "  plt.ylabel(\"LR\")\n",
        "  plt.legend(loc=\"lower left\")\n",
        "  \n",
        "  \n",
        "  #confusion matrix\n",
        "  preds = []\n",
        "  for i, name in tqdm(enumerate(valid_x)):\n",
        "      path = os.path.join('kaggle-data/aug_train_images/', name+'.png')\n",
        "      image = cv2.imread(path)\n",
        "  #     print(str(path))\n",
        "      image = cv2.resize(image, (SIZE, SIZE))\n",
        "      score_predict = model.predict((image[np.newaxis])/255)\n",
        "      label_predict = get_pred(score_predict)\n",
        "#       print('Predict {}-->{}'.format(score_predict, label_predict))\n",
        "#       label_predict = np.argmax(score_predict)\n",
        "      \n",
        "      preds.append(label_predict)\n",
        "\n",
        "#   valid_labels = np.argmax(valid_y, axis=-1)\n",
        "  valid_labels = get_pred(valid_y)\n",
        "  \n",
        "  cm  = confusion_matrix(valid_labels, preds)\n",
        "  plt.figure()\n",
        "  plot_confusion_matrix(cm,figsize=(12,8), hide_ticks=True, cmap=plt.cm.Blues, show_normed=True, show_absolute=False)\n",
        "  plt.show()"
      ],
      "execution_count": 0,
      "outputs": []
    },
    {
      "cell_type": "code",
      "metadata": {
        "id": "gWZOk3m2lFXl",
        "colab_type": "code",
        "outputId": "32c176c1-ea48-4d88-a47f-f58e2881920e",
        "colab": {
          "base_uri": "https://localhost:8080/",
          "height": 1000
        }
      },
      "source": [
        "check_model(history, model)"
      ],
      "execution_count": 0,
      "outputs": [
        {
          "output_type": "stream",
          "text": [
            "1374it [01:30, 15.21it/s]\n"
          ],
          "name": "stderr"
        },
        {
          "output_type": "display_data",
          "data": {
            "image/png": "[encoded data removed]",
            "text/plain": [
              "<Figure size 432x288 with 1 Axes>"
            ]
          },
          "metadata": {
            "tags": []
          }
        },
        {
          "output_type": "display_data",
          "data": {
            "image/png": "[encoded data removed]",
            "text/plain": [
              "<Figure size 432x288 with 1 Axes>"
            ]
          },
          "metadata": {
            "tags": []
          }
        },
        {
          "output_type": "display_data",
          "data": {
            "image/png": "[encoded data removed]",
            "text/plain": [
              "<Figure size 432x288 with 1 Axes>"
            ]
          },
          "metadata": {
            "tags": []
          }
        },
        {
          "output_type": "display_data",
          "data": {
            "image/png": "[encoded data removed]",
            "text/plain": [
              "<Figure size 432x288 with 1 Axes>"
            ]
          },
          "metadata": {
            "tags": []
          }
        },
        {
          "output_type": "display_data",
          "data": {
            "text/plain": [
              "<Figure size 432x288 with 0 Axes>"
            ]
          },
          "metadata": {
            "tags": []
          }
        },
        {
          "output_type": "display_data",
          "data": {
            "image/png": "[encoded data removed]",
            "text/plain": [
              "<Figure size 864x576 with 1 Axes>"
            ]
          },
          "metadata": {
            "tags": []
          }
        }
      ]
    },
    {
      "cell_type": "code",
      "metadata": {
        "id": "3VU2eenCrcSd",
        "colab_type": "code",
        "colab": {}
      },
      "source": [
        "  def get_pred(y):\n",
        "    y_pred = y > 0.5\n",
        "    mask = y_pred == 0\n",
        "    return np.clip(np.where(mask.any(1), mask.argmax(1), 5) - 1, 0, 4)\n",
        "\n",
        "  preds = []\n",
        "  for i, name in tqdm(enumerate(valid_x)):\n",
        "      path = os.path.join('kaggle-data/aug_train_images/', name+'.png')\n",
        "      image = cv2.imread(path)\n",
        "  #     print(str(path))\n",
        "      image = cv2.resize(image, (SIZE, SIZE))\n",
        "      score_predict = model.predict((image[np.newaxis])/255)\n",
        "      label_predict = get_pred(score_predict)\n",
        "#       print('Predict {}-->{}'.format(score_predict, label_predict))\n",
        "#       label_predict = np.argmax(score_predict)\n",
        "      \n",
        "      preds.append(label_predict)\n",
        "\n",
        "#   valid_labels = np.argmax(valid_y, axis=-1)\n",
        "  valid_labels = get_pred(valid_y)\n",
        "  \n",
        "  cm  = confusion_matrix(valid_labels, preds)\n",
        "  plt.figure()\n",
        "  plot_confusion_matrix(cm,figsize=(12,8), hide_ticks=True, cmap=plt.cm.Blues, show_normed=True, show_absolute=False)\n",
        "  plt.show()"
      ],
      "execution_count": 0,
      "outputs": []
    },
    {
      "cell_type": "code",
      "metadata": {
        "id": "Vz-EovQpqz12",
        "colab_type": "code",
        "colab": {}
      },
      "source": [
        "qwk.history"
      ],
      "execution_count": 0,
      "outputs": []
    },
    {
      "cell_type": "code",
      "metadata": {
        "id": "qo48G_dEoSyD",
        "colab_type": "code",
        "outputId": "2057e1fb-6773-450f-9b59-91cf8be9dbf6",
        "colab": {
          "base_uri": "https://localhost:8080/",
          "height": 1000
        }
      },
      "source": [
        "check_model(history, model)"
      ],
      "execution_count": 0,
      "outputs": [
        {
          "output_type": "display_data",
          "data": {
            "image/png": "[encoded data removed]",
            "text/plain": [
              "<Figure size 432x288 with 1 Axes>"
            ]
          },
          "metadata": {
            "tags": []
          }
        },
        {
          "output_type": "display_data",
          "data": {
            "image/png": "[encoded data removed]",
            "text/plain": [
              "<Figure size 432x288 with 1 Axes>"
            ]
          },
          "metadata": {
            "tags": []
          }
        },
        {
          "output_type": "display_data",
          "data": {
            "image/png": "[encoded data removed]",
            "text/plain": [
              "<Figure size 432x288 with 1 Axes>"
            ]
          },
          "metadata": {
            "tags": []
          }
        },
        {
          "output_type": "display_data",
          "data": {
            "image/png": "[encoded data removed]",
            "text/plain": [
              "<Figure size 432x288 with 1 Axes>"
            ]
          },
          "metadata": {
            "tags": []
          }
        }
      ]
    },
    {
      "cell_type": "code",
      "metadata": {
        "id": "3C_arBxzc-xS",
        "colab_type": "code",
        "outputId": "341e48ce-9d03-4a85-8e3b-5c1f6752101f",
        "colab": {
          "base_uri": "https://localhost:8080/",
          "height": 1000
        }
      },
      "source": [
        "check_model(history2, model)"
      ],
      "execution_count": 0,
      "outputs": [
        {
          "output_type": "stream",
          "text": [
            "1374it [01:07, 20.37it/s]\n"
          ],
          "name": "stderr"
        },
        {
          "output_type": "display_data",
          "data": {
            "image/png": "[encoded data removed]",
            "text/plain": [
              "<Figure size 432x288 with 1 Axes>"
            ]
          },
          "metadata": {
            "tags": []
          }
        },
        {
          "output_type": "display_data",
          "data": {
            "image/png": "[encoded data removed]",
            "text/plain": [
              "<Figure size 432x288 with 1 Axes>"
            ]
          },
          "metadata": {
            "tags": []
          }
        },
        {
          "output_type": "display_data",
          "data": {
            "text/plain": [
              "<Figure size 432x288 with 0 Axes>"
            ]
          },
          "metadata": {
            "tags": []
          }
        },
        {
          "output_type": "display_data",
          "data": {
            "image/png": "[encoded data removed]",
            "text/plain": [
              "<Figure size 864x576 with 1 Axes>"
            ]
          },
          "metadata": {
            "tags": []
          }
        }
      ]
    },
    {
      "cell_type": "markdown",
      "metadata": {
        "id": "0CLLokszc6Db",
        "colab_type": "text"
      },
      "source": [
        "# Save Model"
      ]
    },
    {
      "cell_type": "code",
      "metadata": {
        "id": "Pb014KlMdBNO",
        "colab_type": "code",
        "outputId": "37ec7952-7d62-4118-fb92-2556b07eac37",
        "colab": {
          "base_uri": "https://localhost:8080/",
          "height": 34
        }
      },
      "source": [
        "%cd kaggle-data/model"
      ],
      "execution_count": 0,
      "outputs": [
        {
          "output_type": "stream",
          "text": [
            "/content/kaggle-data/model\n"
          ],
          "name": "stdout"
        }
      ]
    },
    {
      "cell_type": "code",
      "metadata": {
        "id": "0LfUYeATs3bW",
        "colab_type": "code",
        "outputId": "0b904117-816f-4b45-ab75-ae977398c540",
        "colab": {
          "base_uri": "https://localhost:8080/",
          "height": 34
        }
      },
      "source": [
        "!zip EffNet_multi_456_3.zip EffNetB5-05-0.9250.h5\n",
        "!cp EffNet_multi_456_3.zip /content/gdrive/My\\ Drive/Colab\\ Notebooks/"
      ],
      "execution_count": 0,
      "outputs": [
        {
          "output_type": "stream",
          "text": [
            "  adding: EffNetB5-05-0.9250.h5 (deflated 7%)\n"
          ],
          "name": "stdout"
        }
      ]
    },
    {
      "cell_type": "code",
      "metadata": {
        "id": "hyot1IM1dYNt",
        "colab_type": "code",
        "outputId": "c21cfeab-cc91-4826-a1c0-2bd97a5a033d",
        "colab": {
          "base_uri": "https://localhost:8080/",
          "height": 34
        }
      },
      "source": [
        "%cd ../../"
      ],
      "execution_count": 0,
      "outputs": [
        {
          "output_type": "stream",
          "text": [
            "/content\n"
          ],
          "name": "stdout"
        }
      ]
    },
    {
      "cell_type": "markdown",
      "metadata": {
        "id": "F7m-oUOBoL4N",
        "colab_type": "text"
      },
      "source": [
        "# Compare models"
      ]
    },
    {
      "cell_type": "code",
      "metadata": {
        "id": "L72_8DcboLLz",
        "colab_type": "code",
        "outputId": "a66d80b8-41ef-427c-d256-cd743c1f0a4e",
        "colab": {
          "base_uri": "https://localhost:8080/",
          "height": 68
        }
      },
      "source": [
        "!cp /content/gdrive/My\\ Drive/Colab\\ Notebooks/resnet50_aug3.zip .\n",
        "!mkdir resnet50_aug3\n",
        "!unzip resnet50_aug3.zip -d resnet50_aug3"
      ],
      "execution_count": 0,
      "outputs": [
        {
          "output_type": "stream",
          "text": [
            "Archive:  resnet50_aug3.zip\n",
            "  inflating: resnet50_aug3/Resnet50-09-0.8952.h5  \n",
            "  inflating: resnet50_aug3/Resnet50_qwk-23-0.9533.h5  \n"
          ],
          "name": "stdout"
        }
      ]
    },
    {
      "cell_type": "code",
      "metadata": {
        "id": "E_2e9rE-qM8a",
        "colab_type": "code",
        "outputId": "e7c7e4d8-cfd8-4a8f-d6fe-d163adc62bdf",
        "colab": {
          "base_uri": "https://localhost:8080/",
          "height": 51
        }
      },
      "source": [
        "!cp /content/gdrive/My\\ Drive/Colab\\ Notebooks/resnet50_aug4.zip .\n",
        "!mkdir resnet50_aug4\n",
        "!unzip resnet50_aug4.zip -d resnet50_aug4"
      ],
      "execution_count": 0,
      "outputs": [
        {
          "output_type": "stream",
          "text": [
            "Archive:  resnet50_aug4.zip\n",
            "  inflating: resnet50_aug4/Resnet50_qwk-29-0.9558.h5  \n"
          ],
          "name": "stdout"
        }
      ]
    },
    {
      "cell_type": "code",
      "metadata": {
        "id": "2bwNb4o0t_3z",
        "colab_type": "code",
        "colab": {}
      },
      "source": [
        "def preprocess_image(img):\n",
        "  \n",
        "  if img.shape[2] ==1:\n",
        "    img = np.dstack([img, img, img])\n",
        "\n",
        "  img1 = cv2.cvtColor(img, cv2.COLOR_BGR2GRAY)\n",
        "\n",
        "  ret, img2 = cv2.threshold(img1, 10, 255, cv2.THRESH_BINARY)\n",
        "  points = np.argwhere(img2!=0)\n",
        "  points = np.fliplr(points)\n",
        "  x, y, w, h = cv2.boundingRect(points)\n",
        "\n",
        "  color_cropped = img[y:y+h, x:x+w]\n",
        "\n",
        "  clahe = cv2.createCLAHE(clipLimit=4.0)\n",
        "\n",
        "  lab = cv2.cvtColor(color_cropped, cv2.COLOR_BGR2LAB)\n",
        "  lab_planes = cv2.split(lab)\n",
        "  lab_planes[0] = clahe.apply(lab_planes[0])\n",
        "  lab_planes[1] = clahe.apply(lab_planes[1])\n",
        "  lab_planes[2] = clahe.apply(lab_planes[2])\n",
        "  \n",
        "  out = cv2.merge(lab_planes)\n",
        "  img3 = cv2.cvtColor(out, cv2.COLOR_LAB2BGR)\n",
        "  \n",
        "  img = cv2.resize(img3, (SIZE,SIZE), cv2.INTER_AREA)\n",
        "  \n",
        "#   img = img.astype(np.float32)/255\n",
        "  \n",
        "  return img"
      ],
      "execution_count": 0,
      "outputs": []
    },
    {
      "cell_type": "code",
      "metadata": {
        "id": "GfByqVUzs2lP",
        "colab_type": "code",
        "colab": {}
      },
      "source": [
        "train, val = train_test_split(df_train, test_size=0.4)\n",
        "train_data = train"
      ],
      "execution_count": 0,
      "outputs": []
    },
    {
      "cell_type": "code",
      "metadata": {
        "id": "y2haSmVTtdPm",
        "colab_type": "code",
        "outputId": "6cbe5656-a743-4d46-ead1-f1da62b5d750",
        "colab": {
          "base_uri": "https://localhost:8080/",
          "height": 204
        }
      },
      "source": [
        "train.head()"
      ],
      "execution_count": 0,
      "outputs": [
        {
          "output_type": "execute_result",
          "data": {
            "text/html": [
              "<div>\n",
              "<style scoped>\n",
              "    .dataframe tbody tr th:only-of-type {\n",
              "        vertical-align: middle;\n",
              "    }\n",
              "\n",
              "    .dataframe tbody tr th {\n",
              "        vertical-align: top;\n",
              "    }\n",
              "\n",
              "    .dataframe thead th {\n",
              "        text-align: right;\n",
              "    }\n",
              "</style>\n",
              "<table border=\"1\" class=\"dataframe\">\n",
              "  <thead>\n",
              "    <tr style=\"text-align: right;\">\n",
              "      <th></th>\n",
              "      <th>id_code</th>\n",
              "      <th>diagnosis</th>\n",
              "    </tr>\n",
              "  </thead>\n",
              "  <tbody>\n",
              "    <tr>\n",
              "      <th>7906</th>\n",
              "      <td>d9e58e4d8689</td>\n",
              "      <td>0</td>\n",
              "    </tr>\n",
              "    <tr>\n",
              "      <th>5884</th>\n",
              "      <td>a2ddabee14e9</td>\n",
              "      <td>4</td>\n",
              "    </tr>\n",
              "    <tr>\n",
              "      <th>191</th>\n",
              "      <td>05a5183c92d0_0</td>\n",
              "      <td>1</td>\n",
              "    </tr>\n",
              "    <tr>\n",
              "      <th>7120</th>\n",
              "      <td>c3cd0200df79_1</td>\n",
              "      <td>3</td>\n",
              "    </tr>\n",
              "    <tr>\n",
              "      <th>7202</th>\n",
              "      <td>c613db1cab27</td>\n",
              "      <td>2</td>\n",
              "    </tr>\n",
              "  </tbody>\n",
              "</table>\n",
              "</div>"
            ],
            "text/plain": [
              "             id_code  diagnosis\n",
              "7906    d9e58e4d8689          0\n",
              "5884    a2ddabee14e9          4\n",
              "191   05a5183c92d0_0          1\n",
              "7120  c3cd0200df79_1          3\n",
              "7202    c613db1cab27          2"
            ]
          },
          "metadata": {
            "tags": []
          },
          "execution_count": 12
        }
      ]
    },
    {
      "cell_type": "code",
      "metadata": {
        "id": "ZhyT0alWqUiV",
        "colab_type": "code",
        "outputId": "e0508362-5625-43f6-e009-46128f0aefdc",
        "colab": {
          "base_uri": "https://localhost:8080/",
          "height": 377
        }
      },
      "source": [
        "model1 = create_model(\n",
        "    input_shape=(SIZE,SIZE,3), \n",
        "    n_out=NUM_CLASSES,\n",
        "    model_weights=\"resnet50_aug3/Resnet50-09-0.8952.h5\")\n",
        "model1.compile(loss='categorical_crossentropy', metrics=['accuracy'],optimizer=Adam(1e-3))\n",
        "\n",
        "model2 = create_model(\n",
        "    input_shape=(SIZE,SIZE,3), \n",
        "    n_out=NUM_CLASSES,\n",
        "    model_weights='resnet50_aug4/Resnet50_qwk-29-0.9558.h5')\n",
        "model2.compile(loss='categorical_crossentropy', metrics=['accuracy'],optimizer=Adam(1e-3))"
      ],
      "execution_count": 0,
      "outputs": [
        {
          "output_type": "stream",
          "text": [
            "WARNING: Logging before flag parsing goes to stderr.\n",
            "W0807 06:26:48.074534 139889221781376 deprecation_wrapper.py:119] From /usr/local/lib/python3.6/dist-packages/keras/backend/tensorflow_backend.py:74: The name tf.get_default_graph is deprecated. Please use tf.compat.v1.get_default_graph instead.\n",
            "\n",
            "W0807 06:26:48.142511 139889221781376 deprecation_wrapper.py:119] From /usr/local/lib/python3.6/dist-packages/keras/backend/tensorflow_backend.py:517: The name tf.placeholder is deprecated. Please use tf.compat.v1.placeholder instead.\n",
            "\n",
            "W0807 06:26:48.170713 139889221781376 deprecation_wrapper.py:119] From /usr/local/lib/python3.6/dist-packages/keras/backend/tensorflow_backend.py:4185: The name tf.truncated_normal is deprecated. Please use tf.random.truncated_normal instead.\n",
            "\n",
            "W0807 06:26:48.221229 139889221781376 deprecation_wrapper.py:119] From /usr/local/lib/python3.6/dist-packages/keras/backend/tensorflow_backend.py:174: The name tf.get_default_session is deprecated. Please use tf.compat.v1.get_default_session instead.\n",
            "\n",
            "W0807 06:26:48.222414 139889221781376 deprecation_wrapper.py:119] From /usr/local/lib/python3.6/dist-packages/keras/backend/tensorflow_backend.py:181: The name tf.ConfigProto is deprecated. Please use tf.compat.v1.ConfigProto instead.\n",
            "\n",
            "W0807 06:26:51.342936 139889221781376 deprecation_wrapper.py:119] From /usr/local/lib/python3.6/dist-packages/keras/backend/tensorflow_backend.py:1834: The name tf.nn.fused_batch_norm is deprecated. Please use tf.compat.v1.nn.fused_batch_norm instead.\n",
            "\n",
            "W0807 06:26:51.435522 139889221781376 deprecation_wrapper.py:119] From /usr/local/lib/python3.6/dist-packages/keras/backend/tensorflow_backend.py:3976: The name tf.nn.max_pool is deprecated. Please use tf.nn.max_pool2d instead.\n",
            "\n",
            "W0807 06:26:57.459065 139889221781376 deprecation.py:506] From /usr/local/lib/python3.6/dist-packages/keras/backend/tensorflow_backend.py:3445: calling dropout (from tensorflow.python.ops.nn_ops) with keep_prob is deprecated and will be removed in a future version.\n",
            "Instructions for updating:\n",
            "Please use `rate` instead of `keep_prob`. Rate should be set to `rate = 1 - keep_prob`.\n",
            "W0807 06:27:00.936355 139889221781376 deprecation_wrapper.py:119] From /usr/local/lib/python3.6/dist-packages/keras/optimizers.py:790: The name tf.train.Optimizer is deprecated. Please use tf.compat.v1.train.Optimizer instead.\n",
            "\n"
          ],
          "name": "stderr"
        }
      ]
    },
    {
      "cell_type": "code",
      "metadata": {
        "id": "WfwsRMPGtFHB",
        "colab_type": "code",
        "colab": {}
      },
      "source": [
        "#Evaluate with train data itself\n",
        "train_img = []\n",
        "train_labels = []\n",
        "\n",
        "for idx, row in train_data.iterrows():\n",
        "    path = 'kaggle-data/aug_train_images/' + row['id_code']+'.png'\n",
        "    img = cv2.imread(path)\n",
        "    img = preprocess_image(img)\n",
        "\n",
        "    label = to_categorical(int(row['diagnosis']), num_classes=5)\n",
        "    train_img.append(img)\n",
        "    train_labels.append(label)\n",
        "    \n",
        "train_img = np.array(train_img)\n",
        "train_labels = np.array(train_labels)"
      ],
      "execution_count": 0,
      "outputs": []
    },
    {
      "cell_type": "markdown",
      "metadata": {
        "id": "tyc0rQEUvjn4",
        "colab_type": "text"
      },
      "source": [
        "## Evaluate First Model"
      ]
    },
    {
      "cell_type": "code",
      "metadata": {
        "id": "HIe-z7Btsh9D",
        "colab_type": "code",
        "outputId": "650ff3ab-6545-404a-cbb7-4d58d939700f",
        "colab": {
          "base_uri": "https://localhost:8080/",
          "height": 68
        }
      },
      "source": [
        "eval_loss1, eval_score1 = model1.evaluate(train_img, train_labels, batch_size=16)\n",
        "print(\"Loss on test set: \", eval_loss1)\n",
        "print(\"Accuracy on test set: \", eval_score1)"
      ],
      "execution_count": 0,
      "outputs": [
        {
          "output_type": "stream",
          "text": [
            "5495/5495 [==============================] - 96s 18ms/step\n",
            "Loss on test set:  7.650551852624561\n",
            "Accuracy on test set:  0.2043676069316482\n"
          ],
          "name": "stdout"
        }
      ]
    },
    {
      "cell_type": "code",
      "metadata": {
        "id": "IRQlUWtRzv1_",
        "colab_type": "code",
        "colab": {}
      },
      "source": [
        "#Evaluate with train data itself\n",
        "predicted1 = []\n",
        "# train_labels = []\n",
        "\n",
        "for idx, row in train_data.iterrows():\n",
        "    path = 'kaggle-data/aug_train_images/' + row['id_code']+'.png'\n",
        "    img = cv2.imread(path)\n",
        "    img = preprocess_image(img)\n",
        "\n",
        "    label = to_categorical(int(row['diagnosis']), num_classes=5)\n",
        "    score_predict = model1.predict((img[np.newaxis])/255)\n",
        "    label_predict = np.argmax(score_predict)\n",
        "    predicted1.append(str(label_predict))\n",
        "    "
      ],
      "execution_count": 0,
      "outputs": []
    },
    {
      "cell_type": "code",
      "metadata": {
        "id": "SyqhSVYU2J_C",
        "colab_type": "code",
        "outputId": "8842792d-2408-4f7e-aa1c-4dddd2755a22",
        "colab": {
          "base_uri": "https://localhost:8080/",
          "height": 394
        }
      },
      "source": [
        "cm  = confusion_matrix(orig_train_labels, predicted1)\n",
        "plt.figure()\n",
        "plot_confusion_matrix(cm,figsize=(12,8), hide_ticks=True, cmap=plt.cm.Blues, show_normed=True, show_absolute=False)\n",
        "#plt.xticks(range(5), ['0', '1', '2', '3', '4'], fontsize=16)\n",
        "#plt.yticks(range(5), ['0', '1', '2', '3', '4'], fontsize=16)\n",
        "plt.show()"
      ],
      "execution_count": 0,
      "outputs": [
        {
          "output_type": "error",
          "ename": "ValueError",
          "evalue": "ignored",
          "traceback": [
            "\u001b[0;31m---------------------------------------------------------------------------\u001b[0m",
            "\u001b[0;31mValueError\u001b[0m                                Traceback (most recent call last)",
            "\u001b[0;32m<ipython-input-24-f298a386d8e8>\u001b[0m in \u001b[0;36m<module>\u001b[0;34m()\u001b[0m\n\u001b[0;32m----> 1\u001b[0;31m \u001b[0mcm\u001b[0m  \u001b[0;34m=\u001b[0m \u001b[0mconfusion_matrix\u001b[0m\u001b[0;34m(\u001b[0m\u001b[0morig_train_labels\u001b[0m\u001b[0;34m,\u001b[0m \u001b[0mpredicted1\u001b[0m\u001b[0;34m)\u001b[0m\u001b[0;34m\u001b[0m\u001b[0;34m\u001b[0m\u001b[0m\n\u001b[0m\u001b[1;32m      2\u001b[0m \u001b[0mplt\u001b[0m\u001b[0;34m.\u001b[0m\u001b[0mfigure\u001b[0m\u001b[0;34m(\u001b[0m\u001b[0;34m)\u001b[0m\u001b[0;34m\u001b[0m\u001b[0;34m\u001b[0m\u001b[0m\n\u001b[1;32m      3\u001b[0m \u001b[0mplot_confusion_matrix\u001b[0m\u001b[0;34m(\u001b[0m\u001b[0mcm\u001b[0m\u001b[0;34m,\u001b[0m\u001b[0mfigsize\u001b[0m\u001b[0;34m=\u001b[0m\u001b[0;34m(\u001b[0m\u001b[0;36m12\u001b[0m\u001b[0;34m,\u001b[0m\u001b[0;36m8\u001b[0m\u001b[0;34m)\u001b[0m\u001b[0;34m,\u001b[0m \u001b[0mhide_ticks\u001b[0m\u001b[0;34m=\u001b[0m\u001b[0;32mTrue\u001b[0m\u001b[0;34m,\u001b[0m \u001b[0mcmap\u001b[0m\u001b[0;34m=\u001b[0m\u001b[0mplt\u001b[0m\u001b[0;34m.\u001b[0m\u001b[0mcm\u001b[0m\u001b[0;34m.\u001b[0m\u001b[0mBlues\u001b[0m\u001b[0;34m,\u001b[0m \u001b[0mshow_normed\u001b[0m\u001b[0;34m=\u001b[0m\u001b[0;32mTrue\u001b[0m\u001b[0;34m,\u001b[0m \u001b[0mshow_absolute\u001b[0m\u001b[0;34m=\u001b[0m\u001b[0;32mFalse\u001b[0m\u001b[0;34m)\u001b[0m\u001b[0;34m\u001b[0m\u001b[0;34m\u001b[0m\u001b[0m\n\u001b[1;32m      4\u001b[0m \u001b[0;31m#plt.xticks(range(5), ['0', '1', '2', '3', '4'], fontsize=16)\u001b[0m\u001b[0;34m\u001b[0m\u001b[0;34m\u001b[0m\u001b[0;34m\u001b[0m\u001b[0m\n\u001b[1;32m      5\u001b[0m \u001b[0;31m#plt.yticks(range(5), ['0', '1', '2', '3', '4'], fontsize=16)\u001b[0m\u001b[0;34m\u001b[0m\u001b[0;34m\u001b[0m\u001b[0;34m\u001b[0m\u001b[0m\n",
            "\u001b[0;32m/usr/local/lib/python3.6/dist-packages/sklearn/metrics/classification.py\u001b[0m in \u001b[0;36mconfusion_matrix\u001b[0;34m(y_true, y_pred, labels, sample_weight)\u001b[0m\n\u001b[1;32m    256\u001b[0m \u001b[0;34m\u001b[0m\u001b[0m\n\u001b[1;32m    257\u001b[0m     \u001b[0;32mif\u001b[0m \u001b[0mlabels\u001b[0m \u001b[0;32mis\u001b[0m \u001b[0;32mNone\u001b[0m\u001b[0;34m:\u001b[0m\u001b[0;34m\u001b[0m\u001b[0;34m\u001b[0m\u001b[0m\n\u001b[0;32m--> 258\u001b[0;31m         \u001b[0mlabels\u001b[0m \u001b[0;34m=\u001b[0m \u001b[0munique_labels\u001b[0m\u001b[0;34m(\u001b[0m\u001b[0my_true\u001b[0m\u001b[0;34m,\u001b[0m \u001b[0my_pred\u001b[0m\u001b[0;34m)\u001b[0m\u001b[0;34m\u001b[0m\u001b[0;34m\u001b[0m\u001b[0m\n\u001b[0m\u001b[1;32m    259\u001b[0m     \u001b[0;32melse\u001b[0m\u001b[0;34m:\u001b[0m\u001b[0;34m\u001b[0m\u001b[0;34m\u001b[0m\u001b[0m\n\u001b[1;32m    260\u001b[0m         \u001b[0mlabels\u001b[0m \u001b[0;34m=\u001b[0m \u001b[0mnp\u001b[0m\u001b[0;34m.\u001b[0m\u001b[0masarray\u001b[0m\u001b[0;34m(\u001b[0m\u001b[0mlabels\u001b[0m\u001b[0;34m)\u001b[0m\u001b[0;34m\u001b[0m\u001b[0;34m\u001b[0m\u001b[0m\n",
            "\u001b[0;32m/usr/local/lib/python3.6/dist-packages/sklearn/utils/multiclass.py\u001b[0m in \u001b[0;36munique_labels\u001b[0;34m(*ys)\u001b[0m\n\u001b[1;32m     98\u001b[0m     \u001b[0;31m# Check that we don't mix string type with number type\u001b[0m\u001b[0;34m\u001b[0m\u001b[0;34m\u001b[0m\u001b[0;34m\u001b[0m\u001b[0m\n\u001b[1;32m     99\u001b[0m     \u001b[0;32mif\u001b[0m \u001b[0;34m(\u001b[0m\u001b[0mlen\u001b[0m\u001b[0;34m(\u001b[0m\u001b[0mset\u001b[0m\u001b[0;34m(\u001b[0m\u001b[0misinstance\u001b[0m\u001b[0;34m(\u001b[0m\u001b[0mlabel\u001b[0m\u001b[0;34m,\u001b[0m \u001b[0mstr\u001b[0m\u001b[0;34m)\u001b[0m \u001b[0;32mfor\u001b[0m \u001b[0mlabel\u001b[0m \u001b[0;32min\u001b[0m \u001b[0mys_labels\u001b[0m\u001b[0;34m)\u001b[0m\u001b[0;34m)\u001b[0m \u001b[0;34m>\u001b[0m \u001b[0;36m1\u001b[0m\u001b[0;34m)\u001b[0m\u001b[0;34m:\u001b[0m\u001b[0;34m\u001b[0m\u001b[0;34m\u001b[0m\u001b[0m\n\u001b[0;32m--> 100\u001b[0;31m         \u001b[0;32mraise\u001b[0m \u001b[0mValueError\u001b[0m\u001b[0;34m(\u001b[0m\u001b[0;34m\"Mix of label input types (string and number)\"\u001b[0m\u001b[0;34m)\u001b[0m\u001b[0;34m\u001b[0m\u001b[0;34m\u001b[0m\u001b[0m\n\u001b[0m\u001b[1;32m    101\u001b[0m \u001b[0;34m\u001b[0m\u001b[0m\n\u001b[1;32m    102\u001b[0m     \u001b[0;32mreturn\u001b[0m \u001b[0mnp\u001b[0m\u001b[0;34m.\u001b[0m\u001b[0marray\u001b[0m\u001b[0;34m(\u001b[0m\u001b[0msorted\u001b[0m\u001b[0;34m(\u001b[0m\u001b[0mys_labels\u001b[0m\u001b[0;34m)\u001b[0m\u001b[0;34m)\u001b[0m\u001b[0;34m\u001b[0m\u001b[0;34m\u001b[0m\u001b[0m\n",
            "\u001b[0;31mValueError\u001b[0m: Mix of label input types (string and number)"
          ]
        }
      ]
    },
    {
      "cell_type": "code",
      "metadata": {
        "id": "Qb752DDh2J1l",
        "colab_type": "code",
        "colab": {}
      },
      "source": [
        ""
      ],
      "execution_count": 0,
      "outputs": []
    },
    {
      "cell_type": "markdown",
      "metadata": {
        "id": "Vey0luC82Jhg",
        "colab_type": "text"
      },
      "source": [
        ""
      ]
    },
    {
      "cell_type": "code",
      "metadata": {
        "id": "K7usmfR9uO7y",
        "colab_type": "code",
        "colab": {}
      },
      "source": [
        "preds1 = model1.predict(train_img, batch_size=16)\n",
        "preds1 = np.argmax(preds1, axis=-1)\n",
        "\n",
        "# Original labels\n",
        "orig_train_labels = np.argmax(train_labels, axis=-1)"
      ],
      "execution_count": 0,
      "outputs": []
    },
    {
      "cell_type": "markdown",
      "metadata": {
        "id": "1PveK-5LvsQX",
        "colab_type": "text"
      },
      "source": [
        "## Confusion Matrix"
      ]
    },
    {
      "cell_type": "code",
      "metadata": {
        "id": "54PF9oIOve4h",
        "colab_type": "code",
        "outputId": "455627b7-9051-4693-eb32-15dbda75d83f",
        "colab": {
          "base_uri": "https://localhost:8080/",
          "height": 500
        }
      },
      "source": [
        "cm  = confusion_matrix(orig_train_labels, preds1)\n",
        "plt.figure()\n",
        "plot_confusion_matrix(cm,figsize=(12,8), hide_ticks=True, cmap=plt.cm.Blues, show_normed=True, show_absolute=False)\n",
        "#plt.xticks(range(5), ['0', '1', '2', '3', '4'], fontsize=16)\n",
        "#plt.yticks(range(5), ['0', '1', '2', '3', '4'], fontsize=16)\n",
        "plt.show()"
      ],
      "execution_count": 0,
      "outputs": [
        {
          "output_type": "display_data",
          "data": {
            "text/plain": [
              "<Figure size 432x288 with 0 Axes>"
            ]
          },
          "metadata": {
            "tags": []
          }
        },
        {
          "output_type": "display_data",
          "data": {
            "image/png": "[encoded data removed]",
            "text/plain": [
              "<Figure size 864x576 with 1 Axes>"
            ]
          },
          "metadata": {
            "tags": []
          }
        }
      ]
    },
    {
      "cell_type": "markdown",
      "metadata": {
        "id": "hX-Ea23Nv0aI",
        "colab_type": "text"
      },
      "source": [
        "## Evaluate second Model"
      ]
    },
    {
      "cell_type": "code",
      "metadata": {
        "id": "gKXTtjMbvz_I",
        "colab_type": "code",
        "outputId": "f81d1219-7fd2-4027-e443-5341df7c6bdc",
        "colab": {
          "base_uri": "https://localhost:8080/",
          "height": 68
        }
      },
      "source": [
        "eval_loss2, eval_score2 = model2.evaluate(train_img, train_labels, batch_size=16)\n",
        "print(\"Loss on test set: \", eval_loss2)\n",
        "print(\"Accuracy on test set: \", eval_score2)"
      ],
      "execution_count": 0,
      "outputs": [
        {
          "output_type": "stream",
          "text": [
            "5495/5495 [==============================] - 91s 17ms/step\n",
            "Loss on test set:  7.940974250460235\n",
            "Accuracy on test set:  0.26223839856040165\n"
          ],
          "name": "stdout"
        }
      ]
    },
    {
      "cell_type": "code",
      "metadata": {
        "id": "elM0nq-lv-He",
        "colab_type": "code",
        "colab": {}
      },
      "source": [
        "preds2 = model2.predict(train_img, batch_size=16)\n",
        "preds2 = np.argmax(preds2, axis=-1)\n",
        "\n",
        "# Original labels\n",
        "# orig_train_labels = np.argmax(train_labels, axis=-1)"
      ],
      "execution_count": 0,
      "outputs": []
    },
    {
      "cell_type": "code",
      "metadata": {
        "id": "YJi3RgBtwDdI",
        "colab_type": "code",
        "outputId": "7c3ac8f6-d6ce-47aa-86c5-d1ba6a4e8918",
        "colab": {
          "base_uri": "https://localhost:8080/",
          "height": 500
        }
      },
      "source": [
        "cm  = confusion_matrix(orig_train_labels, preds2)\n",
        "plt.figure()\n",
        "plot_confusion_matrix(cm,figsize=(12,8), hide_ticks=True, cmap=plt.cm.Blues, show_normed=True, show_absolute=False)\n",
        "#plt.xticks(range(5), ['0', '1', '2', '3', '4'], fontsize=16)\n",
        "#plt.yticks(range(5), ['0', '1', '2', '3', '4'], fontsize=16)\n",
        "plt.show()"
      ],
      "execution_count": 0,
      "outputs": [
        {
          "output_type": "display_data",
          "data": {
            "text/plain": [
              "<Figure size 432x288 with 0 Axes>"
            ]
          },
          "metadata": {
            "tags": []
          }
        },
        {
          "output_type": "display_data",
          "data": {
            "image/png": "[encoded data removed]",
            "text/plain": [
              "<Figure size 864x576 with 1 Axes>"
            ]
          },
          "metadata": {
            "tags": []
          }
        }
      ]
    }
  ]
}