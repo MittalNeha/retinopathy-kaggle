{
  "nbformat": 4,
  "nbformat_minor": 0,
  "metadata": {
    "colab": {
      "name": "Resnet-50 baseline.ipynb",
      "version": "0.3.2",
      "provenance": [],
      "toc_visible": true,
      "machine_shape": "hm",
      "include_colab_link": true
    },
    "kernelspec": {
      "name": "python3",
      "display_name": "Python 3"
    },
    "accelerator": "GPU"
  },
  "cells": [
    {
      "cell_type": "markdown",
      "metadata": {
        "id": "view-in-github",
        "colab_type": "text"
      },
      "source": [
        "<a href=\"https://colab.research.google.com/github/MittalNeha/retinopathy-kaggle/blob/master/Resnet_50_baseline.ipynb\" target=\"_parent\"><img src=\"https://colab.research.google.com/assets/colab-badge.svg\" alt=\"Open In Colab\"/></a>"
      ]
    },
    {
      "cell_type": "code",
      "metadata": {
        "id": "GMNM_ZaOgwPy",
        "colab_type": "code",
        "colab": {
          "base_uri": "https://localhost:8080/",
          "height": 34
        },
        "outputId": "c0b70848-ea14-438b-b54b-7de66813222f"
      },
      "source": [
        "# It is defined by the kaggle/python docker image: https://github.com/kaggle/docker-python\n",
        "# For example, here's several helpful packages to load in \n",
        "\n",
        "import os\n",
        "import glob\n",
        "import h5py\n",
        "import shutil\n",
        "import imgaug as aug\n",
        "import numpy as np # linear algebra\n",
        "import pandas as pd # data processing, CSV file I/O (e.g. pd.read_csv)\n",
        "import seaborn as sns\n",
        "import matplotlib.pyplot as plt\n",
        "import matplotlib.image as mimg\n",
        "import imgaug.augmenters as iaa\n",
        "from os import listdir, makedirs, getcwd, remove\n",
        "from os.path import isfile, join, abspath, exists, isdir, expanduser\n",
        "from PIL import Image\n",
        "from pathlib import Path\n",
        "from skimage.io import imread\n",
        "from skimage.transform import resize\n",
        "\n",
        "from keras.models import Sequential, Model\n",
        "from keras.applications.vgg16 import VGG16, preprocess_input\n",
        "from keras.preprocessing.image import ImageDataGenerator,load_img, img_to_array\n",
        "from keras.models import Sequential, load_model\n",
        "from keras.layers import (Activation, Conv2D, MaxPooling2D, Dense, Dropout, Input, Flatten, SeparableConv2D,\n",
        "                          Dense, BatchNormalization, GlobalAveragePooling2D)\n",
        "from keras.layers import GlobalMaxPooling2D\n",
        "from keras.layers.normalization import BatchNormalization\n",
        "from keras.layers.merge import Concatenate\n",
        "from keras.models import Model\n",
        "from keras.optimizers import Adam, SGD, RMSprop\n",
        "from keras.callbacks import ModelCheckpoint, Callback, EarlyStopping\n",
        "from keras.utils import Sequence\n",
        "from keras.utils import to_categorical\n",
        "from keras.losses import binary_crossentropy, categorical_crossentropy\n",
        "\n",
        "from keras.applications.resnet50 import ResNet50\n",
        "# from keras.applications.res\n",
        "\n",
        "from sklearn.model_selection import train_test_split\n",
        "from sklearn.preprocessing import StandardScaler\n",
        "from mlxtend.plotting import plot_confusion_matrix\n",
        "from keras import metrics\n",
        "from sklearn.metrics import confusion_matrix, cohen_kappa_score\n",
        "from sklearn.utils import class_weight, shuffle\n",
        "import cv2\n",
        "from keras import backend as K\n",
        "import tensorflow as tf\n",
        "\n",
        "from tqdm import tqdm\n",
        "\n",
        "color = sns.color_palette()\n",
        "%matplotlib inline\n",
        "\n",
        "# Input data files are available in the \"../input/\" directory.\n",
        "# For example, running this (by clicking run or pressing Shift+Enter) will list the files in the input directory\n"
      ],
      "execution_count": 1,
      "outputs": [
        {
          "output_type": "stream",
          "text": [
            "Using TensorFlow backend.\n"
          ],
          "name": "stderr"
        }
      ]
    },
    {
      "cell_type": "code",
      "metadata": {
        "id": "-jzw7yIaiaLR",
        "colab_type": "code",
        "colab": {
          "base_uri": "https://localhost:8080/",
          "height": 122
        },
        "outputId": "4084d08a-cd8d-4d15-8728-5d2b198d840f"
      },
      "source": [
        "from google.colab import drive\n",
        "drive.mount('/content/gdrive')"
      ],
      "execution_count": 2,
      "outputs": [
        {
          "output_type": "stream",
          "text": [
            "Go to this URL in a browser: https://accounts.google.com/o/oauth2/auth?client_id=947318989803-6bn6qk8qdgf4n4g3pfee6491hc0brc4i.apps.googleusercontent.com&redirect_uri=urn%3Aietf%3Awg%3Aoauth%3A2.0%3Aoob&scope=email%20https%3A%2F%2Fwww.googleapis.com%2Fauth%2Fdocs.test%20https%3A%2F%2Fwww.googleapis.com%2Fauth%2Fdrive%20https%3A%2F%2Fwww.googleapis.com%2Fauth%2Fdrive.photos.readonly%20https%3A%2F%2Fwww.googleapis.com%2Fauth%2Fpeopleapi.readonly&response_type=code\n",
            "\n",
            "Enter your authorization code:\n",
            "··········\n",
            "Mounted at /content/gdrive\n"
          ],
          "name": "stdout"
        }
      ]
    },
    {
      "cell_type": "code",
      "metadata": {
        "id": "Ao3wR7Axiaq1",
        "colab_type": "code",
        "colab": {}
      },
      "source": [
        "def get_kaggle_data():\n",
        "  os.environ['KAGGLE_USERNAME'] = \"mittalneha\"\n",
        "  os.environ['KAGGLE_KEY'] = \"59ec3f992f5fb4b510bebd8dea889381\"\n",
        "  \n",
        "  !kaggle competitions download -c aptos2019-blindness-detection\n",
        "#   !kaggle datasets download -d keras/resnet50\n",
        "  \n",
        "  !mkdir kaggle-data\n",
        "  !mv sample_submission.csv kaggle-data/\n",
        "  !mv test.csv kaggle-data/\n",
        "#   !mv train.csv kaggle-data/\n",
        "  !unzip test_images.zip -d kaggle-data/test_images\n",
        "#   !unzip train_images.zip -d kaggle-data/train_images\n",
        "  !cp /content/gdrive/My\\ Drive/Colab\\ Notebooks/aug_train_images.zip .\n",
        "  !cp /content/gdrive/My\\ Drive/Colab\\ Notebooks/aug_train.csv .\n",
        "  \n",
        "  !unzip aug_train_images.zip\n",
        "  !mv aug_train_images kaggle-data/\n",
        "  !mv aug_train.csv kaggle-data/\n",
        "  \n",
        "  \n",
        "#   !unzip resnet50.zip -d kaggle-data/resnet50/\n",
        "  "
      ],
      "execution_count": 0,
      "outputs": []
    },
    {
      "cell_type": "code",
      "metadata": {
        "id": "DRijCGVB5kbI",
        "colab_type": "code",
        "colab": {
          "base_uri": "https://localhost:8080/",
          "height": 136
        },
        "outputId": "e69dbf0a-2d8b-4f7c-ee57-fd13d4b7475a"
      },
      "source": [
        "!kaggle datasets download -d keras/resnet50\n",
        "!unzip resnet50.zip -d kaggle-data/resnet50/"
      ],
      "execution_count": 25,
      "outputs": [
        {
          "output_type": "stream",
          "text": [
            "Downloading resnet50.zip to /content\n",
            " 92% 161M/174M [00:03<00:00, 59.1MB/s]\n",
            "100% 174M/174M [00:03<00:00, 58.5MB/s]\n",
            "Archive:  resnet50.zip\n",
            "  inflating: kaggle-data/resnet50/resnet50_weights_tf_dim_ordering_tf_kernels_notop.h5  \n",
            "  inflating: kaggle-data/resnet50/resnet50_weights_tf_dim_ordering_tf_kernels.h5  \n",
            "  inflating: kaggle-data/resnet50/imagenet_class_index.json  \n"
          ],
          "name": "stdout"
        }
      ]
    },
    {
      "cell_type": "code",
      "metadata": {
        "id": "thQZYbhRnFso",
        "colab_type": "code",
        "colab": {
          "base_uri": "https://localhost:8080/",
          "height": 51
        },
        "outputId": "e8b088a6-af8b-4d63-ccdc-d4068bf129c4"
      },
      "source": [
        "!cp /content/gdrive/My\\ Drive/Colab\\ Notebooks/resnet50_aug1.zip .\n",
        "!unzip resnet50_aug1.zip"
      ],
      "execution_count": 4,
      "outputs": [
        {
          "output_type": "stream",
          "text": [
            "Archive:  resnet50_aug1.zip\n",
            "  inflating: Resnet50_bestqwk.h5     \n"
          ],
          "name": "stdout"
        }
      ]
    },
    {
      "cell_type": "code",
      "metadata": {
        "id": "uL8nrOvepFsP",
        "colab_type": "code",
        "colab": {}
      },
      "source": [
        "# !mkdir kaggle-data/resnet50\n",
        "!mv Resnet50_bestqwk.h5 kaggle-data/resnet50"
      ],
      "execution_count": 0,
      "outputs": []
    },
    {
      "cell_type": "code",
      "metadata": {
        "id": "migL32nXiel8",
        "colab_type": "code",
        "colab": {}
      },
      "source": [
        "data_dir = \"kaggle-data\"\n",
        "get_kaggle_data()"
      ],
      "execution_count": 0,
      "outputs": []
    },
    {
      "cell_type": "code",
      "metadata": {
        "id": "VJlLRV1aiiv1",
        "colab_type": "code",
        "colab": {}
      },
      "source": [
        "WORKERS = 2\n",
        "CHANNEL = 3\n",
        "\n",
        "import warnings\n",
        "warnings.filterwarnings(\"ignore\")\n",
        "SIZE = 300\n",
        "NUM_CLASSES = 5"
      ],
      "execution_count": 0,
      "outputs": []
    },
    {
      "cell_type": "code",
      "metadata": {
        "id": "Lm4lMspKiqkU",
        "colab_type": "code",
        "outputId": "e64c9e90-112b-4ce5-e28a-f18638a719f4",
        "colab": {
          "base_uri": "https://localhost:8080/",
          "height": 286
        }
      },
      "source": [
        "df_train = pd.read_csv('kaggle-data/aug_train.csv')\n",
        "df_test = pd.read_csv('kaggle-data/test.csv')\n",
        "\n",
        "df_train.columns = ['id_code', 'diagnosis']\n",
        "\n",
        "x = df_train['id_code']\n",
        "y = df_train['diagnosis']\n",
        "\n",
        "x, y = shuffle(x, y, random_state=8)\n",
        "y.hist()\n"
      ],
      "execution_count": 26,
      "outputs": [
        {
          "output_type": "execute_result",
          "data": {
            "text/plain": [
              "<matplotlib.axes._subplots.AxesSubplot at 0x7f39bd2a3ac8>"
            ]
          },
          "metadata": {
            "tags": []
          },
          "execution_count": 26
        },
        {
          "output_type": "display_data",
          "data": {
            "image/png": "[encoded data removed]",
            "text/plain": [
              "<Figure size 432x288 with 1 Axes>"
            ]
          },
          "metadata": {
            "tags": []
          }
        }
      ]
    },
    {
      "cell_type": "code",
      "metadata": {
        "id": "5K22T2Aiiv4l",
        "colab_type": "code",
        "outputId": "5525ae2b-b13d-464d-fabf-d3342eb5346f",
        "colab": {
          "base_uri": "https://localhost:8080/",
          "height": 85
        }
      },
      "source": [
        "y = to_categorical(y, num_classes=NUM_CLASSES)\n",
        "train_x, valid_x, train_y, valid_y = train_test_split(x, y, test_size=0.15,\n",
        "                                                      stratify=y, random_state=8)\n",
        "print(train_x.shape)\n",
        "print(train_y.shape)\n",
        "print(valid_x.shape)\n",
        "print(valid_y.shape)"
      ],
      "execution_count": 27,
      "outputs": [
        {
          "output_type": "stream",
          "text": [
            "(7785,)\n",
            "(7785, 5)\n",
            "(1374,)\n",
            "(1374, 5)\n"
          ],
          "name": "stdout"
        }
      ]
    },
    {
      "cell_type": "code",
      "metadata": {
        "id": "24XlFfhmi7Du",
        "colab_type": "code",
        "colab": {}
      },
      "source": [
        "class My_Generator(Sequence):\n",
        "\n",
        "    def __init__(self, image_filenames, labels,\n",
        "                 batch_size, is_train=True,\n",
        "                 mix=False, augment=False):\n",
        "        self.image_filenames, self.labels = image_filenames, labels\n",
        "        self.batch_size = batch_size\n",
        "        self.is_train = is_train\n",
        "        self.is_augment = augment\n",
        "        if(self.is_train):\n",
        "            self.on_epoch_end()\n",
        "        self.is_mix = mix\n",
        "\n",
        "    def __len__(self):\n",
        "        return int(np.ceil(len(self.image_filenames) / float(self.batch_size)))\n",
        "\n",
        "    def __getitem__(self, idx):\n",
        "        batch_x = self.image_filenames[idx * self.batch_size:(idx + 1) * self.batch_size]\n",
        "        batch_y = self.labels[idx * self.batch_size:(idx + 1) * self.batch_size]\n",
        "\n",
        "        if(self.is_train):\n",
        "            return self.train_generate(batch_x, batch_y)\n",
        "        return self.valid_generate(batch_x, batch_y)\n",
        "\n",
        "    def on_epoch_end(self):\n",
        "        if(self.is_train):\n",
        "            self.image_filenames, self.labels = shuffle(self.image_filenames, self.labels)\n",
        "        else:\n",
        "            pass\n",
        "    \n",
        "    def mix_up(self, x, y):\n",
        "        lam = np.random.beta(0.2, 0.4)\n",
        "        ori_index = np.arange(int(len(x)))\n",
        "        index_array = np.arange(int(len(x)))\n",
        "        np.random.shuffle(index_array)        \n",
        "        \n",
        "        mixed_x = lam * x[ori_index] + (1 - lam) * x[index_array]\n",
        "        mixed_y = lam * y[ori_index] + (1 - lam) * y[index_array]\n",
        "        \n",
        "        return mixed_x, mixed_y\n",
        "\n",
        "    def train_generate(self, batch_x, batch_y):\n",
        "        batch_images = []\n",
        "        for (sample, label) in zip(batch_x, batch_y):\n",
        "            img = cv2.imread('kaggle-data/aug_train_images/'+sample+'.png')\n",
        "            img = cv2.resize(img, (SIZE, SIZE))\n",
        "#             if(self.is_augment):\n",
        "#                 img = seq.augment_image(img)\n",
        "            batch_images.append(img)\n",
        "        batch_images = np.array(batch_images, np.float32) / 255\n",
        "        batch_y = np.array(batch_y, np.float32)\n",
        "        if(self.is_mix):\n",
        "            batch_images, batch_y = self.mix_up(batch_images, batch_y)\n",
        "        return batch_images, batch_y\n",
        "\n",
        "    def valid_generate(self, batch_x, batch_y):\n",
        "        batch_images = []\n",
        "        for (sample, label) in zip(batch_x, batch_y):\n",
        "            img = cv2.imread('kaggle-data/aug_train_images/'+sample+'.png')\n",
        "            img = cv2.resize(img, (SIZE, SIZE))\n",
        "            batch_images.append(img)\n",
        "        batch_images = np.array(batch_images, np.float32) / 255\n",
        "        batch_y = np.array(batch_y, np.float32)\n",
        "        return batch_images, batch_y"
      ],
      "execution_count": 0,
      "outputs": []
    },
    {
      "cell_type": "code",
      "metadata": {
        "id": "NmEdbXXQkyKX",
        "colab_type": "code",
        "colab": {}
      },
      "source": [
        "def create_model(input_shape, n_out, model_weights):\n",
        "    input_tensor = Input(shape=input_shape)\n",
        "    base_model = ResNet50(include_top=False,\n",
        "                   weights=None,\n",
        "                   input_tensor=input_tensor)\n",
        "    base_model.load_weights('kaggle-data/resnet50/resnet50_weights_tf_dim_ordering_tf_kernels_notop.h5')\n",
        "    x = GlobalAveragePooling2D()(base_model.output)\n",
        "    x = Dropout(0.5)(x)\n",
        "    x = Dense(1024, activation='relu')(x)\n",
        "    x = Dropout(0.5)(x)\n",
        "    final_output = Dense(n_out, activation='softmax', name='final_output')(x)\n",
        "    model = Model(input_tensor, final_output)\n",
        "#     model.load_weights(model_weights)\n",
        "    \n",
        "    return model"
      ],
      "execution_count": 0,
      "outputs": []
    },
    {
      "cell_type": "code",
      "metadata": {
        "id": "rPw_sCSe2A0v",
        "colab_type": "code",
        "colab": {}
      },
      "source": [
        "!mkdir 'kaggle-data/model'"
      ],
      "execution_count": 0,
      "outputs": []
    },
    {
      "cell_type": "code",
      "metadata": {
        "id": "wvA3rgEzk1PN",
        "colab_type": "code",
        "colab": {}
      },
      "source": [
        "# create callbacks list\n",
        "from keras.callbacks import (ModelCheckpoint, LearningRateScheduler,\n",
        "                             EarlyStopping, ReduceLROnPlateau,CSVLogger)\n",
        "\n",
        "epochs = 30; batch_size = 16\n",
        "checkpoint = ModelCheckpoint('kaggle-data/model/Resnet50-{epoch:02d}-{val_acc:.4f}.h5', monitor='val_loss', verbose=1, \n",
        "                             save_best_only=True, mode='min', save_weights_only = True)\n",
        "# checkpoint = ModelCheckpoint('kaggle-data/model/xception-model.h5', verbose=1, monitor='val_acc',\n",
        "#                               save_best_only=True, save_weights_only = True)\n",
        "reduceLROnPlat = ReduceLROnPlateau(monitor='val_loss', factor=0.5, patience=4, \n",
        "                                   verbose=1, mode='auto', epsilon=0.0001)\n",
        "early = EarlyStopping(monitor=\"val_loss\", \n",
        "                      mode=\"min\", \n",
        "                      patience=9)\n",
        "\n",
        "csv_logger = CSVLogger(filename='kaggle-data/model/training_log.csv',\n",
        "                       separator=',',\n",
        "                       append=True)\n",
        "# callbacks_list = [checkpoint, csv_logger, reduceLROnPlat, early]\n",
        "\n",
        "train_generator = My_Generator(train_x, train_y, 128, is_train=True)\n",
        "train_mixup = My_Generator(train_x, train_y, batch_size, is_train=True, mix=True, augment=False)\n",
        "valid_generator = My_Generator(valid_x, valid_y, batch_size, is_train=False)\n",
        "\n",
        "model = create_model(\n",
        "    input_shape=(SIZE,SIZE,3), \n",
        "    n_out=NUM_CLASSES,\n",
        "    model_weights='kaggle-data/resnet50/Resnet50_bestqwk.h5')"
      ],
      "execution_count": 0,
      "outputs": []
    },
    {
      "cell_type": "code",
      "metadata": {
        "id": "gzzdycCKk5f8",
        "colab_type": "code",
        "colab": {}
      },
      "source": [
        "# reference link: https://www.kaggle.com/christofhenkel/weighted-kappa-loss-for-keras-tensorflow\n",
        "def kappa_loss(y_true, y_pred, y_pow=2, eps=1e-12, N=5, bsize=32, name='kappa'):\n",
        "    \"\"\"A continuous differentiable approximation of discrete kappa loss.\n",
        "        Args:\n",
        "            y_pred: 2D tensor or array, [batch_size, num_classes]\n",
        "            y_true: 2D tensor or array,[batch_size, num_classes]\n",
        "            y_pow: int,  e.g. y_pow=2\n",
        "            N: typically num_classes of the model\n",
        "            bsize: batch_size of the training or validation ops\n",
        "            eps: a float, prevents divide by zero\n",
        "            name: Optional scope/name for op_scope.\n",
        "        Returns:\n",
        "            A tensor with the kappa loss.\"\"\"\n",
        "\n",
        "    with tf.name_scope(name):\n",
        "        y_true = tf.to_float(y_true)\n",
        "        repeat_op = tf.to_float(tf.tile(tf.reshape(tf.range(0, N), [N, 1]), [1, N]))\n",
        "        repeat_op_sq = tf.square((repeat_op - tf.transpose(repeat_op)))\n",
        "        weights = repeat_op_sq / tf.to_float((N - 1) ** 2)\n",
        "    \n",
        "        pred_ = y_pred ** y_pow\n",
        "        try:\n",
        "            pred_norm = pred_ / (eps + tf.reshape(tf.reduce_sum(pred_, 1), [-1, 1]))\n",
        "        except Exception:\n",
        "            pred_norm = pred_ / (eps + tf.reshape(tf.reduce_sum(pred_, 1), [bsize, 1]))\n",
        "    \n",
        "        hist_rater_a = tf.reduce_sum(pred_norm, 0)\n",
        "        hist_rater_b = tf.reduce_sum(y_true, 0)\n",
        "    \n",
        "        conf_mat = tf.matmul(tf.transpose(pred_norm), y_true)\n",
        "    \n",
        "        nom = tf.reduce_sum(weights * conf_mat)\n",
        "        denom = tf.reduce_sum(weights * tf.matmul(\n",
        "            tf.reshape(hist_rater_a, [N, 1]), tf.reshape(hist_rater_b, [1, N])) /\n",
        "                              tf.to_float(bsize))\n",
        "    \n",
        "        return nom*0.5 / (denom + eps) + categorical_crossentropy(y_true, y_pred)*0.5"
      ],
      "execution_count": 0,
      "outputs": []
    },
    {
      "cell_type": "code",
      "metadata": {
        "id": "LAAUbglclAkt",
        "colab_type": "code",
        "colab": {}
      },
      "source": [
        "from keras.callbacks import Callback\n",
        "class QWKEvaluation(Callback):\n",
        "    def __init__(self, validation_data=(), batch_size=64, interval=1):\n",
        "        super(Callback, self).__init__()\n",
        "\n",
        "        self.interval = interval\n",
        "        self.batch_size = batch_size\n",
        "        self.valid_generator, self.y_val = validation_data\n",
        "        self.history = []\n",
        "\n",
        "    def on_epoch_end(self, epoch, logs={}):\n",
        "        if epoch % self.interval == 0:\n",
        "            y_pred = self.model.predict_generator(generator=self.valid_generator,\n",
        "                                                  steps=np.ceil(float(len(self.y_val)) / float(self.batch_size)),\n",
        "                                                  workers=1, use_multiprocessing=False,\n",
        "                                                  verbose=1)\n",
        "            def flatten(y):\n",
        "                return np.argmax(y, axis=1).reshape(-1)\n",
        "            \n",
        "            score = cohen_kappa_score(flatten(self.y_val),\n",
        "                                      flatten(y_pred),\n",
        "                                      labels=[0,1,2,3,4],\n",
        "                                      weights='quadratic')\n",
        "            print(\"\\n epoch: %d - QWK_score: %.6f \\n\" % (epoch+1, score))\n",
        "            self.history.append(score)\n",
        "            if score >= max(self.history):\n",
        "                print('saving checkpoint: ', score)\n",
        "                self.model.save('kaggle-data/model/Resnet50_qwk-{0:02d}-{1:.4f}.h5'.format(epoch, score))\n",
        "\n",
        "qwk = QWKEvaluation(validation_data=(valid_generator, valid_y),\n",
        "                    batch_size=batch_size, interval=1)"
      ],
      "execution_count": 0,
      "outputs": []
    },
    {
      "cell_type": "code",
      "metadata": {
        "id": "d5da7rwx4weq",
        "colab_type": "code",
        "outputId": "e55fd573-4d5c-4d10-f0b6-0419b4d3b372",
        "colab": {
          "base_uri": "https://localhost:8080/",
          "height": 34
        }
      },
      "source": [
        "train_y.shape"
      ],
      "execution_count": 20,
      "outputs": [
        {
          "output_type": "execute_result",
          "data": {
            "text/plain": [
              "(7785, 5)"
            ]
          },
          "metadata": {
            "tags": []
          },
          "execution_count": 20
        }
      ]
    },
    {
      "cell_type": "code",
      "metadata": {
        "id": "FD-AovJglBXF",
        "colab_type": "code",
        "outputId": "2dd4a8d2-5060-445e-eead-0773603f3f45",
        "colab": {
          "base_uri": "https://localhost:8080/",
          "height": 343
        }
      },
      "source": [
        "# warm up model\n",
        "for layer in model.layers:\n",
        "    layer.trainable = False\n",
        "\n",
        "for i in range(-3,0):\n",
        "    model.layers[i].trainable = True\n",
        "\n",
        "model.compile(\n",
        "    loss='categorical_crossentropy',\n",
        "    optimizer=Adam(1e-3))\n",
        "\n",
        "model.fit_generator(\n",
        "    train_generator,\n",
        "    steps_per_epoch=np.ceil(float(len(train_y)) / float(128)),\n",
        "    epochs=2,\n",
        "    workers=WORKERS, use_multiprocessing=True,\n",
        "    verbose=1,\n",
        "    callbacks=[qwk])"
      ],
      "execution_count": 37,
      "outputs": [
        {
          "output_type": "stream",
          "text": [
            "W0807 07:10:14.158957 139889221781376 deprecation.py:323] From /usr/local/lib/python3.6/dist-packages/tensorflow/python/ops/math_grad.py:1250: add_dispatch_support.<locals>.wrapper (from tensorflow.python.ops.array_ops) is deprecated and will be removed in a future version.\n",
            "Instructions for updating:\n",
            "Use tf.where in 2.0, which has the same broadcast rule as np.where\n"
          ],
          "name": "stderr"
        },
        {
          "output_type": "stream",
          "text": [
            "Epoch 1/2\n",
            "61/61 [==============================] - 115s 2s/step - loss: 1.4098\n",
            "86/86 [==============================] - 27s 315ms/step\n",
            "\n",
            " epoch: 1 - QWK_score: 0.000000 \n",
            "\n",
            "saving checkpoint:  0.0\n",
            "Epoch 2/2\n",
            "61/61 [==============================] - 101s 2s/step - loss: 0.9523\n",
            "86/86 [==============================] - 23s 271ms/step\n",
            "\n",
            " epoch: 2 - QWK_score: 0.000000 \n",
            "\n",
            "saving checkpoint:  0.0\n"
          ],
          "name": "stdout"
        },
        {
          "output_type": "execute_result",
          "data": {
            "text/plain": [
              "<keras.callbacks.History at 0x7f38593e2278>"
            ]
          },
          "metadata": {
            "tags": []
          },
          "execution_count": 37
        }
      ]
    },
    {
      "cell_type": "code",
      "metadata": {
        "id": "nuXpIgx0lEQd",
        "colab_type": "code",
        "outputId": "56e0019f-5f10-439b-f5f5-dd9f31ed45d7",
        "colab": {
          "base_uri": "https://localhost:8080/",
          "height": 1000
        }
      },
      "source": [
        "# train all layers\n",
        "for layer in model.layers:\n",
        "    layer.trainable = True\n",
        "\n",
        "callbacks_list = [checkpoint, csv_logger, reduceLROnPlat, early, qwk]\n",
        "model.compile(\n",
        "    #loss='categorical_crossentropy',\n",
        "             loss=kappa_loss,\n",
        "            optimizer=Adam(lr=1e-4),\n",
        "            metrics=['accuracy'])\n",
        "#, metrics=['accuracy']\n",
        "history = model.fit_generator(\n",
        "    train_mixup,\n",
        "    steps_per_epoch=np.ceil(float(len(train_x)) / float(batch_size)),\n",
        "    validation_data=valid_generator,\n",
        "    validation_steps=np.ceil(float(len(valid_x)) / float(batch_size)),\n",
        "    epochs=epochs,\n",
        "    verbose=1,\n",
        "    workers=1, use_multiprocessing=False,\n",
        "    callbacks=callbacks_list)"
      ],
      "execution_count": 38,
      "outputs": [
        {
          "output_type": "stream",
          "text": [
            "W0807 07:15:17.912383 139889221781376 deprecation.py:323] From <ipython-input-35-6f6a6a702431>:15: to_float (from tensorflow.python.ops.math_ops) is deprecated and will be removed in a future version.\n",
            "Instructions for updating:\n",
            "Use `tf.cast` instead.\n"
          ],
          "name": "stderr"
        },
        {
          "output_type": "stream",
          "text": [
            "Epoch 1/30\n",
            "487/487 [==============================] - 453s 929ms/step - loss: 0.8297 - acc: 0.6514 - val_loss: 0.5054 - val_acc: 0.7533\n",
            "\n",
            "Epoch 00001: val_loss improved from inf to 0.50535, saving model to kaggle-data/model/Resnet50-01-0.7533.h5\n",
            "86/86 [==============================] - 24s 281ms/step\n",
            "\n",
            " epoch: 1 - QWK_score: 0.868773 \n",
            "\n",
            "saving checkpoint:  0.8687732651334247\n",
            "Epoch 2/30\n",
            "487/487 [==============================] - 433s 890ms/step - loss: 0.6417 - acc: 0.7649 - val_loss: 0.4323 - val_acc: 0.7656\n",
            "\n",
            "Epoch 00002: val_loss improved from 0.50535 to 0.43231, saving model to kaggle-data/model/Resnet50-02-0.7656.h5\n",
            "86/86 [==============================] - 22s 256ms/step\n",
            "\n",
            " epoch: 2 - QWK_score: 0.899778 \n",
            "\n",
            "saving checkpoint:  0.8997775819147849\n",
            "Epoch 3/30\n",
            "487/487 [==============================] - 433s 889ms/step - loss: 0.5856 - acc: 0.8102 - val_loss: 0.3191 - val_acc: 0.8413\n",
            "\n",
            "Epoch 00003: val_loss improved from 0.43231 to 0.31908, saving model to kaggle-data/model/Resnet50-03-0.8413.h5\n",
            "86/86 [==============================] - 22s 257ms/step\n",
            "\n",
            " epoch: 3 - QWK_score: 0.928361 \n",
            "\n",
            "saving checkpoint:  0.9283608994076437\n",
            "Epoch 4/30\n",
            "487/487 [==============================] - 433s 889ms/step - loss: 0.4617 - acc: 0.8796 - val_loss: 0.2846 - val_acc: 0.8566\n",
            "\n",
            "Epoch 00004: val_loss improved from 0.31908 to 0.28456, saving model to kaggle-data/model/Resnet50-04-0.8566.h5\n",
            "86/86 [==============================] - 22s 256ms/step\n",
            "\n",
            " epoch: 4 - QWK_score: 0.935962 \n",
            "\n",
            "saving checkpoint:  0.9359617285372577\n",
            "Epoch 5/30\n",
            "487/487 [==============================] - 433s 889ms/step - loss: 0.4424 - acc: 0.8877 - val_loss: 0.3365 - val_acc: 0.8297\n",
            "\n",
            "Epoch 00005: val_loss did not improve from 0.28456\n",
            "86/86 [==============================] - 22s 256ms/step\n",
            "\n",
            " epoch: 5 - QWK_score: 0.923045 \n",
            "\n",
            "Epoch 6/30\n",
            "487/487 [==============================] - 433s 889ms/step - loss: 0.4119 - acc: 0.9049 - val_loss: 0.2637 - val_acc: 0.8595\n",
            "\n",
            "Epoch 00006: val_loss improved from 0.28456 to 0.26367, saving model to kaggle-data/model/Resnet50-06-0.8595.h5\n",
            "86/86 [==============================] - 22s 256ms/step\n",
            "\n",
            " epoch: 6 - QWK_score: 0.931736 \n",
            "\n",
            "Epoch 7/30\n",
            "487/487 [==============================] - 433s 888ms/step - loss: 0.3936 - acc: 0.9184 - val_loss: 0.2967 - val_acc: 0.8610\n",
            "\n",
            "Epoch 00007: val_loss did not improve from 0.26367\n",
            "86/86 [==============================] - 22s 256ms/step\n",
            "\n",
            " epoch: 7 - QWK_score: 0.935480 \n",
            "\n",
            "Epoch 8/30\n",
            "487/487 [==============================] - 433s 889ms/step - loss: 0.3664 - acc: 0.9333 - val_loss: 0.3242 - val_acc: 0.8406\n",
            "\n",
            "Epoch 00008: val_loss did not improve from 0.26367\n",
            "86/86 [==============================] - 22s 255ms/step\n",
            "\n",
            " epoch: 8 - QWK_score: 0.928223 \n",
            "\n",
            "Epoch 9/30\n",
            "487/487 [==============================] - 433s 889ms/step - loss: 0.3877 - acc: 0.9238 - val_loss: 0.2800 - val_acc: 0.8675\n",
            "\n",
            "Epoch 00009: val_loss did not improve from 0.26367\n",
            "86/86 [==============================] - 22s 257ms/step\n",
            "\n",
            " epoch: 9 - QWK_score: 0.933056 \n",
            "\n",
            "Epoch 10/30\n",
            "487/487 [==============================] - 433s 888ms/step - loss: 0.3963 - acc: 0.9240 - val_loss: 0.2605 - val_acc: 0.8705\n",
            "\n",
            "Epoch 00010: val_loss improved from 0.26367 to 0.26052, saving model to kaggle-data/model/Resnet50-10-0.8705.h5\n",
            "86/86 [==============================] - 22s 256ms/step\n",
            "\n",
            " epoch: 10 - QWK_score: 0.935712 \n",
            "\n",
            "Epoch 11/30\n",
            "487/487 [==============================] - 433s 888ms/step - loss: 0.3575 - acc: 0.9370 - val_loss: 0.3423 - val_acc: 0.8370\n",
            "\n",
            "Epoch 00011: val_loss did not improve from 0.26052\n",
            "86/86 [==============================] - 22s 256ms/step\n",
            "\n",
            " epoch: 11 - QWK_score: 0.919071 \n",
            "\n",
            "Epoch 12/30\n",
            "487/487 [==============================] - 433s 889ms/step - loss: 0.3359 - acc: 0.9412 - val_loss: 0.2962 - val_acc: 0.8595\n",
            "\n",
            "Epoch 00012: val_loss did not improve from 0.26052\n",
            "86/86 [==============================] - 22s 256ms/step\n",
            "\n",
            " epoch: 12 - QWK_score: 0.930430 \n",
            "\n",
            "Epoch 13/30\n",
            "487/487 [==============================] - 432s 888ms/step - loss: 0.3603 - acc: 0.9418 - val_loss: 0.2831 - val_acc: 0.8777\n",
            "\n",
            "Epoch 00013: val_loss did not improve from 0.26052\n",
            "86/86 [==============================] - 22s 257ms/step\n",
            "\n",
            " epoch: 13 - QWK_score: 0.933428 \n",
            "\n",
            "Epoch 14/30\n",
            "487/487 [==============================] - 433s 889ms/step - loss: 0.3679 - acc: 0.9406 - val_loss: 0.2781 - val_acc: 0.8712\n",
            "\n",
            "Epoch 00014: val_loss did not improve from 0.26052\n",
            "\n",
            "Epoch 00014: ReduceLROnPlateau reducing learning rate to 4.999999873689376e-05.\n",
            "86/86 [==============================] - 22s 257ms/step\n",
            "\n",
            " epoch: 14 - QWK_score: 0.936500 \n",
            "\n",
            "saving checkpoint:  0.9364996403578943\n",
            "Epoch 15/30\n",
            "487/487 [==============================] - 433s 889ms/step - loss: 0.3172 - acc: 0.9532 - val_loss: 0.2055 - val_acc: 0.9083\n",
            "\n",
            "Epoch 00015: val_loss improved from 0.26052 to 0.20546, saving model to kaggle-data/model/Resnet50-15-0.9083.h5\n",
            "86/86 [==============================] - 22s 257ms/step\n",
            "\n",
            " epoch: 15 - QWK_score: 0.962133 \n",
            "\n",
            "saving checkpoint:  0.9621327992610166\n",
            "Epoch 16/30\n",
            "487/487 [==============================] - 433s 889ms/step - loss: 0.3399 - acc: 0.9546 - val_loss: 0.2052 - val_acc: 0.9090\n",
            "\n",
            "Epoch 00016: val_loss improved from 0.20546 to 0.20524, saving model to kaggle-data/model/Resnet50-16-0.9090.h5\n",
            "86/86 [==============================] - 22s 256ms/step\n",
            "\n",
            " epoch: 16 - QWK_score: 0.951664 \n",
            "\n",
            "Epoch 17/30\n",
            "487/487 [==============================] - 433s 889ms/step - loss: 0.3102 - acc: 0.9596 - val_loss: 0.2169 - val_acc: 0.8996\n",
            "\n",
            "Epoch 00017: val_loss did not improve from 0.20524\n",
            "86/86 [==============================] - 22s 256ms/step\n",
            "\n",
            " epoch: 17 - QWK_score: 0.950417 \n",
            "\n",
            "Epoch 18/30\n",
            "487/487 [==============================] - 433s 889ms/step - loss: 0.3488 - acc: 0.9494 - val_loss: 0.2089 - val_acc: 0.9032\n",
            "\n",
            "Epoch 00018: val_loss did not improve from 0.20524\n",
            "86/86 [==============================] - 22s 257ms/step\n",
            "\n",
            " epoch: 18 - QWK_score: 0.955292 \n",
            "\n",
            "Epoch 19/30\n",
            "487/487 [==============================] - 434s 892ms/step - loss: 0.3328 - acc: 0.9598 - val_loss: 0.2340 - val_acc: 0.8908\n",
            "\n",
            "Epoch 00019: val_loss did not improve from 0.20524\n",
            "86/86 [==============================] - 22s 257ms/step\n",
            "\n",
            " epoch: 19 - QWK_score: 0.950345 \n",
            "\n",
            "Epoch 20/30\n",
            "487/487 [==============================] - 435s 893ms/step - loss: 0.3295 - acc: 0.9551 - val_loss: 0.2059 - val_acc: 0.9098\n",
            "\n",
            "Epoch 00020: val_loss did not improve from 0.20524\n",
            "\n",
            "Epoch 00020: ReduceLROnPlateau reducing learning rate to 2.499999936844688e-05.\n",
            "86/86 [==============================] - 22s 257ms/step\n",
            "\n",
            " epoch: 20 - QWK_score: 0.956439 \n",
            "\n",
            "Epoch 21/30\n",
            "487/487 [==============================] - 435s 894ms/step - loss: 0.3197 - acc: 0.9555 - val_loss: 0.2035 - val_acc: 0.9083\n",
            "\n",
            "Epoch 00021: val_loss improved from 0.20524 to 0.20355, saving model to kaggle-data/model/Resnet50-21-0.9083.h5\n",
            "86/86 [==============================] - 22s 257ms/step\n",
            "\n",
            " epoch: 21 - QWK_score: 0.955936 \n",
            "\n",
            "Epoch 22/30\n",
            "487/487 [==============================] - 435s 893ms/step - loss: 0.3190 - acc: 0.9614 - val_loss: 0.2001 - val_acc: 0.9039\n",
            "\n",
            "Epoch 00022: val_loss improved from 0.20355 to 0.20006, saving model to kaggle-data/model/Resnet50-22-0.9039.h5\n",
            "86/86 [==============================] - 22s 257ms/step\n",
            "\n",
            " epoch: 22 - QWK_score: 0.959368 \n",
            "\n",
            "Epoch 23/30\n",
            "487/487 [==============================] - 435s 894ms/step - loss: 0.3148 - acc: 0.9666 - val_loss: 0.2018 - val_acc: 0.9112\n",
            "\n",
            "Epoch 00023: val_loss did not improve from 0.20006\n",
            "86/86 [==============================] - 22s 257ms/step\n",
            "\n",
            " epoch: 23 - QWK_score: 0.957550 \n",
            "\n",
            "Epoch 24/30\n",
            "487/487 [==============================] - 435s 894ms/step - loss: 0.3181 - acc: 0.9645 - val_loss: 0.2370 - val_acc: 0.8930\n",
            "\n",
            "Epoch 00024: val_loss did not improve from 0.20006\n",
            "86/86 [==============================] - 22s 256ms/step\n",
            "\n",
            " epoch: 24 - QWK_score: 0.948622 \n",
            "\n",
            "Epoch 25/30\n",
            "487/487 [==============================] - 435s 893ms/step - loss: 0.3075 - acc: 0.9614 - val_loss: 0.2087 - val_acc: 0.9054\n",
            "\n",
            "Epoch 00025: val_loss did not improve from 0.20006\n",
            "86/86 [==============================] - 22s 257ms/step\n",
            "\n",
            " epoch: 25 - QWK_score: 0.954241 \n",
            "\n",
            "Epoch 26/30\n",
            "487/487 [==============================] - 435s 893ms/step - loss: 0.3095 - acc: 0.9559 - val_loss: 0.2032 - val_acc: 0.9112\n",
            "\n",
            "Epoch 00026: val_loss did not improve from 0.20006\n",
            "\n",
            "Epoch 00026: ReduceLROnPlateau reducing learning rate to 1.249999968422344e-05.\n",
            "86/86 [==============================] - 22s 257ms/step\n",
            "\n",
            " epoch: 26 - QWK_score: 0.958271 \n",
            "\n",
            "Epoch 27/30\n",
            "487/487 [==============================] - 435s 893ms/step - loss: 0.2899 - acc: 0.9646 - val_loss: 0.1870 - val_acc: 0.9163\n",
            "\n",
            "Epoch 00027: val_loss improved from 0.20006 to 0.18696, saving model to kaggle-data/model/Resnet50-27-0.9163.h5\n",
            "86/86 [==============================] - 22s 257ms/step\n",
            "\n",
            " epoch: 27 - QWK_score: 0.957998 \n",
            "\n",
            "Epoch 28/30\n",
            "487/487 [==============================] - 435s 893ms/step - loss: 0.3130 - acc: 0.9633 - val_loss: 0.1917 - val_acc: 0.9178\n",
            "\n",
            "Epoch 00028: val_loss did not improve from 0.18696\n",
            "86/86 [==============================] - 22s 257ms/step\n",
            "\n",
            " epoch: 28 - QWK_score: 0.963995 \n",
            "\n",
            "saving checkpoint:  0.9639948973995864\n",
            "Epoch 29/30\n",
            "487/487 [==============================] - 435s 893ms/step - loss: 0.3349 - acc: 0.9582 - val_loss: 0.1899 - val_acc: 0.9141\n",
            "\n",
            "Epoch 00029: val_loss did not improve from 0.18696\n",
            "86/86 [==============================] - 22s 257ms/step\n",
            "\n",
            " epoch: 29 - QWK_score: 0.959004 \n",
            "\n",
            "Epoch 30/30\n",
            "487/487 [==============================] - 435s 893ms/step - loss: 0.2990 - acc: 0.9648 - val_loss: 0.1936 - val_acc: 0.9119\n",
            "\n",
            "Epoch 00030: val_loss did not improve from 0.18696\n",
            "86/86 [==============================] - 22s 257ms/step\n",
            "\n",
            " epoch: 30 - QWK_score: 0.960440 \n",
            "\n"
          ],
          "name": "stdout"
        }
      ]
    },
    {
      "cell_type": "code",
      "metadata": {
        "id": "ffmXK6VuBQOQ",
        "colab_type": "code",
        "colab": {}
      },
      "source": [
        "epochs = 30\n",
        "history2 = model.fit_generator(\n",
        "    train_mixup,\n",
        "    steps_per_epoch=np.ceil(float(len(train_x)) / float(batch_size)),\n",
        "    validation_data=valid_generator,\n",
        "    validation_steps=np.ceil(float(len(valid_x)) / float(batch_size)),\n",
        "    epochs=epochs,\n",
        "    initial_epoch=15,\n",
        "    verbose=1,\n",
        "    workers=1, use_multiprocessing=False,\n",
        "    callbacks=callbacks_list)"
      ],
      "execution_count": 0,
      "outputs": []
    },
    {
      "cell_type": "markdown",
      "metadata": {
        "id": "tMsqTdhde-Rf",
        "colab_type": "text"
      },
      "source": [
        "Load the best model"
      ]
    },
    {
      "cell_type": "code",
      "metadata": {
        "id": "ToVr8Rhne9AV",
        "colab_type": "code",
        "colab": {}
      },
      "source": [
        "model.load_"
      ],
      "execution_count": 0,
      "outputs": []
    },
    {
      "cell_type": "markdown",
      "metadata": {
        "id": "otW_Ysujops5",
        "colab_type": "text"
      },
      "source": [
        "# Evaluate Model"
      ]
    },
    {
      "cell_type": "code",
      "metadata": {
        "id": "XBNWJo74oo1f",
        "colab_type": "code",
        "colab": {
          "base_uri": "https://localhost:8080/",
          "height": 68
        },
        "outputId": "6c186d02-d8b4-40d3-ff12-008d602bc225"
      },
      "source": [
        "model.compile(loss='categorical_crossentropy', optimizer='adam', metrics=['accuracy'])\n",
        "all_scores = []\n",
        "for i, name in tqdm(enumerate(valid_x)):\n",
        "  path = os.path.join('kaggle-data/aug_train_images/', name+'.png')\n",
        "  image = cv2.imread(path)\n",
        "  image = cv2.resize(image, (SIZE, SIZE))\n",
        "\n",
        "  scores = model.evaluate((image[np.newaxis])/255, np.reshape(valid_y[i], (1,5)), verbose=0)\n",
        "  all_scores.append(scores)\n",
        "\n",
        "mean = np.mean(all_scores, axis=0)\n",
        "sd = np.std(all_scores, axis=0)\n",
        "print(\"Loss:    %.2f%% (+/- %.2f%%)\" % (mean[0], sd[0]))\n",
        "print(\"Accuracy:%.2f%% (+/- %.2f%%)\" % (mean[1], sd[1]))"
      ],
      "execution_count": 57,
      "outputs": [
        {
          "output_type": "stream",
          "text": [
            "1374it [01:30, 20.37it/s]"
          ],
          "name": "stderr"
        },
        {
          "output_type": "stream",
          "text": [
            "Loss:    0.20% (+/- 0.80%)\n",
            "Accuracy:0.96% (+/- 0.11%)\n"
          ],
          "name": "stdout"
        },
        {
          "output_type": "stream",
          "text": [
            "\n"
          ],
          "name": "stderr"
        }
      ]
    },
    {
      "cell_type": "code",
      "metadata": {
        "id": "tQIpfz-Hu16b",
        "colab_type": "code",
        "colab": {
          "base_uri": "https://localhost:8080/",
          "height": 34
        },
        "outputId": "d28d00fd-c130-422c-ff77-9e7ec9c02f00"
      },
      "source": [
        "len(qwk.history)\n"
      ],
      "execution_count": 42,
      "outputs": [
        {
          "output_type": "execute_result",
          "data": {
            "text/plain": [
              "32"
            ]
          },
          "metadata": {
            "tags": []
          },
          "execution_count": 42
        }
      ]
    },
    {
      "cell_type": "code",
      "metadata": {
        "id": "4Q0hKyfFlOv1",
        "colab_type": "code",
        "colab": {}
      },
      "source": [
        "def check_model(hist, model):\n",
        "  \n",
        "  #Plot the curves\n",
        "  N = len(hist.history['loss'])\n",
        "\n",
        "  plt.style.use(\"ggplot\")\n",
        "  plt.figure()\n",
        "  plt.plot(np.arange(0, N), hist.history[\"loss\"], label=\"train_loss\")\n",
        "  plt.plot(np.arange(0, N), hist.history[\"val_loss\"], label=\"val_loss\")\n",
        "  \n",
        " \n",
        "  plt.title(\"Training Loss on Dataset\")\n",
        "  plt.xlabel(\"Epoch #\")\n",
        "  plt.ylabel(\"Loss\")\n",
        "  plt.legend(loc=\"lower left\")\n",
        "  \n",
        "  plt.figure()\n",
        "  plt.plot(np.arange(0, N), hist.history[\"acc\"], label=\"train_acc\")\n",
        "  plt.plot(np.arange(0, N), hist.history[\"val_acc\"], label=\"val_acc\")\n",
        "  plt.title(\"Training Accuracy on Dataset\")\n",
        "  plt.xlabel(\"Epoch #\")\n",
        "  plt.ylabel(\"Accuracy\")\n",
        "  plt.legend(loc=\"lower left\")\n",
        "  \n",
        "  plt.figure()\n",
        "  plt.plot(np.arange(0, N+2), qwk.history, label=\"kappa_score\")\n",
        "  plt.title(\"Kappa score on Dataset\")\n",
        "  plt.xlabel(\"Epoch #\")\n",
        "  plt.ylabel(\"kappa\")\n",
        "  plt.legend(loc=\"lower left\")\n",
        "  \n",
        "  plt.style.use(\"ggplot\")\n",
        "  plt.figure()\n",
        "  plt.plot(np.arange(0, N), hist.history[\"lr\"], label=\"learning_rate\")\n",
        " \n",
        "  plt.title(\"Learning Rate on Dataset\")\n",
        "  plt.xlabel(\"Epoch #\")\n",
        "  plt.ylabel(\"LR\")\n",
        "  plt.legend(loc=\"lower left\")\n",
        "  \n",
        "  \n",
        "  #confusion matrix\n",
        "  preds = []\n",
        "  for i, name in tqdm(enumerate(valid_x)):\n",
        "      path = os.path.join('kaggle-data/aug_train_images/', name+'.png')\n",
        "      image = cv2.imread(path)\n",
        "  #     print(str(path))\n",
        "      image = cv2.resize(image, (SIZE, SIZE))\n",
        "      score_predict = model.predict((image[np.newaxis])/255)\n",
        "      label_predict = np.argmax(score_predict)\n",
        "      preds.append(label_predict)\n",
        "\n",
        "  valid_labels = np.argmax(valid_y, axis=-1)\n",
        "  \n",
        "  cm  = confusion_matrix(valid_labels, preds)\n",
        "  plt.figure()\n",
        "  plot_confusion_matrix(cm,figsize=(12,8), hide_ticks=True, cmap=plt.cm.Blues, show_normed=True, show_absolute=False)\n",
        "  plt.show()"
      ],
      "execution_count": 0,
      "outputs": []
    },
    {
      "cell_type": "code",
      "metadata": {
        "id": "vPoKJkLQkp9b",
        "colab_type": "code",
        "colab": {}
      },
      "source": [
        "model1 = create_model(\n",
        "    input_shape=(SIZE,SIZE,3), \n",
        "    n_out=NUM_CLASSES)\n",
        "model1.load_weights('kaggle-data/model/Resnet50-12-0.8916.h5')"
      ],
      "execution_count": 0,
      "outputs": []
    },
    {
      "cell_type": "code",
      "metadata": {
        "id": "qo48G_dEoSyD",
        "colab_type": "code",
        "colab": {
          "base_uri": "https://localhost:8080/",
          "height": 1000
        },
        "outputId": "b80809b9-c958-4f91-d5ec-ea9cdb05515c"
      },
      "source": [
        "check_model(history, model)"
      ],
      "execution_count": 40,
      "outputs": [
        {
          "output_type": "stream",
          "text": [
            "1374it [00:53, 25.45it/s]\n"
          ],
          "name": "stderr"
        },
        {
          "output_type": "display_data",
          "data": {
            "image/png": "[encoded data removed]",
            "text/plain": [
              "<Figure size 432x288 with 1 Axes>"
            ]
          },
          "metadata": {
            "tags": []
          }
        },
        {
          "output_type": "display_data",
          "data": {
            "image/png": "[encoded data removed]",
            "text/plain": [
              "<Figure size 432x288 with 1 Axes>"
            ]
          },
          "metadata": {
            "tags": []
          }
        },
        {
          "output_type": "display_data",
          "data": {
            "text/plain": [
              "<Figure size 432x288 with 0 Axes>"
            ]
          },
          "metadata": {
            "tags": []
          }
        },
        {
          "output_type": "display_data",
          "data": {
            "image/png": "[encoded data removed]",
            "text/plain": [
              "<Figure size 864x576 with 1 Axes>"
            ]
          },
          "metadata": {
            "tags": []
          }
        }
      ]
    },
    {
      "cell_type": "code",
      "metadata": {
        "id": "wDjAw-x4wehg",
        "colab_type": "code",
        "colab": {
          "base_uri": "https://localhost:8080/",
          "height": 316
        },
        "outputId": "6e9a15d9-180a-4f2e-dfb3-1940b1b336ea"
      },
      "source": [
        "  plt.figure()\n",
        "  N = len(qwk.history)\n",
        "  plt.plot(np.arange(0, N-2), qwk.history[2:], label=\"kappa_score\")\n",
        "  plt.title(\"Kappa score on Dataset\")\n",
        "  plt.xlabel(\"Epoch #\")\n",
        "  plt.ylabel(\"kappa\")\n",
        "  plt.legend(loc=\"lower left\")"
      ],
      "execution_count": 45,
      "outputs": [
        {
          "output_type": "execute_result",
          "data": {
            "text/plain": [
              "<matplotlib.legend.Legend at 0x7f385aca4cf8>"
            ]
          },
          "metadata": {
            "tags": []
          },
          "execution_count": 45
        },
        {
          "output_type": "display_data",
          "data": {
            "image/png": "[encoded data removed]",
            "text/plain": [
              "<Figure size 432x288 with 1 Axes>"
            ]
          },
          "metadata": {
            "tags": []
          }
        }
      ]
    },
    {
      "cell_type": "code",
      "metadata": {
        "id": "3C_arBxzc-xS",
        "colab_type": "code",
        "colab": {
          "base_uri": "https://localhost:8080/",
          "height": 1000
        },
        "outputId": "341e48ce-9d03-4a85-8e3b-5c1f6752101f"
      },
      "source": [
        "check_model(history2, model)"
      ],
      "execution_count": 66,
      "outputs": [
        {
          "output_type": "stream",
          "text": [
            "1374it [01:07, 20.37it/s]\n"
          ],
          "name": "stderr"
        },
        {
          "output_type": "display_data",
          "data": {
            "image/png": "[encoded data removed]",
            "text/plain": [
              "<Figure size 432x288 with 1 Axes>"
            ]
          },
          "metadata": {
            "tags": []
          }
        },
        {
          "output_type": "display_data",
          "data": {
            "image/png": "[encoded data removed]",
            "text/plain": [
              "<Figure size 432x288 with 1 Axes>"
            ]
          },
          "metadata": {
            "tags": []
          }
        },
        {
          "output_type": "display_data",
          "data": {
            "text/plain": [
              "<Figure size 432x288 with 0 Axes>"
            ]
          },
          "metadata": {
            "tags": []
          }
        },
        {
          "output_type": "display_data",
          "data": {
            "image/png": "[encoded data removed]",
            "text/plain": [
              "<Figure size 864x576 with 1 Axes>"
            ]
          },
          "metadata": {
            "tags": []
          }
        }
      ]
    },
    {
      "cell_type": "markdown",
      "metadata": {
        "id": "0CLLokszc6Db",
        "colab_type": "text"
      },
      "source": [
        "# Save Model"
      ]
    },
    {
      "cell_type": "code",
      "metadata": {
        "id": "Pb014KlMdBNO",
        "colab_type": "code",
        "colab": {
          "base_uri": "https://localhost:8080/",
          "height": 34
        },
        "outputId": "d1ee5903-da69-440d-9d75-c83f6f359e45"
      },
      "source": [
        "%cd kaggle-data/model"
      ],
      "execution_count": 46,
      "outputs": [
        {
          "output_type": "stream",
          "text": [
            "/content/kaggle-data/model\n"
          ],
          "name": "stdout"
        }
      ]
    },
    {
      "cell_type": "code",
      "metadata": {
        "id": "-lGtLUhAcsEt",
        "colab_type": "code",
        "colab": {
          "base_uri": "https://localhost:8080/",
          "height": 34
        },
        "outputId": "a86cb638-a2a3-424a-9c14-ec825f596f82"
      },
      "source": [
        "!zip resnet50_aug_mix.zip Resnet50-27-0.9163.h5\n",
        "!cp resnet50_aug_mix.zip /content/gdrive/My\\ Drive/Colab\\ Notebooks/"
      ],
      "execution_count": 48,
      "outputs": [
        {
          "output_type": "stream",
          "text": [
            "  adding: Resnet50-27-0.9163.h5 (deflated 8%)\n"
          ],
          "name": "stdout"
        }
      ]
    },
    {
      "cell_type": "code",
      "metadata": {
        "id": "hyot1IM1dYNt",
        "colab_type": "code",
        "colab": {
          "base_uri": "https://localhost:8080/",
          "height": 34
        },
        "outputId": "ba3c230f-6cfe-4f50-f364-1259b252d675"
      },
      "source": [
        "%cd ../../"
      ],
      "execution_count": 41,
      "outputs": [
        {
          "output_type": "stream",
          "text": [
            "/content\n"
          ],
          "name": "stdout"
        }
      ]
    },
    {
      "cell_type": "markdown",
      "metadata": {
        "id": "F7m-oUOBoL4N",
        "colab_type": "text"
      },
      "source": [
        "# Compare models"
      ]
    },
    {
      "cell_type": "code",
      "metadata": {
        "id": "L72_8DcboLLz",
        "colab_type": "code",
        "colab": {
          "base_uri": "https://localhost:8080/",
          "height": 68
        },
        "outputId": "a66d80b8-41ef-427c-d256-cd743c1f0a4e"
      },
      "source": [
        "!cp /content/gdrive/My\\ Drive/Colab\\ Notebooks/resnet50_aug3.zip .\n",
        "!mkdir resnet50_aug3\n",
        "!unzip resnet50_aug3.zip -d resnet50_aug3"
      ],
      "execution_count": 8,
      "outputs": [
        {
          "output_type": "stream",
          "text": [
            "Archive:  resnet50_aug3.zip\n",
            "  inflating: resnet50_aug3/Resnet50-09-0.8952.h5  \n",
            "  inflating: resnet50_aug3/Resnet50_qwk-23-0.9533.h5  \n"
          ],
          "name": "stdout"
        }
      ]
    },
    {
      "cell_type": "code",
      "metadata": {
        "id": "E_2e9rE-qM8a",
        "colab_type": "code",
        "colab": {
          "base_uri": "https://localhost:8080/",
          "height": 51
        },
        "outputId": "e7c7e4d8-cfd8-4a8f-d6fe-d163adc62bdf"
      },
      "source": [
        "!cp /content/gdrive/My\\ Drive/Colab\\ Notebooks/resnet50_aug4.zip .\n",
        "!mkdir resnet50_aug4\n",
        "!unzip resnet50_aug4.zip -d resnet50_aug4"
      ],
      "execution_count": 9,
      "outputs": [
        {
          "output_type": "stream",
          "text": [
            "Archive:  resnet50_aug4.zip\n",
            "  inflating: resnet50_aug4/Resnet50_qwk-29-0.9558.h5  \n"
          ],
          "name": "stdout"
        }
      ]
    },
    {
      "cell_type": "code",
      "metadata": {
        "id": "2bwNb4o0t_3z",
        "colab_type": "code",
        "colab": {}
      },
      "source": [
        "def preprocess_image(img):\n",
        "  \n",
        "  if img.shape[2] ==1:\n",
        "    img = np.dstack([img, img, img])\n",
        "\n",
        "  img1 = cv2.cvtColor(img, cv2.COLOR_BGR2GRAY)\n",
        "\n",
        "  ret, img2 = cv2.threshold(img1, 10, 255, cv2.THRESH_BINARY)\n",
        "  points = np.argwhere(img2!=0)\n",
        "  points = np.fliplr(points)\n",
        "  x, y, w, h = cv2.boundingRect(points)\n",
        "\n",
        "  color_cropped = img[y:y+h, x:x+w]\n",
        "\n",
        "  clahe = cv2.createCLAHE(clipLimit=4.0)\n",
        "\n",
        "  lab = cv2.cvtColor(color_cropped, cv2.COLOR_BGR2LAB)\n",
        "  lab_planes = cv2.split(lab)\n",
        "  lab_planes[0] = clahe.apply(lab_planes[0])\n",
        "  lab_planes[1] = clahe.apply(lab_planes[1])\n",
        "  lab_planes[2] = clahe.apply(lab_planes[2])\n",
        "  \n",
        "  out = cv2.merge(lab_planes)\n",
        "  img3 = cv2.cvtColor(out, cv2.COLOR_LAB2BGR)\n",
        "  \n",
        "  img = cv2.resize(img3, (SIZE,SIZE), cv2.INTER_AREA)\n",
        "  \n",
        "#   img = img.astype(np.float32)/255\n",
        "  \n",
        "  return img"
      ],
      "execution_count": 0,
      "outputs": []
    },
    {
      "cell_type": "code",
      "metadata": {
        "id": "GfByqVUzs2lP",
        "colab_type": "code",
        "colab": {}
      },
      "source": [
        "train, val = train_test_split(df_train, test_size=0.4)\n",
        "train_data = train"
      ],
      "execution_count": 0,
      "outputs": []
    },
    {
      "cell_type": "code",
      "metadata": {
        "id": "y2haSmVTtdPm",
        "colab_type": "code",
        "colab": {
          "base_uri": "https://localhost:8080/",
          "height": 204
        },
        "outputId": "6cbe5656-a743-4d46-ead1-f1da62b5d750"
      },
      "source": [
        "train.head()"
      ],
      "execution_count": 12,
      "outputs": [
        {
          "output_type": "execute_result",
          "data": {
            "text/html": [
              "<div>\n",
              "<style scoped>\n",
              "    .dataframe tbody tr th:only-of-type {\n",
              "        vertical-align: middle;\n",
              "    }\n",
              "\n",
              "    .dataframe tbody tr th {\n",
              "        vertical-align: top;\n",
              "    }\n",
              "\n",
              "    .dataframe thead th {\n",
              "        text-align: right;\n",
              "    }\n",
              "</style>\n",
              "<table border=\"1\" class=\"dataframe\">\n",
              "  <thead>\n",
              "    <tr style=\"text-align: right;\">\n",
              "      <th></th>\n",
              "      <th>id_code</th>\n",
              "      <th>diagnosis</th>\n",
              "    </tr>\n",
              "  </thead>\n",
              "  <tbody>\n",
              "    <tr>\n",
              "      <th>7906</th>\n",
              "      <td>d9e58e4d8689</td>\n",
              "      <td>0</td>\n",
              "    </tr>\n",
              "    <tr>\n",
              "      <th>5884</th>\n",
              "      <td>a2ddabee14e9</td>\n",
              "      <td>4</td>\n",
              "    </tr>\n",
              "    <tr>\n",
              "      <th>191</th>\n",
              "      <td>05a5183c92d0_0</td>\n",
              "      <td>1</td>\n",
              "    </tr>\n",
              "    <tr>\n",
              "      <th>7120</th>\n",
              "      <td>c3cd0200df79_1</td>\n",
              "      <td>3</td>\n",
              "    </tr>\n",
              "    <tr>\n",
              "      <th>7202</th>\n",
              "      <td>c613db1cab27</td>\n",
              "      <td>2</td>\n",
              "    </tr>\n",
              "  </tbody>\n",
              "</table>\n",
              "</div>"
            ],
            "text/plain": [
              "             id_code  diagnosis\n",
              "7906    d9e58e4d8689          0\n",
              "5884    a2ddabee14e9          4\n",
              "191   05a5183c92d0_0          1\n",
              "7120  c3cd0200df79_1          3\n",
              "7202    c613db1cab27          2"
            ]
          },
          "metadata": {
            "tags": []
          },
          "execution_count": 12
        }
      ]
    },
    {
      "cell_type": "code",
      "metadata": {
        "id": "ZhyT0alWqUiV",
        "colab_type": "code",
        "colab": {
          "base_uri": "https://localhost:8080/",
          "height": 377
        },
        "outputId": "e0508362-5625-43f6-e009-46128f0aefdc"
      },
      "source": [
        "model1 = create_model(\n",
        "    input_shape=(SIZE,SIZE,3), \n",
        "    n_out=NUM_CLASSES,\n",
        "    model_weights=\"resnet50_aug3/Resnet50-09-0.8952.h5\")\n",
        "model1.compile(loss='categorical_crossentropy', metrics=['accuracy'],optimizer=Adam(1e-3))\n",
        "\n",
        "model2 = create_model(\n",
        "    input_shape=(SIZE,SIZE,3), \n",
        "    n_out=NUM_CLASSES,\n",
        "    model_weights='resnet50_aug4/Resnet50_qwk-29-0.9558.h5')\n",
        "model2.compile(loss='categorical_crossentropy', metrics=['accuracy'],optimizer=Adam(1e-3))"
      ],
      "execution_count": 13,
      "outputs": [
        {
          "output_type": "stream",
          "text": [
            "WARNING: Logging before flag parsing goes to stderr.\n",
            "W0807 06:26:48.074534 139889221781376 deprecation_wrapper.py:119] From /usr/local/lib/python3.6/dist-packages/keras/backend/tensorflow_backend.py:74: The name tf.get_default_graph is deprecated. Please use tf.compat.v1.get_default_graph instead.\n",
            "\n",
            "W0807 06:26:48.142511 139889221781376 deprecation_wrapper.py:119] From /usr/local/lib/python3.6/dist-packages/keras/backend/tensorflow_backend.py:517: The name tf.placeholder is deprecated. Please use tf.compat.v1.placeholder instead.\n",
            "\n",
            "W0807 06:26:48.170713 139889221781376 deprecation_wrapper.py:119] From /usr/local/lib/python3.6/dist-packages/keras/backend/tensorflow_backend.py:4185: The name tf.truncated_normal is deprecated. Please use tf.random.truncated_normal instead.\n",
            "\n",
            "W0807 06:26:48.221229 139889221781376 deprecation_wrapper.py:119] From /usr/local/lib/python3.6/dist-packages/keras/backend/tensorflow_backend.py:174: The name tf.get_default_session is deprecated. Please use tf.compat.v1.get_default_session instead.\n",
            "\n",
            "W0807 06:26:48.222414 139889221781376 deprecation_wrapper.py:119] From /usr/local/lib/python3.6/dist-packages/keras/backend/tensorflow_backend.py:181: The name tf.ConfigProto is deprecated. Please use tf.compat.v1.ConfigProto instead.\n",
            "\n",
            "W0807 06:26:51.342936 139889221781376 deprecation_wrapper.py:119] From /usr/local/lib/python3.6/dist-packages/keras/backend/tensorflow_backend.py:1834: The name tf.nn.fused_batch_norm is deprecated. Please use tf.compat.v1.nn.fused_batch_norm instead.\n",
            "\n",
            "W0807 06:26:51.435522 139889221781376 deprecation_wrapper.py:119] From /usr/local/lib/python3.6/dist-packages/keras/backend/tensorflow_backend.py:3976: The name tf.nn.max_pool is deprecated. Please use tf.nn.max_pool2d instead.\n",
            "\n",
            "W0807 06:26:57.459065 139889221781376 deprecation.py:506] From /usr/local/lib/python3.6/dist-packages/keras/backend/tensorflow_backend.py:3445: calling dropout (from tensorflow.python.ops.nn_ops) with keep_prob is deprecated and will be removed in a future version.\n",
            "Instructions for updating:\n",
            "Please use `rate` instead of `keep_prob`. Rate should be set to `rate = 1 - keep_prob`.\n",
            "W0807 06:27:00.936355 139889221781376 deprecation_wrapper.py:119] From /usr/local/lib/python3.6/dist-packages/keras/optimizers.py:790: The name tf.train.Optimizer is deprecated. Please use tf.compat.v1.train.Optimizer instead.\n",
            "\n"
          ],
          "name": "stderr"
        }
      ]
    },
    {
      "cell_type": "code",
      "metadata": {
        "id": "WfwsRMPGtFHB",
        "colab_type": "code",
        "colab": {}
      },
      "source": [
        "#Evaluate with train data itself\n",
        "train_img = []\n",
        "train_labels = []\n",
        "\n",
        "for idx, row in train_data.iterrows():\n",
        "    path = 'kaggle-data/aug_train_images/' + row['id_code']+'.png'\n",
        "    img = cv2.imread(path)\n",
        "    img = preprocess_image(img)\n",
        "\n",
        "    label = to_categorical(int(row['diagnosis']), num_classes=5)\n",
        "    train_img.append(img)\n",
        "    train_labels.append(label)\n",
        "    \n",
        "train_img = np.array(train_img)\n",
        "train_labels = np.array(train_labels)"
      ],
      "execution_count": 0,
      "outputs": []
    },
    {
      "cell_type": "markdown",
      "metadata": {
        "id": "tyc0rQEUvjn4",
        "colab_type": "text"
      },
      "source": [
        "## Evaluate First Model"
      ]
    },
    {
      "cell_type": "code",
      "metadata": {
        "id": "HIe-z7Btsh9D",
        "colab_type": "code",
        "colab": {
          "base_uri": "https://localhost:8080/",
          "height": 68
        },
        "outputId": "650ff3ab-6545-404a-cbb7-4d58d939700f"
      },
      "source": [
        "eval_loss1, eval_score1 = model1.evaluate(train_img, train_labels, batch_size=16)\n",
        "print(\"Loss on test set: \", eval_loss1)\n",
        "print(\"Accuracy on test set: \", eval_score1)"
      ],
      "execution_count": 15,
      "outputs": [
        {
          "output_type": "stream",
          "text": [
            "5495/5495 [==============================] - 96s 18ms/step\n",
            "Loss on test set:  7.650551852624561\n",
            "Accuracy on test set:  0.2043676069316482\n"
          ],
          "name": "stdout"
        }
      ]
    },
    {
      "cell_type": "code",
      "metadata": {
        "id": "IRQlUWtRzv1_",
        "colab_type": "code",
        "colab": {}
      },
      "source": [
        "#Evaluate with train data itself\n",
        "predicted1 = []\n",
        "# train_labels = []\n",
        "\n",
        "for idx, row in train_data.iterrows():\n",
        "    path = 'kaggle-data/aug_train_images/' + row['id_code']+'.png'\n",
        "    img = cv2.imread(path)\n",
        "    img = preprocess_image(img)\n",
        "\n",
        "    label = to_categorical(int(row['diagnosis']), num_classes=5)\n",
        "    score_predict = model1.predict((img[np.newaxis])/255)\n",
        "    label_predict = np.argmax(score_predict)\n",
        "    predicted1.append(str(label_predict))\n",
        "    "
      ],
      "execution_count": 0,
      "outputs": []
    },
    {
      "cell_type": "code",
      "metadata": {
        "id": "SyqhSVYU2J_C",
        "colab_type": "code",
        "colab": {
          "base_uri": "https://localhost:8080/",
          "height": 394
        },
        "outputId": "8842792d-2408-4f7e-aa1c-4dddd2755a22"
      },
      "source": [
        "cm  = confusion_matrix(orig_train_labels, predicted1)\n",
        "plt.figure()\n",
        "plot_confusion_matrix(cm,figsize=(12,8), hide_ticks=True, cmap=plt.cm.Blues, show_normed=True, show_absolute=False)\n",
        "#plt.xticks(range(5), ['0', '1', '2', '3', '4'], fontsize=16)\n",
        "#plt.yticks(range(5), ['0', '1', '2', '3', '4'], fontsize=16)\n",
        "plt.show()"
      ],
      "execution_count": 24,
      "outputs": [
        {
          "output_type": "error",
          "ename": "ValueError",
          "evalue": "ignored",
          "traceback": [
            "\u001b[0;31m---------------------------------------------------------------------------\u001b[0m",
            "\u001b[0;31mValueError\u001b[0m                                Traceback (most recent call last)",
            "\u001b[0;32m<ipython-input-24-f298a386d8e8>\u001b[0m in \u001b[0;36m<module>\u001b[0;34m()\u001b[0m\n\u001b[0;32m----> 1\u001b[0;31m \u001b[0mcm\u001b[0m  \u001b[0;34m=\u001b[0m \u001b[0mconfusion_matrix\u001b[0m\u001b[0;34m(\u001b[0m\u001b[0morig_train_labels\u001b[0m\u001b[0;34m,\u001b[0m \u001b[0mpredicted1\u001b[0m\u001b[0;34m)\u001b[0m\u001b[0;34m\u001b[0m\u001b[0;34m\u001b[0m\u001b[0m\n\u001b[0m\u001b[1;32m      2\u001b[0m \u001b[0mplt\u001b[0m\u001b[0;34m.\u001b[0m\u001b[0mfigure\u001b[0m\u001b[0;34m(\u001b[0m\u001b[0;34m)\u001b[0m\u001b[0;34m\u001b[0m\u001b[0;34m\u001b[0m\u001b[0m\n\u001b[1;32m      3\u001b[0m \u001b[0mplot_confusion_matrix\u001b[0m\u001b[0;34m(\u001b[0m\u001b[0mcm\u001b[0m\u001b[0;34m,\u001b[0m\u001b[0mfigsize\u001b[0m\u001b[0;34m=\u001b[0m\u001b[0;34m(\u001b[0m\u001b[0;36m12\u001b[0m\u001b[0;34m,\u001b[0m\u001b[0;36m8\u001b[0m\u001b[0;34m)\u001b[0m\u001b[0;34m,\u001b[0m \u001b[0mhide_ticks\u001b[0m\u001b[0;34m=\u001b[0m\u001b[0;32mTrue\u001b[0m\u001b[0;34m,\u001b[0m \u001b[0mcmap\u001b[0m\u001b[0;34m=\u001b[0m\u001b[0mplt\u001b[0m\u001b[0;34m.\u001b[0m\u001b[0mcm\u001b[0m\u001b[0;34m.\u001b[0m\u001b[0mBlues\u001b[0m\u001b[0;34m,\u001b[0m \u001b[0mshow_normed\u001b[0m\u001b[0;34m=\u001b[0m\u001b[0;32mTrue\u001b[0m\u001b[0;34m,\u001b[0m \u001b[0mshow_absolute\u001b[0m\u001b[0;34m=\u001b[0m\u001b[0;32mFalse\u001b[0m\u001b[0;34m)\u001b[0m\u001b[0;34m\u001b[0m\u001b[0;34m\u001b[0m\u001b[0m\n\u001b[1;32m      4\u001b[0m \u001b[0;31m#plt.xticks(range(5), ['0', '1', '2', '3', '4'], fontsize=16)\u001b[0m\u001b[0;34m\u001b[0m\u001b[0;34m\u001b[0m\u001b[0;34m\u001b[0m\u001b[0m\n\u001b[1;32m      5\u001b[0m \u001b[0;31m#plt.yticks(range(5), ['0', '1', '2', '3', '4'], fontsize=16)\u001b[0m\u001b[0;34m\u001b[0m\u001b[0;34m\u001b[0m\u001b[0;34m\u001b[0m\u001b[0m\n",
            "\u001b[0;32m/usr/local/lib/python3.6/dist-packages/sklearn/metrics/classification.py\u001b[0m in \u001b[0;36mconfusion_matrix\u001b[0;34m(y_true, y_pred, labels, sample_weight)\u001b[0m\n\u001b[1;32m    256\u001b[0m \u001b[0;34m\u001b[0m\u001b[0m\n\u001b[1;32m    257\u001b[0m     \u001b[0;32mif\u001b[0m \u001b[0mlabels\u001b[0m \u001b[0;32mis\u001b[0m \u001b[0;32mNone\u001b[0m\u001b[0;34m:\u001b[0m\u001b[0;34m\u001b[0m\u001b[0;34m\u001b[0m\u001b[0m\n\u001b[0;32m--> 258\u001b[0;31m         \u001b[0mlabels\u001b[0m \u001b[0;34m=\u001b[0m \u001b[0munique_labels\u001b[0m\u001b[0;34m(\u001b[0m\u001b[0my_true\u001b[0m\u001b[0;34m,\u001b[0m \u001b[0my_pred\u001b[0m\u001b[0;34m)\u001b[0m\u001b[0;34m\u001b[0m\u001b[0;34m\u001b[0m\u001b[0m\n\u001b[0m\u001b[1;32m    259\u001b[0m     \u001b[0;32melse\u001b[0m\u001b[0;34m:\u001b[0m\u001b[0;34m\u001b[0m\u001b[0;34m\u001b[0m\u001b[0m\n\u001b[1;32m    260\u001b[0m         \u001b[0mlabels\u001b[0m \u001b[0;34m=\u001b[0m \u001b[0mnp\u001b[0m\u001b[0;34m.\u001b[0m\u001b[0masarray\u001b[0m\u001b[0;34m(\u001b[0m\u001b[0mlabels\u001b[0m\u001b[0;34m)\u001b[0m\u001b[0;34m\u001b[0m\u001b[0;34m\u001b[0m\u001b[0m\n",
            "\u001b[0;32m/usr/local/lib/python3.6/dist-packages/sklearn/utils/multiclass.py\u001b[0m in \u001b[0;36munique_labels\u001b[0;34m(*ys)\u001b[0m\n\u001b[1;32m     98\u001b[0m     \u001b[0;31m# Check that we don't mix string type with number type\u001b[0m\u001b[0;34m\u001b[0m\u001b[0;34m\u001b[0m\u001b[0;34m\u001b[0m\u001b[0m\n\u001b[1;32m     99\u001b[0m     \u001b[0;32mif\u001b[0m \u001b[0;34m(\u001b[0m\u001b[0mlen\u001b[0m\u001b[0;34m(\u001b[0m\u001b[0mset\u001b[0m\u001b[0;34m(\u001b[0m\u001b[0misinstance\u001b[0m\u001b[0;34m(\u001b[0m\u001b[0mlabel\u001b[0m\u001b[0;34m,\u001b[0m \u001b[0mstr\u001b[0m\u001b[0;34m)\u001b[0m \u001b[0;32mfor\u001b[0m \u001b[0mlabel\u001b[0m \u001b[0;32min\u001b[0m \u001b[0mys_labels\u001b[0m\u001b[0;34m)\u001b[0m\u001b[0;34m)\u001b[0m \u001b[0;34m>\u001b[0m \u001b[0;36m1\u001b[0m\u001b[0;34m)\u001b[0m\u001b[0;34m:\u001b[0m\u001b[0;34m\u001b[0m\u001b[0;34m\u001b[0m\u001b[0m\n\u001b[0;32m--> 100\u001b[0;31m         \u001b[0;32mraise\u001b[0m \u001b[0mValueError\u001b[0m\u001b[0;34m(\u001b[0m\u001b[0;34m\"Mix of label input types (string and number)\"\u001b[0m\u001b[0;34m)\u001b[0m\u001b[0;34m\u001b[0m\u001b[0;34m\u001b[0m\u001b[0m\n\u001b[0m\u001b[1;32m    101\u001b[0m \u001b[0;34m\u001b[0m\u001b[0m\n\u001b[1;32m    102\u001b[0m     \u001b[0;32mreturn\u001b[0m \u001b[0mnp\u001b[0m\u001b[0;34m.\u001b[0m\u001b[0marray\u001b[0m\u001b[0;34m(\u001b[0m\u001b[0msorted\u001b[0m\u001b[0;34m(\u001b[0m\u001b[0mys_labels\u001b[0m\u001b[0;34m)\u001b[0m\u001b[0;34m)\u001b[0m\u001b[0;34m\u001b[0m\u001b[0;34m\u001b[0m\u001b[0m\n",
            "\u001b[0;31mValueError\u001b[0m: Mix of label input types (string and number)"
          ]
        }
      ]
    },
    {
      "cell_type": "code",
      "metadata": {
        "id": "Qb752DDh2J1l",
        "colab_type": "code",
        "colab": {}
      },
      "source": [
        ""
      ],
      "execution_count": 0,
      "outputs": []
    },
    {
      "cell_type": "markdown",
      "metadata": {
        "id": "Vey0luC82Jhg",
        "colab_type": "text"
      },
      "source": [
        ""
      ]
    },
    {
      "cell_type": "code",
      "metadata": {
        "id": "K7usmfR9uO7y",
        "colab_type": "code",
        "colab": {}
      },
      "source": [
        "preds1 = model1.predict(train_img, batch_size=16)\n",
        "preds1 = np.argmax(preds1, axis=-1)\n",
        "\n",
        "# Original labels\n",
        "orig_train_labels = np.argmax(train_labels, axis=-1)"
      ],
      "execution_count": 0,
      "outputs": []
    },
    {
      "cell_type": "markdown",
      "metadata": {
        "id": "1PveK-5LvsQX",
        "colab_type": "text"
      },
      "source": [
        "## Confusion Matrix"
      ]
    },
    {
      "cell_type": "code",
      "metadata": {
        "id": "54PF9oIOve4h",
        "colab_type": "code",
        "colab": {
          "base_uri": "https://localhost:8080/",
          "height": 500
        },
        "outputId": "455627b7-9051-4693-eb32-15dbda75d83f"
      },
      "source": [
        "cm  = confusion_matrix(orig_train_labels, preds1)\n",
        "plt.figure()\n",
        "plot_confusion_matrix(cm,figsize=(12,8), hide_ticks=True, cmap=plt.cm.Blues, show_normed=True, show_absolute=False)\n",
        "#plt.xticks(range(5), ['0', '1', '2', '3', '4'], fontsize=16)\n",
        "#plt.yticks(range(5), ['0', '1', '2', '3', '4'], fontsize=16)\n",
        "plt.show()"
      ],
      "execution_count": 17,
      "outputs": [
        {
          "output_type": "display_data",
          "data": {
            "text/plain": [
              "<Figure size 432x288 with 0 Axes>"
            ]
          },
          "metadata": {
            "tags": []
          }
        },
        {
          "output_type": "display_data",
          "data": {
            "image/png": "[encoded data removed]",
            "text/plain": [
              "<Figure size 864x576 with 1 Axes>"
            ]
          },
          "metadata": {
            "tags": []
          }
        }
      ]
    },
    {
      "cell_type": "markdown",
      "metadata": {
        "id": "hX-Ea23Nv0aI",
        "colab_type": "text"
      },
      "source": [
        "## Evaluate second Model"
      ]
    },
    {
      "cell_type": "code",
      "metadata": {
        "id": "gKXTtjMbvz_I",
        "colab_type": "code",
        "colab": {
          "base_uri": "https://localhost:8080/",
          "height": 68
        },
        "outputId": "f81d1219-7fd2-4027-e443-5341df7c6bdc"
      },
      "source": [
        "eval_loss2, eval_score2 = model2.evaluate(train_img, train_labels, batch_size=16)\n",
        "print(\"Loss on test set: \", eval_loss2)\n",
        "print(\"Accuracy on test set: \", eval_score2)"
      ],
      "execution_count": 18,
      "outputs": [
        {
          "output_type": "stream",
          "text": [
            "5495/5495 [==============================] - 91s 17ms/step\n",
            "Loss on test set:  7.940974250460235\n",
            "Accuracy on test set:  0.26223839856040165\n"
          ],
          "name": "stdout"
        }
      ]
    },
    {
      "cell_type": "code",
      "metadata": {
        "id": "elM0nq-lv-He",
        "colab_type": "code",
        "colab": {}
      },
      "source": [
        "preds2 = model2.predict(train_img, batch_size=16)\n",
        "preds2 = np.argmax(preds2, axis=-1)\n",
        "\n",
        "# Original labels\n",
        "# orig_train_labels = np.argmax(train_labels, axis=-1)"
      ],
      "execution_count": 0,
      "outputs": []
    },
    {
      "cell_type": "code",
      "metadata": {
        "id": "YJi3RgBtwDdI",
        "colab_type": "code",
        "colab": {
          "base_uri": "https://localhost:8080/",
          "height": 500
        },
        "outputId": "7c3ac8f6-d6ce-47aa-86c5-d1ba6a4e8918"
      },
      "source": [
        "cm  = confusion_matrix(orig_train_labels, preds2)\n",
        "plt.figure()\n",
        "plot_confusion_matrix(cm,figsize=(12,8), hide_ticks=True, cmap=plt.cm.Blues, show_normed=True, show_absolute=False)\n",
        "#plt.xticks(range(5), ['0', '1', '2', '3', '4'], fontsize=16)\n",
        "#plt.yticks(range(5), ['0', '1', '2', '3', '4'], fontsize=16)\n",
        "plt.show()"
      ],
      "execution_count": 20,
      "outputs": [
        {
          "output_type": "display_data",
          "data": {
            "text/plain": [
              "<Figure size 432x288 with 0 Axes>"
            ]
          },
          "metadata": {
            "tags": []
          }
        },
        {
          "output_type": "display_data",
          "data": {
            "image/png": "[encoded data removed]",
            "text/plain": [
              "<Figure size 864x576 with 1 Axes>"
            ]
          },
          "metadata": {
            "tags": []
          }
        }
      ]
    }
  ]
}