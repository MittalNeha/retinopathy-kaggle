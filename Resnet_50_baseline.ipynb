{
  "nbformat": 4,
  "nbformat_minor": 0,
  "metadata": {
    "colab": {
      "name": "Resnet-50 baseline.ipynb",
      "version": "0.3.2",
      "provenance": [],
      "include_colab_link": true
    },
    "kernelspec": {
      "name": "python3",
      "display_name": "Python 3"
    },
    "accelerator": "GPU"
  },
  "cells": [
    {
      "cell_type": "markdown",
      "metadata": {
        "id": "view-in-github",
        "colab_type": "text"
      },
      "source": [
        "<a href=\"https://colab.research.google.com/github/MittalNeha/retinopathy-kaggle/blob/master/Resnet_50_baseline.ipynb\" target=\"_parent\"><img src=\"https://colab.research.google.com/assets/colab-badge.svg\" alt=\"Open In Colab\"/></a>"
      ]
    },
    {
      "cell_type": "code",
      "metadata": {
        "id": "GMNM_ZaOgwPy",
        "colab_type": "code",
        "colab": {
          "base_uri": "https://localhost:8080/",
          "height": 34
        },
        "outputId": "31a5e730-f7c3-4303-eab3-eeec22ed8207"
      },
      "source": [
        "# It is defined by the kaggle/python docker image: https://github.com/kaggle/docker-python\n",
        "# For example, here's several helpful packages to load in \n",
        "\n",
        "import os\n",
        "import glob\n",
        "import h5py\n",
        "import shutil\n",
        "import imgaug as aug\n",
        "import numpy as np # linear algebra\n",
        "import pandas as pd # data processing, CSV file I/O (e.g. pd.read_csv)\n",
        "import seaborn as sns\n",
        "import matplotlib.pyplot as plt\n",
        "import matplotlib.image as mimg\n",
        "import imgaug.augmenters as iaa\n",
        "from os import listdir, makedirs, getcwd, remove\n",
        "from os.path import isfile, join, abspath, exists, isdir, expanduser\n",
        "from PIL import Image\n",
        "from pathlib import Path\n",
        "from skimage.io import imread\n",
        "from skimage.transform import resize\n",
        "\n",
        "from keras.models import Sequential, Model\n",
        "from keras.applications.vgg16 import VGG16, preprocess_input\n",
        "from keras.preprocessing.image import ImageDataGenerator,load_img, img_to_array\n",
        "from keras.models import Sequential, load_model\n",
        "from keras.layers import (Activation, Conv2D, MaxPooling2D, Dense, Dropout, Input, Flatten, SeparableConv2D,\n",
        "                          Dense, BatchNormalization, GlobalAveragePooling2D)\n",
        "from keras.layers import GlobalMaxPooling2D\n",
        "from keras.layers.normalization import BatchNormalization\n",
        "from keras.layers.merge import Concatenate\n",
        "from keras.models import Model\n",
        "from keras.optimizers import Adam, SGD, RMSprop\n",
        "from keras.callbacks import ModelCheckpoint, Callback, EarlyStopping\n",
        "from keras.utils import Sequence\n",
        "from keras.utils import to_categorical\n",
        "from keras.losses import binary_crossentropy, categorical_crossentropy\n",
        "\n",
        "from keras.applications.resnet50 import ResNet50\n",
        "# from keras.applications.res\n",
        "\n",
        "from sklearn.model_selection import train_test_split\n",
        "from sklearn.preprocessing import StandardScaler\n",
        "from mlxtend.plotting import plot_confusion_matrix\n",
        "from keras import metrics\n",
        "from sklearn.metrics import confusion_matrix, cohen_kappa_score\n",
        "from sklearn.utils import class_weight, shuffle\n",
        "import cv2\n",
        "from keras import backend as K\n",
        "import tensorflow as tf\n",
        "\n",
        "from tqdm import tqdm\n",
        "\n",
        "color = sns.color_palette()\n",
        "%matplotlib inline\n",
        "\n",
        "# Input data files are available in the \"../input/\" directory.\n",
        "# For example, running this (by clicking run or pressing Shift+Enter) will list the files in the input directory\n"
      ],
      "execution_count": 1,
      "outputs": [
        {
          "output_type": "stream",
          "text": [
            "Using TensorFlow backend.\n"
          ],
          "name": "stderr"
        }
      ]
    },
    {
      "cell_type": "code",
      "metadata": {
        "id": "-jzw7yIaiaLR",
        "colab_type": "code",
        "colab": {
          "base_uri": "https://localhost:8080/",
          "height": 122
        },
        "outputId": "3c115477-8889-46cf-f311-9243b6854597"
      },
      "source": [
        "from google.colab import drive\n",
        "drive.mount('/content/gdrive')"
      ],
      "execution_count": 2,
      "outputs": [
        {
          "output_type": "stream",
          "text": [
            "Go to this URL in a browser: https://accounts.google.com/o/oauth2/auth?client_id=947318989803-6bn6qk8qdgf4n4g3pfee6491hc0brc4i.apps.googleusercontent.com&redirect_uri=urn%3Aietf%3Awg%3Aoauth%3A2.0%3Aoob&scope=email%20https%3A%2F%2Fwww.googleapis.com%2Fauth%2Fdocs.test%20https%3A%2F%2Fwww.googleapis.com%2Fauth%2Fdrive%20https%3A%2F%2Fwww.googleapis.com%2Fauth%2Fdrive.photos.readonly%20https%3A%2F%2Fwww.googleapis.com%2Fauth%2Fpeopleapi.readonly&response_type=code\n",
            "\n",
            "Enter your authorization code:\n",
            "··········\n",
            "Mounted at /content/gdrive\n"
          ],
          "name": "stdout"
        }
      ]
    },
    {
      "cell_type": "code",
      "metadata": {
        "id": "Ao3wR7Axiaq1",
        "colab_type": "code",
        "colab": {}
      },
      "source": [
        "def get_kaggle_data():\n",
        "  os.environ['KAGGLE_USERNAME'] = \"mittalneha\"\n",
        "  os.environ['KAGGLE_KEY'] = \"59ec3f992f5fb4b510bebd8dea889381\"\n",
        "  \n",
        "  !kaggle competitions download -c aptos2019-blindness-detection\n",
        "#   !kaggle datasets download -d keras/resnet50\n",
        "  \n",
        "  !mkdir kaggle-data\n",
        "  !mv sample_submission.csv kaggle-data/\n",
        "  !mv test.csv kaggle-data/\n",
        "#   !mv train.csv kaggle-data/\n",
        "  !unzip test_images.zip -d kaggle-data/test_images\n",
        "#   !unzip train_images.zip -d kaggle-data/train_images\n",
        "  !cp /content/gdrive/My\\ Drive/Colab\\ Notebooks/aug_train_images.zip .\n",
        "  !cp /content/gdrive/My\\ Drive/Colab\\ Notebooks/aug_train.csv .\n",
        "  \n",
        "  !unzip aug_train_images.zip\n",
        "  !mv aug_train_images kaggle-data/\n",
        "  !mv aug_train.csv kaggle-data/\n",
        "  \n",
        "  \n",
        "#   !unzip resnet50.zip -d kaggle-data/resnet50/\n",
        "  "
      ],
      "execution_count": 0,
      "outputs": []
    },
    {
      "cell_type": "code",
      "metadata": {
        "id": "thQZYbhRnFso",
        "colab_type": "code",
        "colab": {
          "base_uri": "https://localhost:8080/",
          "height": 51
        },
        "outputId": "e8b088a6-af8b-4d63-ccdc-d4068bf129c4"
      },
      "source": [
        "!cp /content/gdrive/My\\ Drive/Colab\\ Notebooks/resnet50_aug1.zip .\n",
        "!unzip resnet50_aug1.zip"
      ],
      "execution_count": 4,
      "outputs": [
        {
          "output_type": "stream",
          "text": [
            "Archive:  resnet50_aug1.zip\n",
            "  inflating: Resnet50_bestqwk.h5     \n"
          ],
          "name": "stdout"
        }
      ]
    },
    {
      "cell_type": "code",
      "metadata": {
        "id": "uL8nrOvepFsP",
        "colab_type": "code",
        "colab": {}
      },
      "source": [
        "# !mkdir kaggle-data/resnet50\n",
        "!mv Resnet50_bestqwk.h5 kaggle-data/resnet50"
      ],
      "execution_count": 0,
      "outputs": []
    },
    {
      "cell_type": "code",
      "metadata": {
        "id": "migL32nXiel8",
        "colab_type": "code",
        "colab": {}
      },
      "source": [
        "data_dir = \"kaggle-data\"\n",
        "get_kaggle_data()"
      ],
      "execution_count": 0,
      "outputs": []
    },
    {
      "cell_type": "code",
      "metadata": {
        "id": "VJlLRV1aiiv1",
        "colab_type": "code",
        "colab": {}
      },
      "source": [
        "WORKERS = 2\n",
        "CHANNEL = 3\n",
        "\n",
        "import warnings\n",
        "warnings.filterwarnings(\"ignore\")\n",
        "SIZE = 300\n",
        "NUM_CLASSES = 5"
      ],
      "execution_count": 0,
      "outputs": []
    },
    {
      "cell_type": "code",
      "metadata": {
        "id": "Lm4lMspKiqkU",
        "colab_type": "code",
        "outputId": "ab821d39-fa94-464c-bc09-b24f4ec15b2e",
        "colab": {
          "base_uri": "https://localhost:8080/",
          "height": 286
        }
      },
      "source": [
        "df_train = pd.read_csv('kaggle-data/aug_train.csv')\n",
        "df_test = pd.read_csv('kaggle-data/test.csv')\n",
        "\n",
        "df_train.columns = ['id_code', 'diagnosis']\n",
        "\n",
        "x = df_train['id_code']\n",
        "y = df_train['diagnosis']\n",
        "\n",
        "x, y = shuffle(x, y, random_state=8)\n",
        "y.hist()\n"
      ],
      "execution_count": 43,
      "outputs": [
        {
          "output_type": "execute_result",
          "data": {
            "text/plain": [
              "<matplotlib.axes._subplots.AxesSubplot at 0x7fee9aa7ca20>"
            ]
          },
          "metadata": {
            "tags": []
          },
          "execution_count": 43
        },
        {
          "output_type": "display_data",
          "data": {
            "image/png": "[encoded data removed]",
            "text/plain": [
              "<Figure size 432x288 with 1 Axes>"
            ]
          },
          "metadata": {
            "tags": []
          }
        }
      ]
    },
    {
      "cell_type": "code",
      "metadata": {
        "id": "5K22T2Aiiv4l",
        "colab_type": "code",
        "outputId": "4687a4b3-b43a-4b72-8974-c30bcfbfd14f",
        "colab": {
          "base_uri": "https://localhost:8080/",
          "height": 85
        }
      },
      "source": [
        "y = to_categorical(y, num_classes=NUM_CLASSES)\n",
        "train_x, valid_x, train_y, valid_y = train_test_split(x, y, test_size=0.15,\n",
        "                                                      stratify=y, random_state=8)\n",
        "print(train_x.shape)\n",
        "print(train_y.shape)\n",
        "print(valid_x.shape)\n",
        "print(valid_y.shape)"
      ],
      "execution_count": 44,
      "outputs": [
        {
          "output_type": "stream",
          "text": [
            "(7785,)\n",
            "(7785, 5)\n",
            "(1374,)\n",
            "(1374, 5)\n"
          ],
          "name": "stdout"
        }
      ]
    },
    {
      "cell_type": "code",
      "metadata": {
        "id": "24XlFfhmi7Du",
        "colab_type": "code",
        "colab": {}
      },
      "source": [
        "class My_Generator(Sequence):\n",
        "\n",
        "    def __init__(self, image_filenames, labels,\n",
        "                 batch_size, is_train=True,\n",
        "                 mix=False, augment=False):\n",
        "        self.image_filenames, self.labels = image_filenames, labels\n",
        "        self.batch_size = batch_size\n",
        "        self.is_train = is_train\n",
        "        self.is_augment = augment\n",
        "        if(self.is_train):\n",
        "            self.on_epoch_end()\n",
        "        self.is_mix = mix\n",
        "\n",
        "    def __len__(self):\n",
        "        return int(np.ceil(len(self.image_filenames) / float(self.batch_size)))\n",
        "\n",
        "    def __getitem__(self, idx):\n",
        "        batch_x = self.image_filenames[idx * self.batch_size:(idx + 1) * self.batch_size]\n",
        "        batch_y = self.labels[idx * self.batch_size:(idx + 1) * self.batch_size]\n",
        "\n",
        "        if(self.is_train):\n",
        "            return self.train_generate(batch_x, batch_y)\n",
        "        return self.valid_generate(batch_x, batch_y)\n",
        "\n",
        "    def on_epoch_end(self):\n",
        "        if(self.is_train):\n",
        "            self.image_filenames, self.labels = shuffle(self.image_filenames, self.labels)\n",
        "        else:\n",
        "            pass\n",
        "    \n",
        "    def mix_up(self, x, y):\n",
        "        lam = np.random.beta(0.2, 0.4)\n",
        "        ori_index = np.arange(int(len(x)))\n",
        "        index_array = np.arange(int(len(x)))\n",
        "        np.random.shuffle(index_array)        \n",
        "        \n",
        "        mixed_x = lam * x[ori_index] + (1 - lam) * x[index_array]\n",
        "        mixed_y = lam * y[ori_index] + (1 - lam) * y[index_array]\n",
        "        \n",
        "        return mixed_x, mixed_y\n",
        "\n",
        "    def train_generate(self, batch_x, batch_y):\n",
        "        batch_images = []\n",
        "        for (sample, label) in zip(batch_x, batch_y):\n",
        "            img = cv2.imread('kaggle-data/aug_train_images/'+sample+'.png')\n",
        "            img = cv2.resize(img, (SIZE, SIZE))\n",
        "#             if(self.is_augment):\n",
        "#                 img = seq.augment_image(img)\n",
        "            batch_images.append(img)\n",
        "        batch_images = np.array(batch_images, np.float32) / 255\n",
        "        batch_y = np.array(batch_y, np.float32)\n",
        "        if(self.is_mix):\n",
        "            batch_images, batch_y = self.mix_up(batch_images, batch_y)\n",
        "        return batch_images, batch_y\n",
        "\n",
        "    def valid_generate(self, batch_x, batch_y):\n",
        "        batch_images = []\n",
        "        for (sample, label) in zip(batch_x, batch_y):\n",
        "            img = cv2.imread('kaggle-data/aug_train_images/'+sample+'.png')\n",
        "            img = cv2.resize(img, (SIZE, SIZE))\n",
        "            batch_images.append(img)\n",
        "        batch_images = np.array(batch_images, np.float32) / 255\n",
        "        batch_y = np.array(batch_y, np.float32)\n",
        "        return batch_images, batch_y"
      ],
      "execution_count": 0,
      "outputs": []
    },
    {
      "cell_type": "code",
      "metadata": {
        "id": "NmEdbXXQkyKX",
        "colab_type": "code",
        "colab": {}
      },
      "source": [
        "def create_model(input_shape, n_out):\n",
        "    input_tensor = Input(shape=input_shape)\n",
        "    base_model = ResNet50(include_top=False,\n",
        "                   weights=None,\n",
        "                   input_tensor=input_tensor)\n",
        "    \n",
        "    x = GlobalAveragePooling2D()(base_model.output)\n",
        "    x = Dropout(0.5)(x)\n",
        "    x = Dense(1024, activation='relu')(x)\n",
        "    x = Dropout(0.5)(x)\n",
        "    final_output = Dense(n_out, activation='softmax', name='final_output')(x)\n",
        "    model = Model(input_tensor, final_output)\n",
        "    model.load_weights('kaggle-data/resnet50/Resnet50_bestqwk.h5')\n",
        "    \n",
        "    return model"
      ],
      "execution_count": 0,
      "outputs": []
    },
    {
      "cell_type": "code",
      "metadata": {
        "id": "rPw_sCSe2A0v",
        "colab_type": "code",
        "colab": {}
      },
      "source": [
        "!mkdir 'kaggle-data/model'"
      ],
      "execution_count": 0,
      "outputs": []
    },
    {
      "cell_type": "code",
      "metadata": {
        "id": "wvA3rgEzk1PN",
        "colab_type": "code",
        "colab": {}
      },
      "source": [
        "# create callbacks list\n",
        "from keras.callbacks import (ModelCheckpoint, LearningRateScheduler,\n",
        "                             EarlyStopping, ReduceLROnPlateau,CSVLogger)\n",
        "\n",
        "epochs = 15; batch_size = 16\n",
        "checkpoint = ModelCheckpoint('kaggle-data/model/Resnet50-{epoch:02d}-{val_acc:.4f}.h5', monitor='val_loss', verbose=1, \n",
        "                             save_best_only=True, mode='min', save_weights_only = True)\n",
        "# checkpoint = ModelCheckpoint('kaggle-data/model/xception-model.h5', verbose=1, monitor='val_acc',\n",
        "#                               save_best_only=True, save_weights_only = True)\n",
        "reduceLROnPlat = ReduceLROnPlateau(monitor='val_loss', factor=0.5, patience=4, \n",
        "                                   verbose=1, mode='auto', epsilon=0.0001)\n",
        "early = EarlyStopping(monitor=\"val_loss\", \n",
        "                      mode=\"min\", \n",
        "                      patience=9)\n",
        "\n",
        "csv_logger = CSVLogger(filename='kaggle-data/model/training_log.csv',\n",
        "                       separator=',',\n",
        "                       append=True)\n",
        "# callbacks_list = [checkpoint, csv_logger, reduceLROnPlat, early]\n",
        "\n",
        "train_generator = My_Generator(train_x, train_y, 128, is_train=True)\n",
        "train_mixup = My_Generator(train_x, train_y, batch_size, is_train=True, mix=False, augment=True)\n",
        "valid_generator = My_Generator(valid_x, valid_y, batch_size, is_train=False)\n",
        "\n",
        "model = create_model(\n",
        "    input_shape=(SIZE,SIZE,3), \n",
        "    n_out=NUM_CLASSES)"
      ],
      "execution_count": 0,
      "outputs": []
    },
    {
      "cell_type": "code",
      "metadata": {
        "id": "gzzdycCKk5f8",
        "colab_type": "code",
        "colab": {}
      },
      "source": [
        "# reference link: https://www.kaggle.com/christofhenkel/weighted-kappa-loss-for-keras-tensorflow\n",
        "def kappa_loss(y_true, y_pred, y_pow=2, eps=1e-12, N=5, bsize=32, name='kappa'):\n",
        "    \"\"\"A continuous differentiable approximation of discrete kappa loss.\n",
        "        Args:\n",
        "            y_pred: 2D tensor or array, [batch_size, num_classes]\n",
        "            y_true: 2D tensor or array,[batch_size, num_classes]\n",
        "            y_pow: int,  e.g. y_pow=2\n",
        "            N: typically num_classes of the model\n",
        "            bsize: batch_size of the training or validation ops\n",
        "            eps: a float, prevents divide by zero\n",
        "            name: Optional scope/name for op_scope.\n",
        "        Returns:\n",
        "            A tensor with the kappa loss.\"\"\"\n",
        "\n",
        "    with tf.name_scope(name):\n",
        "        y_true = tf.to_float(y_true)\n",
        "        repeat_op = tf.to_float(tf.tile(tf.reshape(tf.range(0, N), [N, 1]), [1, N]))\n",
        "        repeat_op_sq = tf.square((repeat_op - tf.transpose(repeat_op)))\n",
        "        weights = repeat_op_sq / tf.to_float((N - 1) ** 2)\n",
        "    \n",
        "        pred_ = y_pred ** y_pow\n",
        "        try:\n",
        "            pred_norm = pred_ / (eps + tf.reshape(tf.reduce_sum(pred_, 1), [-1, 1]))\n",
        "        except Exception:\n",
        "            pred_norm = pred_ / (eps + tf.reshape(tf.reduce_sum(pred_, 1), [bsize, 1]))\n",
        "    \n",
        "        hist_rater_a = tf.reduce_sum(pred_norm, 0)\n",
        "        hist_rater_b = tf.reduce_sum(y_true, 0)\n",
        "    \n",
        "        conf_mat = tf.matmul(tf.transpose(pred_norm), y_true)\n",
        "    \n",
        "        nom = tf.reduce_sum(weights * conf_mat)\n",
        "        denom = tf.reduce_sum(weights * tf.matmul(\n",
        "            tf.reshape(hist_rater_a, [N, 1]), tf.reshape(hist_rater_b, [1, N])) /\n",
        "                              tf.to_float(bsize))\n",
        "    \n",
        "        return nom*0.5 / (denom + eps) + categorical_crossentropy(y_true, y_pred)*0.5"
      ],
      "execution_count": 0,
      "outputs": []
    },
    {
      "cell_type": "code",
      "metadata": {
        "id": "LAAUbglclAkt",
        "colab_type": "code",
        "colab": {}
      },
      "source": [
        "from keras.callbacks import Callback\n",
        "class QWKEvaluation(Callback):\n",
        "    def __init__(self, validation_data=(), batch_size=64, interval=1):\n",
        "        super(Callback, self).__init__()\n",
        "\n",
        "        self.interval = interval\n",
        "        self.batch_size = batch_size\n",
        "        self.valid_generator, self.y_val = validation_data\n",
        "        self.history = []\n",
        "\n",
        "    def on_epoch_end(self, epoch, logs={}):\n",
        "        if epoch % self.interval == 0:\n",
        "            y_pred = self.model.predict_generator(generator=self.valid_generator,\n",
        "                                                  steps=np.ceil(float(len(self.y_val)) / float(self.batch_size)),\n",
        "                                                  workers=1, use_multiprocessing=False,\n",
        "                                                  verbose=1)\n",
        "            def flatten(y):\n",
        "                return np.argmax(y, axis=1).reshape(-1)\n",
        "            \n",
        "            score = cohen_kappa_score(flatten(self.y_val),\n",
        "                                      flatten(y_pred),\n",
        "                                      labels=[0,1,2,3,4],\n",
        "                                      weights='quadratic')\n",
        "            print(\"\\n epoch: %d - QWK_score: %.6f \\n\" % (epoch+1, score))\n",
        "            self.history.append(score)\n",
        "            if score >= max(self.history):\n",
        "                print('saving checkpoint: ', score)\n",
        "                self.model.save('kaggle-data/model/Resnet50_qwk-{0:02d}-{1:.4f}.h5'.format(epoch, score))\n",
        "\n",
        "qwk = QWKEvaluation(validation_data=(valid_generator, valid_y),\n",
        "                    batch_size=batch_size, interval=1)"
      ],
      "execution_count": 0,
      "outputs": []
    },
    {
      "cell_type": "code",
      "metadata": {
        "id": "d5da7rwx4weq",
        "colab_type": "code",
        "outputId": "e55fd573-4d5c-4d10-f0b6-0419b4d3b372",
        "colab": {
          "base_uri": "https://localhost:8080/",
          "height": 34
        }
      },
      "source": [
        "train_y.shape"
      ],
      "execution_count": 20,
      "outputs": [
        {
          "output_type": "execute_result",
          "data": {
            "text/plain": [
              "(7785, 5)"
            ]
          },
          "metadata": {
            "tags": []
          },
          "execution_count": 20
        }
      ]
    },
    {
      "cell_type": "code",
      "metadata": {
        "id": "FD-AovJglBXF",
        "colab_type": "code",
        "outputId": "7119c3c8-1c13-43e8-c1d7-096fe7ee698c",
        "colab": {
          "base_uri": "https://localhost:8080/",
          "height": 255
        }
      },
      "source": [
        "# warm up model\n",
        "for layer in model.layers:\n",
        "    layer.trainable = False\n",
        "\n",
        "for i in range(-3,0):\n",
        "    model.layers[i].trainable = True\n",
        "\n",
        "model.compile(\n",
        "    loss='categorical_crossentropy',\n",
        "    optimizer=Adam(1e-3))\n",
        "\n",
        "model.fit_generator(\n",
        "    train_generator,\n",
        "    steps_per_epoch=np.ceil(float(len(train_y)) / float(128)),\n",
        "    epochs=2,\n",
        "    workers=WORKERS, use_multiprocessing=True,\n",
        "    verbose=1,\n",
        "    callbacks=[qwk])"
      ],
      "execution_count": 52,
      "outputs": [
        {
          "output_type": "stream",
          "text": [
            "Epoch 1/2\n",
            "61/61 [==============================] - 136s 2s/step - loss: 0.0225\n",
            "86/86 [==============================] - 40s 461ms/step\n",
            "\n",
            " epoch: 1 - QWK_score: 0.951715 \n",
            "\n",
            "saving checkpoint:  0.9517149283103739\n",
            "Epoch 2/2\n",
            "61/61 [==============================] - 111s 2s/step - loss: 0.0251\n",
            "86/86 [==============================] - 28s 325ms/step\n",
            "\n",
            " epoch: 2 - QWK_score: 0.941417 \n",
            "\n"
          ],
          "name": "stdout"
        },
        {
          "output_type": "execute_result",
          "data": {
            "text/plain": [
              "<keras.callbacks.History at 0x7fee9a9551d0>"
            ]
          },
          "metadata": {
            "tags": []
          },
          "execution_count": 52
        }
      ]
    },
    {
      "cell_type": "code",
      "metadata": {
        "id": "nuXpIgx0lEQd",
        "colab_type": "code",
        "outputId": "00b7b3d8-583f-495d-c1b6-afbf7eb67a17",
        "colab": {
          "base_uri": "https://localhost:8080/",
          "height": 1000
        }
      },
      "source": [
        "# train all layers\n",
        "for layer in model.layers:\n",
        "    layer.trainable = True\n",
        "\n",
        "callbacks_list = [checkpoint, csv_logger, reduceLROnPlat, early, qwk]\n",
        "model.compile(\n",
        "    #loss='categorical_crossentropy',\n",
        "             loss=kappa_loss,\n",
        "            optimizer=Adam(lr=1e-4),\n",
        "            metrics=['accuracy'])\n",
        "#, metrics=['accuracy']\n",
        "history = model.fit_generator(\n",
        "    train_mixup,\n",
        "    steps_per_epoch=np.ceil(float(len(train_x)) / float(batch_size)),\n",
        "    validation_data=valid_generator,\n",
        "    validation_steps=np.ceil(float(len(valid_x)) / float(batch_size)),\n",
        "    epochs=epochs,\n",
        "    verbose=1,\n",
        "    workers=1, use_multiprocessing=False,\n",
        "    callbacks=callbacks_list)"
      ],
      "execution_count": 55,
      "outputs": [
        {
          "output_type": "stream",
          "text": [
            "487/487 [==============================] - 466s 958ms/step - loss: 0.0557 - acc: 0.9714 - val_loss: 0.4495 - val_acc: 0.8231\n",
            "487/487 [==============================] - 466s 958ms/step - loss: 0.0557 - acc: 0.9714 - val_loss: 0.4495 - val_acc: 0.8231\n",
            "\n",
            "Epoch 00008: val_loss did not improve from 0.34466\n",
            "\n",
            "Epoch 00008: val_loss did not improve from 0.34466\n",
            "\n",
            "Epoch 00008: ReduceLROnPlateau reducing learning rate to 4.999999873689376e-05.\n",
            "\n",
            "Epoch 00008: ReduceLROnPlateau reducing learning rate to 4.999999873689376e-05.\n",
            "86/86 [==============================] - 26s 299ms/step\n",
            "86/86 [==============================] - 26s 299ms/step\n",
            "\n",
            " epoch: 8 - QWK_score: 0.906326 \n",
            "\n",
            "Epoch 9/15\n",
            "\n",
            " epoch: 8 - QWK_score: 0.906326 \n",
            "\n",
            "Epoch 9/15\n",
            "487/487 [==============================] - 470s 964ms/step - loss: 0.0267 - acc: 0.9863 - val_loss: 0.3006 - val_acc: 0.8952\n",
            "487/487 [==============================] - 470s 964ms/step - loss: 0.0267 - acc: 0.9863 - val_loss: 0.3006 - val_acc: 0.8952\n",
            "\n",
            "Epoch 00009: val_loss improved from 0.34466 to 0.30065, saving model to kaggle-data/model/Resnet50-09-0.8952.h5\n",
            "\n",
            "Epoch 00009: val_loss improved from 0.34466 to 0.30065, saving model to kaggle-data/model/Resnet50-09-0.8952.h5\n",
            "86/86 [==============================] - 26s 298ms/step\n",
            "86/86 [==============================] - 26s 298ms/step\n",
            "\n",
            " epoch: 9 - QWK_score: 0.950358 \n",
            "\n",
            "Epoch 10/15\n",
            "\n",
            " epoch: 9 - QWK_score: 0.950358 \n",
            "\n",
            "Epoch 10/15\n",
            "487/487 [==============================] - 467s 958ms/step - loss: 0.0202 - acc: 0.9895 - val_loss: 0.3568 - val_acc: 0.8872\n",
            "487/487 [==============================] - 467s 958ms/step - loss: 0.0202 - acc: 0.9895 - val_loss: 0.3568 - val_acc: 0.8872\n",
            "\n",
            "Epoch 00010: val_loss did not improve from 0.30065\n",
            "\n",
            "Epoch 00010: val_loss did not improve from 0.30065\n",
            "86/86 [==============================] - 25s 292ms/step\n",
            "86/86 [==============================] - 25s 292ms/step\n",
            "\n",
            " epoch: 10 - QWK_score: 0.947775 \n",
            "\n",
            "Epoch 11/15\n",
            "\n",
            " epoch: 10 - QWK_score: 0.947775 \n",
            "\n",
            "Epoch 11/15\n",
            "487/487 [==============================] - 464s 953ms/step - loss: 0.0223 - acc: 0.9865 - val_loss: 0.3498 - val_acc: 0.8843\n",
            "487/487 [==============================] - 464s 953ms/step - loss: 0.0223 - acc: 0.9865 - val_loss: 0.3498 - val_acc: 0.8843\n",
            "\n",
            "Epoch 00011: val_loss did not improve from 0.30065\n",
            "\n",
            "Epoch 00011: val_loss did not improve from 0.30065\n",
            "86/86 [==============================] - 25s 289ms/step\n",
            "86/86 [==============================] - 25s 289ms/step\n",
            "\n",
            " epoch: 11 - QWK_score: 0.933692 \n",
            "\n",
            "Epoch 12/15\n",
            "\n",
            " epoch: 11 - QWK_score: 0.933692 \n",
            "\n",
            "Epoch 12/15\n",
            "487/487 [==============================] - 465s 955ms/step - loss: 0.0189 - acc: 0.9890 - val_loss: 0.2989 - val_acc: 0.8916\n",
            "487/487 [==============================] - 465s 955ms/step - loss: 0.0189 - acc: 0.9890 - val_loss: 0.2989 - val_acc: 0.8916\n",
            "\n",
            "Epoch 00012: val_loss improved from 0.30065 to 0.29890, saving model to kaggle-data/model/Resnet50-12-0.8916.h5\n",
            "\n",
            "Epoch 00012: val_loss improved from 0.30065 to 0.29890, saving model to kaggle-data/model/Resnet50-12-0.8916.h5\n",
            "86/86 [==============================] - 25s 294ms/step\n",
            "86/86 [==============================] - 25s 294ms/step\n",
            "\n",
            " epoch: 12 - QWK_score: 0.943990 \n",
            "\n",
            "Epoch 13/15\n",
            "\n",
            " epoch: 12 - QWK_score: 0.943990 \n",
            "\n",
            "Epoch 13/15\n",
            "487/487 [==============================] - 463s 951ms/step - loss: 0.0181 - acc: 0.9890 - val_loss: 0.5352 - val_acc: 0.8319\n",
            "487/487 [==============================] - 463s 951ms/step - loss: 0.0181 - acc: 0.9890 - val_loss: 0.5352 - val_acc: 0.8319\n",
            "\n",
            "Epoch 00013: val_loss did not improve from 0.29890\n",
            "\n",
            "Epoch 00013: val_loss did not improve from 0.29890\n",
            "86/86 [==============================] - 25s 286ms/step\n",
            "86/86 [==============================] - 25s 286ms/step\n",
            "\n",
            " epoch: 13 - QWK_score: 0.919191 \n",
            "\n",
            "Epoch 14/15\n",
            "\n",
            " epoch: 13 - QWK_score: 0.919191 \n",
            "\n",
            "Epoch 14/15\n",
            "487/487 [==============================] - 464s 953ms/step - loss: 0.0249 - acc: 0.9860 - val_loss: 0.4375 - val_acc: 0.8661\n",
            "487/487 [==============================] - 464s 953ms/step - loss: 0.0249 - acc: 0.9860 - val_loss: 0.4375 - val_acc: 0.8661\n",
            "\n",
            "Epoch 00014: val_loss did not improve from 0.29890\n",
            "\n",
            "Epoch 00014: val_loss did not improve from 0.29890\n",
            "86/86 [==============================] - 25s 289ms/step\n",
            "86/86 [==============================] - 25s 289ms/step\n",
            "\n",
            " epoch: 14 - QWK_score: 0.932706 \n",
            "\n",
            "Epoch 15/15\n",
            "\n",
            " epoch: 14 - QWK_score: 0.932706 \n",
            "\n",
            "Epoch 15/15\n",
            "487/487 [==============================] - 467s 959ms/step - loss: 0.0373 - acc: 0.9823 - val_loss: 0.3305 - val_acc: 0.8763\n",
            "487/487 [==============================] - 467s 959ms/step - loss: 0.0373 - acc: 0.9823 - val_loss: 0.3305 - val_acc: 0.8763\n",
            "\n",
            "Epoch 00015: val_loss did not improve from 0.29890\n",
            "\n",
            "Epoch 00015: val_loss did not improve from 0.29890\n",
            "86/86 [==============================] - 25s 291ms/step\n",
            "86/86 [==============================] - 25s 291ms/step\n",
            "\n",
            " epoch: 15 - QWK_score: 0.923623 \n",
            "\n",
            "\n",
            " epoch: 15 - QWK_score: 0.923623 \n",
            "\n"
          ],
          "name": "stdout"
        }
      ]
    },
    {
      "cell_type": "code",
      "metadata": {
        "id": "ffmXK6VuBQOQ",
        "colab_type": "code",
        "colab": {
          "base_uri": "https://localhost:8080/",
          "height": 1000
        },
        "outputId": "67f0da7d-2f97-4cee-a38f-a11cde0f9580"
      },
      "source": [
        "epochs = 30\n",
        "history2 = model.fit_generator(\n",
        "    train_mixup,\n",
        "    steps_per_epoch=np.ceil(float(len(train_x)) / float(batch_size)),\n",
        "    validation_data=valid_generator,\n",
        "    validation_steps=np.ceil(float(len(valid_x)) / float(batch_size)),\n",
        "    epochs=epochs,\n",
        "    initial_epoch=15,\n",
        "    verbose=1,\n",
        "    workers=1, use_multiprocessing=False,\n",
        "    callbacks=callbacks_list)"
      ],
      "execution_count": 0,
      "outputs": [
        {
          "output_type": "stream",
          "text": [
            "Epoch 16/30\n",
            "487/487 [==============================] - 466s 957ms/step - loss: 0.0238 - acc: 0.9861 - val_loss: 0.3300 - val_acc: 0.8930\n",
            "\n",
            "Epoch 00016: val_loss did not improve from 0.29890\n",
            "86/86 [==============================] - 25s 291ms/step\n",
            "\n",
            " epoch: 16 - QWK_score: 0.942322 \n",
            "\n",
            "Epoch 17/30\n",
            "487/487 [==============================] - 467s 959ms/step - loss: 0.0240 - acc: 0.9869 - val_loss: 0.3174 - val_acc: 0.8974\n",
            "\n",
            "Epoch 00017: val_loss did not improve from 0.29890\n",
            "86/86 [==============================] - 25s 290ms/step\n",
            "\n",
            " epoch: 17 - QWK_score: 0.943476 \n",
            "\n",
            "Epoch 18/30\n",
            "487/487 [==============================] - 467s 959ms/step - loss: 0.0233 - acc: 0.9865 - val_loss: 0.3739 - val_acc: 0.8785\n",
            "\n",
            "Epoch 00018: val_loss did not improve from 0.29890\n",
            "86/86 [==============================] - 25s 289ms/step\n",
            "\n",
            " epoch: 18 - QWK_score: 0.933072 \n",
            "\n",
            "Epoch 19/30\n",
            "487/487 [==============================] - 466s 957ms/step - loss: 0.0228 - acc: 0.9877 - val_loss: 0.5175 - val_acc: 0.8508\n",
            "\n",
            "Epoch 00019: val_loss did not improve from 0.29890\n",
            "86/86 [==============================] - 25s 290ms/step\n",
            "\n",
            " epoch: 19 - QWK_score: 0.912483 \n",
            "\n",
            "Epoch 20/30\n",
            "487/487 [==============================] - 467s 960ms/step - loss: 0.0217 - acc: 0.9876 - val_loss: 0.3333 - val_acc: 0.8872\n",
            "\n",
            "Epoch 00020: val_loss did not improve from 0.29890\n",
            "86/86 [==============================] - 25s 294ms/step\n",
            "\n",
            " epoch: 20 - QWK_score: 0.941291 \n",
            "\n",
            "Epoch 21/30\n",
            "487/487 [==============================] - 467s 959ms/step - loss: 0.0203 - acc: 0.9881 - val_loss: 0.3712 - val_acc: 0.8865\n",
            "\n",
            "Epoch 00021: val_loss did not improve from 0.29890\n",
            "\n",
            "Epoch 00021: ReduceLROnPlateau reducing learning rate to 2.499999936844688e-05.\n",
            "86/86 [==============================] - 25s 291ms/step\n",
            "\n",
            " epoch: 21 - QWK_score: 0.931147 \n",
            "\n",
            "Epoch 22/30\n",
            "487/487 [==============================] - 470s 966ms/step - loss: 0.0147 - acc: 0.9918 - val_loss: 0.3525 - val_acc: 0.8930\n",
            "\n",
            "Epoch 00022: val_loss did not improve from 0.29890\n",
            "86/86 [==============================] - 25s 295ms/step\n",
            "\n",
            " epoch: 22 - QWK_score: 0.937894 \n",
            "\n",
            "Epoch 23/30\n",
            "487/487 [==============================] - 470s 966ms/step - loss: 0.0123 - acc: 0.9920 - val_loss: 0.3639 - val_acc: 0.8901\n",
            "\n",
            "Epoch 00023: val_loss did not improve from 0.29890\n",
            "86/86 [==============================] - 25s 294ms/step\n",
            "\n",
            " epoch: 23 - QWK_score: 0.941766 \n",
            "\n",
            "Epoch 24/30\n",
            "487/487 [==============================] - 471s 967ms/step - loss: 0.0128 - acc: 0.9911 - val_loss: 0.3456 - val_acc: 0.8996\n",
            "\n",
            "Epoch 00024: val_loss did not improve from 0.29890\n",
            "86/86 [==============================] - 25s 296ms/step\n",
            "\n",
            " epoch: 24 - QWK_score: 0.953337 \n",
            "\n",
            "saving checkpoint:  0.9533367484370218\n",
            "Epoch 25/30\n",
            "487/487 [==============================] - 472s 970ms/step - loss: 0.0130 - acc: 0.9908 - val_loss: 0.3205 - val_acc: 0.8959\n",
            "\n",
            "Epoch 00025: val_loss did not improve from 0.29890\n",
            "\n",
            "Epoch 00025: ReduceLROnPlateau reducing learning rate to 1.249999968422344e-05.\n",
            "86/86 [==============================] - 26s 297ms/step\n",
            "\n",
            " epoch: 25 - QWK_score: 0.944265 \n",
            "\n",
            "Epoch 26/30\n",
            "387/487 [======================>.......] - ETA: 1:32 - loss: 0.0124 - acc: 0.9919"
          ],
          "name": "stdout"
        }
      ]
    },
    {
      "cell_type": "markdown",
      "metadata": {
        "id": "otW_Ysujops5",
        "colab_type": "text"
      },
      "source": [
        "# Evaluate Model"
      ]
    },
    {
      "cell_type": "code",
      "metadata": {
        "id": "XBNWJo74oo1f",
        "colab_type": "code",
        "colab": {}
      },
      "source": [
        "model.compile(loss='binary_crossentropy', optimizer='adam', metrics=['accuracy'])\n",
        "all_scores = []\n",
        "for i, name in tqdm(enumerate(valid_x)):\n",
        "  path = os.path.join('kaggle-data/aug_train_images/', name+'.png')\n",
        "  image = cv2.imread(path)\n",
        "  image = cv2.resize(image, (SIZE, SIZE))\n",
        "\n",
        "  scores = model.evaluate((image[np.newaxis])/255, np.reshape(valid_y[i], (1,5)), verbose=0)\n",
        "  all_scores.append(scores)\n",
        "\n",
        "mean = np.mean(all_scores, axis=0)\n",
        "sd = np.std(all_scores, axis=0)\n",
        "print(\"Loss:    %.2f%% (+/- %.2f%%)\" % (mean[0], sd[0]))\n",
        "print(\"Accuracy:%.2f%% (+/- %.2f%%)\" % (mean[1], sd[1]))"
      ],
      "execution_count": 0,
      "outputs": []
    },
    {
      "cell_type": "code",
      "metadata": {
        "id": "tQIpfz-Hu16b",
        "colab_type": "code",
        "colab": {}
      },
      "source": [
        "history.history\n"
      ],
      "execution_count": 0,
      "outputs": []
    },
    {
      "cell_type": "code",
      "metadata": {
        "id": "4Q0hKyfFlOv1",
        "colab_type": "code",
        "colab": {}
      },
      "source": [
        "def check_model(hist):\n",
        "  \n",
        "  #Plot the curves\n",
        "  N = len(hist.history['loss'])\n",
        "\n",
        "  plt.style.use(\"ggplot\")\n",
        "  plt.figure()\n",
        "  plt.plot(np.arange(0, N), hist.history[\"loss\"], label=\"train_loss\")\n",
        "  plt.plot(np.arange(0, N), hist.history[\"val_loss\"], label=\"val_loss\")\n",
        " \n",
        "  plt.title(\"Training Loss on Dataset\")\n",
        "  plt.xlabel(\"Epoch #\")\n",
        "  plt.ylabel(\"Loss\")\n",
        "  plt.legend(loc=\"lower left\")\n",
        "  \n",
        "  \n",
        "  plt.style.use(\"ggplot\")\n",
        "  plt.figure()\n",
        "  plt.plot(np.arange(0, N), hist.history[\"lr\"], label=\"learning_rate\")\n",
        " \n",
        "  plt.title(\"Learning Rate on Dataset\")\n",
        "  plt.xlabel(\"Epoch #\")\n",
        "  plt.ylabel(\"LR\")\n",
        "  plt.legend(loc=\"lower left\")\n",
        "  \n",
        "  \n",
        "  #confusion matrix\n",
        "  preds = []\n",
        "  for i, name in tqdm(enumerate(valid_x)):\n",
        "      path = os.path.join('kaggle-data/aug_train_images/', name+'.png')\n",
        "      image = cv2.imread(path)\n",
        "  #     print(str(path))\n",
        "      image = cv2.resize(image, (SIZE, SIZE))\n",
        "      score_predict = model.predict((image[np.newaxis])/255)\n",
        "      label_predict = np.argmax(score_predict)\n",
        "      preds.append(label_predict)\n",
        "\n",
        "  valid_labels = np.argmax(valid_y, axis=-1)\n",
        "  \n",
        "  cm  = confusion_matrix(valid_labels, preds)\n",
        "  plt.figure()\n",
        "  plot_confusion_matrix(cm,figsize=(12,8), hide_ticks=True, cmap=plt.cm.Blues, show_normed=True, show_absolute=False)\n",
        "  plt.show()"
      ],
      "execution_count": 0,
      "outputs": []
    },
    {
      "cell_type": "code",
      "metadata": {
        "id": "qo48G_dEoSyD",
        "colab_type": "code",
        "colab": {
          "base_uri": "https://localhost:8080/",
          "height": 1000
        },
        "outputId": "38a7eff3-f212-4cfa-d438-21787b1bc79d"
      },
      "source": [
        "check_model(history)"
      ],
      "execution_count": 38,
      "outputs": [
        {
          "output_type": "stream",
          "text": [
            "1374it [01:02, 21.61it/s]\n"
          ],
          "name": "stderr"
        },
        {
          "output_type": "display_data",
          "data": {
            "image/png": "[encoded data removed]",
            "text/plain": [
              "<Figure size 432x288 with 1 Axes>"
            ]
          },
          "metadata": {
            "tags": []
          }
        },
        {
          "output_type": "display_data",
          "data": {
            "image/png": "[encoded data removed]",
            "text/plain": [
              "<Figure size 432x288 with 1 Axes>"
            ]
          },
          "metadata": {
            "tags": []
          }
        },
        {
          "output_type": "display_data",
          "data": {
            "text/plain": [
              "<Figure size 432x288 with 0 Axes>"
            ]
          },
          "metadata": {
            "tags": []
          }
        },
        {
          "output_type": "display_data",
          "data": {
            "image/png": "[encoded data removed]",
            "text/plain": [
              "<Figure size 864x576 with 1 Axes>"
            ]
          },
          "metadata": {
            "tags": []
          }
        }
      ]
    },
    {
      "cell_type": "markdown",
      "metadata": {
        "id": "0CLLokszc6Db",
        "colab_type": "text"
      },
      "source": [
        "# Save Model"
      ]
    },
    {
      "cell_type": "code",
      "metadata": {
        "id": "Pb014KlMdBNO",
        "colab_type": "code",
        "colab": {
          "base_uri": "https://localhost:8080/",
          "height": 34
        },
        "outputId": "df7ee78e-626d-4826-d24b-92b73fa99e47"
      },
      "source": [
        "%cd kaggle-data/model"
      ],
      "execution_count": 39,
      "outputs": [
        {
          "output_type": "stream",
          "text": [
            "/content/kaggle-data/model\n"
          ],
          "name": "stdout"
        }
      ]
    },
    {
      "cell_type": "code",
      "metadata": {
        "id": "-lGtLUhAcsEt",
        "colab_type": "code",
        "colab": {
          "base_uri": "https://localhost:8080/",
          "height": 34
        },
        "outputId": "48168c80-42f2-4f0f-8f1b-74f4b7219a32"
      },
      "source": [
        "!zip resnet50_aug2.zip Resnet50_bestqwk-0016-0.95.h5\n",
        "!cp resnet50_aug2.zip /content/gdrive/My\\ Drive/Colab\\ Notebooks/"
      ],
      "execution_count": 40,
      "outputs": [
        {
          "output_type": "stream",
          "text": [
            "  adding: Resnet50_bestqwk-0016-0.95.h5 (deflated 9%)\n"
          ],
          "name": "stdout"
        }
      ]
    },
    {
      "cell_type": "code",
      "metadata": {
        "id": "hyot1IM1dYNt",
        "colab_type": "code",
        "colab": {
          "base_uri": "https://localhost:8080/",
          "height": 34
        },
        "outputId": "ba3c230f-6cfe-4f50-f364-1259b252d675"
      },
      "source": [
        "%cd ../../"
      ],
      "execution_count": 41,
      "outputs": [
        {
          "output_type": "stream",
          "text": [
            "/content\n"
          ],
          "name": "stdout"
        }
      ]
    }
  ]
}