{
  "nbformat": 4,
  "nbformat_minor": 0,
  "metadata": {
    "colab": {
      "name": "Resnet-50 baseline.ipynb",
      "version": "0.3.2",
      "provenance": [],
      "include_colab_link": true
    },
    "kernelspec": {
      "name": "python3",
      "display_name": "Python 3"
    },
    "accelerator": "GPU"
  },
  "cells": [
    {
      "cell_type": "markdown",
      "metadata": {
        "id": "view-in-github",
        "colab_type": "text"
      },
      "source": [
        "<a href=\"https://colab.research.google.com/github/MittalNeha/retinopathy-kaggle/blob/master/Resnet_50_baseline.ipynb\" target=\"_parent\"><img src=\"https://colab.research.google.com/assets/colab-badge.svg\" alt=\"Open In Colab\"/></a>"
      ]
    },
    {
      "cell_type": "code",
      "metadata": {
        "id": "GMNM_ZaOgwPy",
        "colab_type": "code",
        "colab": {}
      },
      "source": [
        "# It is defined by the kaggle/python docker image: https://github.com/kaggle/docker-python\n",
        "# For example, here's several helpful packages to load in \n",
        "\n",
        "import os\n",
        "import glob\n",
        "import h5py\n",
        "import shutil\n",
        "import imgaug as aug\n",
        "import numpy as np # linear algebra\n",
        "import pandas as pd # data processing, CSV file I/O (e.g. pd.read_csv)\n",
        "import seaborn as sns\n",
        "import matplotlib.pyplot as plt\n",
        "import matplotlib.image as mimg\n",
        "import imgaug.augmenters as iaa\n",
        "from os import listdir, makedirs, getcwd, remove\n",
        "from os.path import isfile, join, abspath, exists, isdir, expanduser\n",
        "from PIL import Image\n",
        "from pathlib import Path\n",
        "from skimage.io import imread\n",
        "from skimage.transform import resize\n",
        "\n",
        "from keras.models import Sequential, Model\n",
        "from keras.applications.vgg16 import VGG16, preprocess_input\n",
        "from keras.preprocessing.image import ImageDataGenerator,load_img, img_to_array\n",
        "from keras.models import Sequential, load_model\n",
        "from keras.layers import (Activation, Conv2D, MaxPooling2D, Dense, Dropout, Input, Flatten, SeparableConv2D,\n",
        "                          Dense, BatchNormalization, GlobalAveragePooling2D)\n",
        "from keras.layers import GlobalMaxPooling2D\n",
        "from keras.layers.normalization import BatchNormalization\n",
        "from keras.layers.merge import Concatenate\n",
        "from keras.models import Model\n",
        "from keras.optimizers import Adam, SGD, RMSprop\n",
        "from keras.callbacks import ModelCheckpoint, Callback, EarlyStopping\n",
        "from keras.utils import Sequence\n",
        "from keras.utils import to_categorical\n",
        "from keras.losses import binary_crossentropy, categorical_crossentropy\n",
        "\n",
        "from keras.applications.resnet50 import ResNet50\n",
        "# from keras.applications.res\n",
        "\n",
        "from sklearn.model_selection import train_test_split\n",
        "from sklearn.preprocessing import StandardScaler\n",
        "from mlxtend.plotting import plot_confusion_matrix\n",
        "from keras import metrics\n",
        "from sklearn.metrics import confusion_matrix, cohen_kappa_score\n",
        "from sklearn.utils import class_weight, shuffle\n",
        "import cv2\n",
        "from keras import backend as K\n",
        "import tensorflow as tf\n",
        "\n",
        "from tqdm import tqdm\n",
        "\n",
        "color = sns.color_palette()\n",
        "%matplotlib inline\n",
        "\n",
        "# Input data files are available in the \"../input/\" directory.\n",
        "# For example, running this (by clicking run or pressing Shift+Enter) will list the files in the input directory\n"
      ],
      "execution_count": 0,
      "outputs": []
    },
    {
      "cell_type": "code",
      "metadata": {
        "id": "-jzw7yIaiaLR",
        "colab_type": "code",
        "colab": {}
      },
      "source": [
        "from google.colab import drive\n",
        "drive.mount('/content/gdrive')"
      ],
      "execution_count": 0,
      "outputs": []
    },
    {
      "cell_type": "code",
      "metadata": {
        "id": "Ao3wR7Axiaq1",
        "colab_type": "code",
        "colab": {}
      },
      "source": [
        "def get_kaggle_data():\n",
        "  os.environ['KAGGLE_USERNAME'] = \"mittalneha\"\n",
        "  os.environ['KAGGLE_KEY'] = \"59ec3f992f5fb4b510bebd8dea889381\"\n",
        "  \n",
        "  !kaggle competitions download -c aptos2019-blindness-detection\n",
        "  !kaggle datasets download -d keras/resnet50\n",
        "  \n",
        "  !mkdir kaggle-data\n",
        "  !mv sample_submission.csv kaggle-data/\n",
        "  !mv test.csv kaggle-data/\n",
        "  !mv train.csv kaggle-data/\n",
        "  !unzip test_images.zip -d kaggle-data/test_images\n",
        "#   !unzip train_images.zip -d kaggle-data/train_images\n",
        "#   !cp /content/gdrive/My\\ Drive/Colab\\ Notebooks/aug_train_images.zip .\n",
        "#   !cp /content/gdrive/My\\ Drive/Colab\\ Notebooks/aug_train.csv .\n",
        "  \n",
        "#   !unzip aug_train_images.zip\n",
        "#   !mv -r aug_train_images kaggle-data/\n",
        "#     !mv aug_train.csv kaggle-data/\n",
        "  \n",
        "  \n",
        "  !unzip resnet50.zip -d kaggle-data/resnet50/\n",
        "  "
      ],
      "execution_count": 0,
      "outputs": []
    },
    {
      "cell_type": "code",
      "metadata": {
        "id": "migL32nXiel8",
        "colab_type": "code",
        "colab": {}
      },
      "source": [
        "data_dir = \"kaggle-data\"\n",
        "get_kaggle_data()"
      ],
      "execution_count": 0,
      "outputs": []
    },
    {
      "cell_type": "code",
      "metadata": {
        "id": "VJlLRV1aiiv1",
        "colab_type": "code",
        "colab": {}
      },
      "source": [
        "WORKERS = 2\n",
        "CHANNEL = 3\n",
        "\n",
        "import warnings\n",
        "warnings.filterwarnings(\"ignore\")\n",
        "SIZE = 300\n",
        "NUM_CLASSES = 5"
      ],
      "execution_count": 0,
      "outputs": []
    },
    {
      "cell_type": "code",
      "metadata": {
        "id": "Lm4lMspKiqkU",
        "colab_type": "code",
        "colab": {
          "base_uri": "https://localhost:8080/",
          "height": 286
        },
        "outputId": "beda74e0-ded0-4552-c5a6-d1611924c871"
      },
      "source": [
        "df_train = pd.read_csv('kaggle-data/train.csv')\n",
        "df_test = pd.read_csv('kaggle-data/test.csv')\n",
        "\n",
        "x = df_train['id_code']\n",
        "y = df_train['diagnosis']\n",
        "\n",
        "x, y = shuffle(x, y, random_state=8)\n",
        "y.hist()\n"
      ],
      "execution_count": 6,
      "outputs": [
        {
          "output_type": "execute_result",
          "data": {
            "text/plain": [
              "<matplotlib.axes._subplots.AxesSubplot at 0x7fb150917358>"
            ]
          },
          "metadata": {
            "tags": []
          },
          "execution_count": 6
        },
        {
          "output_type": "display_data",
          "data": {
            "image/png": "[encoded data removed]",
            "text/plain": [
              "<Figure size 432x288 with 1 Axes>"
            ]
          },
          "metadata": {
            "tags": []
          }
        }
      ]
    },
    {
      "cell_type": "code",
      "metadata": {
        "id": "5K22T2Aiiv4l",
        "colab_type": "code",
        "colab": {
          "base_uri": "https://localhost:8080/",
          "height": 85
        },
        "outputId": "a1e3c638-2e87-41e4-d2eb-4f104835f853"
      },
      "source": [
        "y = to_categorical(y, num_classes=NUM_CLASSES)\n",
        "train_x, valid_x, train_y, valid_y = train_test_split(x, y, test_size=0.15,\n",
        "                                                      stratify=y, random_state=8)\n",
        "print(train_x.shape)\n",
        "print(train_y.shape)\n",
        "print(valid_x.shape)\n",
        "print(valid_y.shape)"
      ],
      "execution_count": 7,
      "outputs": [
        {
          "output_type": "stream",
          "text": [
            "(3112,)\n",
            "(3112, 5)\n",
            "(550,)\n",
            "(550, 5)\n"
          ],
          "name": "stdout"
        }
      ]
    },
    {
      "cell_type": "code",
      "metadata": {
        "id": "24XlFfhmi7Du",
        "colab_type": "code",
        "colab": {}
      },
      "source": [
        "class My_Generator(Sequence):\n",
        "\n",
        "    def __init__(self, image_filenames, labels,\n",
        "                 batch_size, is_train=True,\n",
        "                 mix=False, augment=False):\n",
        "        self.image_filenames, self.labels = image_filenames, labels\n",
        "        self.batch_size = batch_size\n",
        "        self.is_train = is_train\n",
        "        self.is_augment = augment\n",
        "        if(self.is_train):\n",
        "            self.on_epoch_end()\n",
        "        self.is_mix = mix\n",
        "\n",
        "    def __len__(self):\n",
        "        return int(np.ceil(len(self.image_filenames) / float(self.batch_size)))\n",
        "\n",
        "    def __getitem__(self, idx):\n",
        "        batch_x = self.image_filenames[idx * self.batch_size:(idx + 1) * self.batch_size]\n",
        "        batch_y = self.labels[idx * self.batch_size:(idx + 1) * self.batch_size]\n",
        "\n",
        "        if(self.is_train):\n",
        "            return self.train_generate(batch_x, batch_y)\n",
        "        return self.valid_generate(batch_x, batch_y)\n",
        "\n",
        "    def on_epoch_end(self):\n",
        "        if(self.is_train):\n",
        "            self.image_filenames, self.labels = shuffle(self.image_filenames, self.labels)\n",
        "        else:\n",
        "            pass\n",
        "    \n",
        "    def mix_up(self, x, y):\n",
        "        lam = np.random.beta(0.2, 0.4)\n",
        "        ori_index = np.arange(int(len(x)))\n",
        "        index_array = np.arange(int(len(x)))\n",
        "        np.random.shuffle(index_array)        \n",
        "        \n",
        "        mixed_x = lam * x[ori_index] + (1 - lam) * x[index_array]\n",
        "        mixed_y = lam * y[ori_index] + (1 - lam) * y[index_array]\n",
        "        \n",
        "        return mixed_x, mixed_y\n",
        "\n",
        "    def train_generate(self, batch_x, batch_y):\n",
        "        batch_images = []\n",
        "        for (sample, label) in zip(batch_x, batch_y):\n",
        "            img = cv2.imread('kaggle-data/train_images/'+sample+'.png')\n",
        "            img = cv2.resize(img, (SIZE, SIZE))\n",
        "#             if(self.is_augment):\n",
        "#                 img = seq.augment_image(img)\n",
        "            batch_images.append(img)\n",
        "        batch_images = np.array(batch_images, np.float32) / 255\n",
        "        batch_y = np.array(batch_y, np.float32)\n",
        "        if(self.is_mix):\n",
        "            batch_images, batch_y = self.mix_up(batch_images, batch_y)\n",
        "        return batch_images, batch_y\n",
        "\n",
        "    def valid_generate(self, batch_x, batch_y):\n",
        "        batch_images = []\n",
        "        for (sample, label) in zip(batch_x, batch_y):\n",
        "            img = cv2.imread('kaggle-data/train_images/'+sample+'.png')\n",
        "            img = cv2.resize(img, (SIZE, SIZE))\n",
        "            batch_images.append(img)\n",
        "        batch_images = np.array(batch_images, np.float32) / 255\n",
        "        batch_y = np.array(batch_y, np.float32)\n",
        "        return batch_images, batch_y"
      ],
      "execution_count": 0,
      "outputs": []
    },
    {
      "cell_type": "code",
      "metadata": {
        "id": "NmEdbXXQkyKX",
        "colab_type": "code",
        "colab": {}
      },
      "source": [
        "def create_model(input_shape, n_out):\n",
        "    input_tensor = Input(shape=input_shape)\n",
        "    base_model = ResNet50(include_top=False,\n",
        "                   weights=None,\n",
        "                   input_tensor=input_tensor)\n",
        "    base_model.load_weights('kaggle-data/resnet50/resnet50_weights_tf_dim_ordering_tf_kernels_notop.h5')\n",
        "    x = GlobalAveragePooling2D()(base_model.output)\n",
        "    x = Dropout(0.5)(x)\n",
        "    x = Dense(1024, activation='relu')(x)\n",
        "    x = Dropout(0.5)(x)\n",
        "    final_output = Dense(n_out, activation='softmax', name='final_output')(x)\n",
        "    model = Model(input_tensor, final_output)\n",
        "    \n",
        "    return model"
      ],
      "execution_count": 0,
      "outputs": []
    },
    {
      "cell_type": "code",
      "metadata": {
        "id": "rPw_sCSe2A0v",
        "colab_type": "code",
        "colab": {}
      },
      "source": [
        "!mkdir 'kaggle-data/model'"
      ],
      "execution_count": 0,
      "outputs": []
    },
    {
      "cell_type": "code",
      "metadata": {
        "id": "wvA3rgEzk1PN",
        "colab_type": "code",
        "colab": {}
      },
      "source": [
        "# create callbacks list\n",
        "from keras.callbacks import (ModelCheckpoint, LearningRateScheduler,\n",
        "                             EarlyStopping, ReduceLROnPlateau,CSVLogger)\n",
        "\n",
        "epochs = 30; batch_size = 16\n",
        "checkpoint = ModelCheckpoint('kaggle-data/model/Resnet50.h5', monitor='val_loss', verbose=1, \n",
        "                             save_best_only=True, mode='min', save_weights_only = True)\n",
        "reduceLROnPlat = ReduceLROnPlateau(monitor='val_loss', factor=0.5, patience=4, \n",
        "                                   verbose=1, mode='auto', epsilon=0.0001)\n",
        "early = EarlyStopping(monitor=\"val_loss\", \n",
        "                      mode=\"min\", \n",
        "                      patience=9)\n",
        "\n",
        "csv_logger = CSVLogger(filename='kaggle-data/model/training_log.csv',\n",
        "                       separator=',',\n",
        "                       append=True)\n",
        "# callbacks_list = [checkpoint, csv_logger, reduceLROnPlat, early]\n",
        "\n",
        "train_generator = My_Generator(train_x, train_y, 128, is_train=True)\n",
        "train_mixup = My_Generator(train_x, train_y, batch_size, is_train=True, mix=False, augment=True)\n",
        "valid_generator = My_Generator(valid_x, valid_y, batch_size, is_train=False)\n",
        "\n",
        "model = create_model(\n",
        "    input_shape=(SIZE,SIZE,3), \n",
        "    n_out=NUM_CLASSES)"
      ],
      "execution_count": 0,
      "outputs": []
    },
    {
      "cell_type": "code",
      "metadata": {
        "id": "gzzdycCKk5f8",
        "colab_type": "code",
        "colab": {}
      },
      "source": [
        "# reference link: https://www.kaggle.com/christofhenkel/weighted-kappa-loss-for-keras-tensorflow\n",
        "def kappa_loss(y_true, y_pred, y_pow=2, eps=1e-12, N=5, bsize=32, name='kappa'):\n",
        "    \"\"\"A continuous differentiable approximation of discrete kappa loss.\n",
        "        Args:\n",
        "            y_pred: 2D tensor or array, [batch_size, num_classes]\n",
        "            y_true: 2D tensor or array,[batch_size, num_classes]\n",
        "            y_pow: int,  e.g. y_pow=2\n",
        "            N: typically num_classes of the model\n",
        "            bsize: batch_size of the training or validation ops\n",
        "            eps: a float, prevents divide by zero\n",
        "            name: Optional scope/name for op_scope.\n",
        "        Returns:\n",
        "            A tensor with the kappa loss.\"\"\"\n",
        "\n",
        "    with tf.name_scope(name):\n",
        "        y_true = tf.to_float(y_true)\n",
        "        repeat_op = tf.to_float(tf.tile(tf.reshape(tf.range(0, N), [N, 1]), [1, N]))\n",
        "        repeat_op_sq = tf.square((repeat_op - tf.transpose(repeat_op)))\n",
        "        weights = repeat_op_sq / tf.to_float((N - 1) ** 2)\n",
        "    \n",
        "        pred_ = y_pred ** y_pow\n",
        "        try:\n",
        "            pred_norm = pred_ / (eps + tf.reshape(tf.reduce_sum(pred_, 1), [-1, 1]))\n",
        "        except Exception:\n",
        "            pred_norm = pred_ / (eps + tf.reshape(tf.reduce_sum(pred_, 1), [bsize, 1]))\n",
        "    \n",
        "        hist_rater_a = tf.reduce_sum(pred_norm, 0)\n",
        "        hist_rater_b = tf.reduce_sum(y_true, 0)\n",
        "    \n",
        "        conf_mat = tf.matmul(tf.transpose(pred_norm), y_true)\n",
        "    \n",
        "        nom = tf.reduce_sum(weights * conf_mat)\n",
        "        denom = tf.reduce_sum(weights * tf.matmul(\n",
        "            tf.reshape(hist_rater_a, [N, 1]), tf.reshape(hist_rater_b, [1, N])) /\n",
        "                              tf.to_float(bsize))\n",
        "    \n",
        "        return nom*0.5 / (denom + eps) + categorical_crossentropy(y_true, y_pred)*0.5"
      ],
      "execution_count": 0,
      "outputs": []
    },
    {
      "cell_type": "code",
      "metadata": {
        "id": "LAAUbglclAkt",
        "colab_type": "code",
        "colab": {}
      },
      "source": [
        "from keras.callbacks import Callback\n",
        "class QWKEvaluation(Callback):\n",
        "    def __init__(self, validation_data=(), batch_size=64, interval=1):\n",
        "        super(Callback, self).__init__()\n",
        "\n",
        "        self.interval = interval\n",
        "        self.batch_size = batch_size\n",
        "        self.valid_generator, self.y_val = validation_data\n",
        "        self.history = []\n",
        "\n",
        "    def on_epoch_end(self, epoch, logs={}):\n",
        "        if epoch % self.interval == 0:\n",
        "            y_pred = self.model.predict_generator(generator=self.valid_generator,\n",
        "                                                  steps=np.ceil(float(len(self.y_val)) / float(self.batch_size)),\n",
        "                                                  workers=1, use_multiprocessing=False,\n",
        "                                                  verbose=1)\n",
        "            def flatten(y):\n",
        "                return np.argmax(y, axis=1).reshape(-1)\n",
        "            \n",
        "            score = cohen_kappa_score(flatten(self.y_val),\n",
        "                                      flatten(y_pred),\n",
        "                                      labels=[0,1,2,3,4],\n",
        "                                      weights='quadratic')\n",
        "            print(\"\\n epoch: %d - QWK_score: %.6f \\n\" % (epoch+1, score))\n",
        "            self.history.append(score)\n",
        "            if score >= max(self.history):\n",
        "                print('saving checkpoint: ', score)\n",
        "                self.model.save('kaggle-data/model/Resnet50_bestqwk.h5')\n",
        "\n",
        "qwk = QWKEvaluation(validation_data=(valid_generator, valid_y),\n",
        "                    batch_size=batch_size, interval=1)"
      ],
      "execution_count": 0,
      "outputs": []
    },
    {
      "cell_type": "code",
      "metadata": {
        "id": "d5da7rwx4weq",
        "colab_type": "code",
        "colab": {
          "base_uri": "https://localhost:8080/",
          "height": 34
        },
        "outputId": "bae46fde-6212-4d63-f6dc-1df82a811261"
      },
      "source": [
        "train_y.shape"
      ],
      "execution_count": 14,
      "outputs": [
        {
          "output_type": "execute_result",
          "data": {
            "text/plain": [
              "(3112, 5)"
            ]
          },
          "metadata": {
            "tags": []
          },
          "execution_count": 14
        }
      ]
    },
    {
      "cell_type": "code",
      "metadata": {
        "id": "FD-AovJglBXF",
        "colab_type": "code",
        "colab": {
          "base_uri": "https://localhost:8080/",
          "height": 289
        },
        "outputId": "92f4ab12-35ba-46d4-f5c8-0ff327ae0b61"
      },
      "source": [
        "# warm up model\n",
        "for layer in model.layers:\n",
        "    layer.trainable = False\n",
        "\n",
        "for i in range(-3,0):\n",
        "    model.layers[i].trainable = True\n",
        "\n",
        "model.compile(\n",
        "    loss='categorical_crossentropy',\n",
        "    optimizer=Adam(1e-3))\n",
        "\n",
        "model.fit_generator(\n",
        "    train_generator,\n",
        "    steps_per_epoch=np.ceil(float(len(train_y)) / float(128)),\n",
        "    epochs=2,\n",
        "    workers=WORKERS, use_multiprocessing=True,\n",
        "    verbose=1,\n",
        "    callbacks=[qwk])"
      ],
      "execution_count": 31,
      "outputs": [
        {
          "output_type": "stream",
          "text": [
            "Epoch 1/2\n",
            "24/25 [===========================>..] - ETA: 8s - loss: 1.2800 Epoch 1/2\n",
            "25/25 [==============================] - 206s 8s/step - loss: 1.2608\n",
            "35/35 [==============================] - 110s 3s/step\n",
            "\n",
            " epoch: 1 - QWK_score: 0.000000 \n",
            "\n",
            "saving checkpoint:  0.0\n",
            "Epoch 2/2\n",
            "25/25 [==============================] - 118s 5s/step - loss: 0.6907\n",
            "35/35 [==============================] - 106s 3s/step\n",
            "\n",
            " epoch: 2 - QWK_score: 0.000000 \n",
            "\n",
            "saving checkpoint:  0.0\n"
          ],
          "name": "stdout"
        },
        {
          "output_type": "execute_result",
          "data": {
            "text/plain": [
              "<keras.callbacks.History at 0x7fb0e3e1ceb8>"
            ]
          },
          "metadata": {
            "tags": []
          },
          "execution_count": 31
        }
      ]
    },
    {
      "cell_type": "code",
      "metadata": {
        "id": "nuXpIgx0lEQd",
        "colab_type": "code",
        "colab": {
          "base_uri": "https://localhost:8080/",
          "height": 1000
        },
        "outputId": "178a2876-70b6-4459-a14d-de992f3fff5b"
      },
      "source": [
        "# train all layers\n",
        "for layer in model.layers:\n",
        "    layer.trainable = True\n",
        "\n",
        "callbacks_list = [checkpoint, csv_logger, reduceLROnPlat, early, qwk]\n",
        "model.compile(\n",
        "    #loss='categorical_crossentropy',\n",
        "             loss=kappa_loss,\n",
        "            optimizer=Adam(lr=1e-4))\n",
        "\n",
        "history = model.fit_generator(\n",
        "    train_mixup,\n",
        "    steps_per_epoch=np.ceil(float(len(train_x)) / float(batch_size)),\n",
        "    validation_data=valid_generator,\n",
        "    validation_steps=np.ceil(float(len(valid_x)) / float(batch_size)),\n",
        "    epochs=epochs,\n",
        "    verbose=1,\n",
        "    workers=1, use_multiprocessing=False,\n",
        "    callbacks=callbacks_list)"
      ],
      "execution_count": 32,
      "outputs": [
        {
          "output_type": "stream",
          "text": [
            "Epoch 1/30\n",
            "195/195 [==============================] - 373s 2s/step - loss: 0.5444 - val_loss: 0.4088\n",
            "\n",
            "Epoch 00001: val_loss improved from inf to 0.40878, saving model to kaggle-data/model/Resnet50.h5\n",
            "35/35 [==============================] - 56s 2s/step\n",
            "\n",
            " epoch: 1 - QWK_score: 0.883428 \n",
            "\n",
            "saving checkpoint:  0.8834282848144951\n",
            "Epoch 2/30\n",
            "195/195 [==============================] - 328s 2s/step - loss: 0.3747 - val_loss: 0.3861\n",
            "\n",
            "Epoch 00002: val_loss improved from 0.40878 to 0.38610, saving model to kaggle-data/model/Resnet50.h5\n",
            "35/35 [==============================] - 55s 2s/step\n",
            "\n",
            " epoch: 2 - QWK_score: 0.896923 \n",
            "\n",
            "saving checkpoint:  0.8969229080682805\n",
            "Epoch 3/30\n",
            "195/195 [==============================] - 328s 2s/step - loss: 0.2804 - val_loss: 0.4767\n",
            "\n",
            "Epoch 00003: val_loss did not improve from 0.38610\n",
            "35/35 [==============================] - 54s 2s/step\n",
            "\n",
            " epoch: 3 - QWK_score: 0.851743 \n",
            "\n",
            "Epoch 4/30\n",
            "195/195 [==============================] - 327s 2s/step - loss: 0.2517 - val_loss: 0.3718\n",
            "\n",
            "Epoch 00004: val_loss improved from 0.38610 to 0.37182, saving model to kaggle-data/model/Resnet50.h5\n",
            "35/35 [==============================] - 54s 2s/step\n",
            "\n",
            " epoch: 4 - QWK_score: 0.898558 \n",
            "\n",
            "saving checkpoint:  0.8985583166901309\n",
            "Epoch 5/30\n",
            "195/195 [==============================] - 330s 2s/step - loss: 0.2053 - val_loss: 0.4112\n",
            "\n",
            "Epoch 00005: val_loss did not improve from 0.37182\n",
            "35/35 [==============================] - 54s 2s/step\n",
            "\n",
            " epoch: 5 - QWK_score: 0.896401 \n",
            "\n",
            "Epoch 6/30\n",
            "195/195 [==============================] - 328s 2s/step - loss: 0.1775 - val_loss: 0.4245\n",
            "\n",
            "Epoch 00006: val_loss did not improve from 0.37182\n",
            "35/35 [==============================] - 54s 2s/step\n",
            "\n",
            " epoch: 6 - QWK_score: 0.879389 \n",
            "\n",
            "Epoch 7/30\n",
            "195/195 [==============================] - 331s 2s/step - loss: 0.1222 - val_loss: 0.4182\n",
            "\n",
            "Epoch 00007: val_loss did not improve from 0.37182\n",
            "35/35 [==============================] - 54s 2s/step\n",
            "\n",
            " epoch: 7 - QWK_score: 0.887522 \n",
            "\n",
            "Epoch 8/30\n",
            "195/195 [==============================] - 332s 2s/step - loss: 0.1101 - val_loss: 0.4059\n",
            "\n",
            "Epoch 00008: val_loss did not improve from 0.37182\n",
            "\n",
            "Epoch 00008: ReduceLROnPlateau reducing learning rate to 4.999999873689376e-05.\n",
            "35/35 [==============================] - 52s 1s/step\n",
            "\n",
            " epoch: 8 - QWK_score: 0.899555 \n",
            "\n",
            "saving checkpoint:  0.899555262245853\n",
            "Epoch 9/30\n",
            "195/195 [==============================] - 332s 2s/step - loss: 0.0637 - val_loss: 0.4285\n",
            "\n",
            "Epoch 00009: val_loss did not improve from 0.37182\n",
            "35/35 [==============================] - 54s 2s/step\n",
            "\n",
            " epoch: 9 - QWK_score: 0.899229 \n",
            "\n",
            "Epoch 10/30\n",
            "195/195 [==============================] - 332s 2s/step - loss: 0.0438 - val_loss: 0.4602\n",
            "\n",
            "Epoch 00010: val_loss did not improve from 0.37182\n",
            "35/35 [==============================] - 54s 2s/step\n",
            "\n",
            " epoch: 10 - QWK_score: 0.894513 \n",
            "\n",
            "Epoch 11/30\n",
            "195/195 [==============================] - 332s 2s/step - loss: 0.0391 - val_loss: 0.4799\n",
            "\n",
            "Epoch 00011: val_loss did not improve from 0.37182\n",
            "35/35 [==============================] - 54s 2s/step\n",
            "\n",
            " epoch: 11 - QWK_score: 0.912122 \n",
            "\n",
            "saving checkpoint:  0.9121223977270633\n",
            "Epoch 12/30\n",
            "195/195 [==============================] - 333s 2s/step - loss: 0.0287 - val_loss: 0.4817\n",
            "\n",
            "Epoch 00012: val_loss did not improve from 0.37182\n",
            "\n",
            "Epoch 00012: ReduceLROnPlateau reducing learning rate to 2.499999936844688e-05.\n",
            "35/35 [==============================] - 55s 2s/step\n",
            "\n",
            " epoch: 12 - QWK_score: 0.887247 \n",
            "\n",
            "Epoch 13/30\n",
            "195/195 [==============================] - 334s 2s/step - loss: 0.0230 - val_loss: 0.5015\n",
            "\n",
            "Epoch 00013: val_loss did not improve from 0.37182\n",
            "35/35 [==============================] - 55s 2s/step\n",
            "\n",
            " epoch: 13 - QWK_score: 0.894828 \n",
            "\n"
          ],
          "name": "stdout"
        },
        {
          "output_type": "execute_result",
          "data": {
            "text/plain": [
              "<keras.callbacks.History at 0x7fb0e2ed6c18>"
            ]
          },
          "metadata": {
            "tags": []
          },
          "execution_count": 32
        }
      ]
    },
    {
      "cell_type": "code",
      "metadata": {
        "id": "4Q0hKyfFlOv1",
        "colab_type": "code",
        "colab": {}
      },
      "source": [
        "def check_model(hist):\n",
        "  \n",
        "  #Plot the curves\n",
        "  N = len(hist.history['loss'])\n",
        "  plt.style.use(\"ggplot\")\n",
        "  plt.figure()\n",
        "  plt.plot(np.arange(0, N), hist.history[\"loss\"], label=\"train_loss\")\n",
        "  plt.plot(np.arange(0, N), hist.history[\"val_loss\"], label=\"val_loss\")\n",
        "  plt.plot(np.arange(0, N), hist.history[\"acc\"], label=\"train_acc\")\n",
        "  plt.plot(np.arange(0, N), hist.history[\"val_acc\"], label=\"val_acc\")\n",
        "  plt.title(\"Training Loss and Accuracy on Dataset\")\n",
        "  plt.xlabel(\"Epoch #\")\n",
        "  plt.ylabel(\"Loss/Accuracy\")\n",
        "  plt.legend(loc=\"lower left\")\n",
        "  \n",
        "  \n",
        "  #confusion matrix\n",
        "  preds = []\n",
        "  for i, name in tqdm(enumerate(valid_x)):\n",
        "      path = os.path.join('kaggle-data/train_images/', name+'.png')\n",
        "      image = cv2.imread(path)\n",
        "  #     print(str(path))\n",
        "      image = cv2.resize(image, (SIZE, SIZE))\n",
        "      score_predict = model.predict((image[np.newaxis])/255)\n",
        "      label_predict = np.argmax(score_predict)\n",
        "      preds.append(label_predict)\n",
        "\n",
        "  valid_labels = np.argmax(valid_y, axis=-1)\n",
        "  \n",
        "  cm  = confusion_matrix(valid_labels, preds)\n",
        "  plt.figure()\n",
        "  plot_confusion_matrix(cm,figsize=(12,8), hide_ticks=True, cmap=plt.cm.Blues, show_normed=True, show_absolute=False)\n",
        "  plt.show()"
      ],
      "execution_count": 0,
      "outputs": []
    },
    {
      "cell_type": "code",
      "metadata": {
        "id": "qo48G_dEoSyD",
        "colab_type": "code",
        "colab": {}
      },
      "source": [
        "check_model(history)"
      ],
      "execution_count": 0,
      "outputs": []
    }
  ]
}